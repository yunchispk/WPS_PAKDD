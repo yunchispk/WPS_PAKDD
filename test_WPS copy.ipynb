{
 "cells": [
  {
   "attachments": {},
   "cell_type": "markdown",
   "id": "20f448fb",
   "metadata": {},
   "source": [
    "# train"
   ]
  },
  {
   "cell_type": "code",
   "execution_count": 1,
   "id": "07aceafb",
   "metadata": {},
   "outputs": [
    {
     "name": "stderr",
     "output_type": "stream",
     "text": [
      "/home/yons/anaconda3/envs/qisibo_TS_to/lib/python3.7/site-packages/tqdm/auto.py:22: TqdmWarning: IProgress not found. Please update jupyter and ipywidgets. See https://ipywidgets.readthedocs.io/en/stable/user_install.html\n",
      "  from .autonotebook import tqdm as notebook_tqdm\n"
     ]
    },
    {
     "name": "stdout",
     "output_type": "stream",
     "text": [
      "(50000, 38) (50000, 38) (50000,)\n",
      "(50000, 38) (50000, 38) (50000,)\n",
      "======================TEST MODE======================\n",
      "bb (49994,)\n",
      "test_labels:      (49994,)\n",
      "aa (49994,) (49994,)\n",
      "Finding best f1-score by searching for threshold..\n",
      "{'Accuracy': 0.9948593831259751,\n",
      " 'FN': 203,\n",
      " 'FP': 54,\n",
      " 'TN': 46098,\n",
      " 'TP': 3639,\n",
      " 'f1': 0.9658875010761699,\n",
      " 'latency': 98.44389753390259,\n",
      " 'precision': 0.9853777390052051,\n",
      " 'recall': 0.9471629335055624,\n",
      " 'threshold': 0.17415999999999998}\n",
      "(50000, 38) (50000, 38) (50000,)\n",
      "(50000, 38) (50000, 38) (50000,)\n",
      "======================TEST MODE======================\n",
      "bb (49994,)\n",
      "test_labels:      (49994,)\n",
      "aa (49994,) (49994,)\n",
      "Finding best f1-score by searching for threshold..\n",
      "{'Accuracy': 0.9952794335320239,\n",
      " 'FN': 203,\n",
      " 'FP': 33,\n",
      " 'TN': 46119,\n",
      " 'TP': 3639,\n",
      " 'f1': 0.9685869616785561,\n",
      " 'latency': 150.44360864661863,\n",
      " 'precision': 0.9910130691965875,\n",
      " 'recall': 0.9471629335055624,\n",
      " 'threshold': 0.18081999999999998}\n",
      "(50000, 38) (50000, 38) (50000,)\n",
      "(50000, 38) (50000, 38) (50000,)\n",
      "======================TEST MODE======================\n",
      "bb (49994,)\n",
      "test_labels:      (49994,)\n",
      "aa (49994,) (49994,)\n",
      "Finding best f1-score by searching for threshold..\n",
      "{'Accuracy': 0.9948393807256871,\n",
      " 'FN': 244,\n",
      " 'FP': 14,\n",
      " 'TN': 46138,\n",
      " 'TP': 3598,\n",
      " 'f1': 0.965382713491979,\n",
      " 'latency': 158.7637719778119,\n",
      " 'precision': 0.9961240282499334,\n",
      " 'recall': 0.9364914082860712,\n",
      " 'threshold': 0.19413999999999998}\n",
      "(50000, 38) (50000, 38) (50000,)\n",
      "(50000, 38) (50000, 38) (50000,)\n",
      "======================TEST MODE======================\n",
      "bb (49994,)\n",
      "test_labels:      (49994,)\n",
      "aa (49994,) (49994,)\n",
      "Finding best f1-score by searching for threshold..\n",
      "{'Accuracy': 0.9952594311317358,\n",
      " 'FN': 203,\n",
      " 'FP': 34,\n",
      " 'TN': 46118,\n",
      " 'TP': 3639,\n",
      " 'f1': 0.9684580738293007,\n",
      " 'latency': 104.27719846000856,\n",
      " 'precision': 0.9907432589416192,\n",
      " 'recall': 0.9471629335055624,\n",
      " 'threshold': 0.18081999999999998}\n",
      "(50000, 38) (50000, 38) (50000,)\n",
      "(50000, 38) (50000, 38) (50000,)\n",
      "======================TEST MODE======================\n",
      "bb (49994,)\n",
      "test_labels:      (49994,)\n",
      "aa (49994,) (49994,)\n",
      "Finding best f1-score by searching for threshold..\n",
      "{'Accuracy': 0.9949393927271273,\n",
      " 'FN': 203,\n",
      " 'FP': 50,\n",
      " 'TN': 46102,\n",
      " 'TP': 3639,\n",
      " 'f1': 0.9664005233578951,\n",
      " 'latency': 87.11062716318243,\n",
      " 'precision': 0.9864461887057571,\n",
      " 'recall': 0.9471629335055624,\n",
      " 'threshold': 0.17415999999999998}\n",
      "(50000, 38) (50000, 38) (50000,)\n",
      "(50000, 38) (50000, 38) (50000,)\n",
      "======================TEST MODE======================\n",
      "bb (49994,)\n",
      "test_labels:      (49994,)\n",
      "aa (49994,) (49994,)\n",
      "Finding best f1-score by searching for threshold..\n",
      "{'Accuracy': 0.9955194623354803,\n",
      " 'FN': 203,\n",
      " 'FP': 21,\n",
      " 'TN': 46131,\n",
      " 'TP': 3639,\n",
      " 'f1': 0.9701362960366632,\n",
      " 'latency': 151.72137932567043,\n",
      " 'precision': 0.9942622923654035,\n",
      " 'recall': 0.9471629335055624,\n",
      " 'threshold': 0.18747999999999998}\n",
      "(50000, 38) (50000, 38) (50000,)\n",
      "(50000, 38) (50000, 38) (50000,)\n",
      "======================TEST MODE======================\n",
      "bb (49994,)\n",
      "test_labels:      (49994,)\n",
      "aa (49994,) (49994,)\n",
      "Finding best f1-score by searching for threshold..\n",
      "{'Accuracy': 0.9953394407328879,\n",
      " 'FN': 203,\n",
      " 'FP': 30,\n",
      " 'TN': 46122,\n",
      " 'TP': 3639,\n",
      " 'f1': 0.9689738311459789,\n",
      " 'latency': 121.55488025066528,\n",
      " 'precision': 0.9918233824153082,\n",
      " 'recall': 0.9471629335055624,\n",
      " 'threshold': 0.18081999999999998}\n",
      "(50000, 38) (50000, 38) (50000,)\n",
      "(50000, 38) (50000, 38) (50000,)\n",
      "======================TEST MODE======================\n",
      "bb (49994,)\n",
      "test_labels:      (49994,)\n",
      "aa (49994,) (49994,)\n",
      "Finding best f1-score by searching for threshold..\n",
      "{'Accuracy': 0.994819378325399,\n",
      " 'FN': 244,\n",
      " 'FP': 15,\n",
      " 'TN': 46137,\n",
      " 'TP': 3598,\n",
      " 'f1': 0.9652532181165995,\n",
      " 'latency': 158.7637719778119,\n",
      " 'precision': 0.9958483227349894,\n",
      " 'recall': 0.9364914082860712,\n",
      " 'threshold': 0.19413999999999998}\n",
      "(50000, 38) (50000, 38) (50000,)\n",
      "(50000, 38) (50000, 38) (50000,)\n",
      "======================TEST MODE======================\n",
      "bb (49994,)\n",
      "test_labels:      (49994,)\n",
      "aa (49994,) (49994,)\n",
      "Finding best f1-score by searching for threshold..\n",
      "{'Accuracy': 0.9952594311317358,\n",
      " 'FN': 203,\n",
      " 'FP': 34,\n",
      " 'TN': 46118,\n",
      " 'TP': 3639,\n",
      " 'f1': 0.9684580738293007,\n",
      " 'latency': 149.6658351898045,\n",
      " 'precision': 0.9907432589416192,\n",
      " 'recall': 0.9471629335055624,\n",
      " 'threshold': 0.18081999999999998}\n",
      "(50000, 38) (50000, 38) (50000,)\n",
      "(50000, 38) (50000, 38) (50000,)\n",
      "======================TEST MODE======================\n",
      "bb (49994,)\n",
      "test_labels:      (49994,)\n",
      "aa (49994,) (49994,)\n",
      "Finding best f1-score by searching for threshold..\n",
      "{'Accuracy': 0.9953194383326,\n",
      " 'FN': 203,\n",
      " 'FP': 31,\n",
      " 'TN': 46121,\n",
      " 'TP': 3639,\n",
      " 'f1': 0.9688448403231893,\n",
      " 'latency': 149.6102799428892,\n",
      " 'precision': 0.9915531308132066,\n",
      " 'recall': 0.9471629335055624,\n",
      " 'threshold': 0.18081999999999998}\n"
     ]
    }
   ],
   "source": [
    "\n",
    "import os\n",
    "\n",
    "from torch.backends import cudnn\n",
    "from utils.utils import *\n",
    "\n",
    "from solver import Solver\n",
    "config={\n",
    "    'num_epochs': 1,\n",
    "    'win_size': 6, \n",
    "    'batch_size': 32, \n",
    "#     'batch_size': 4096, \n",
    "    'mode': 'train', \n",
    "    'dataset': 'PSM', \n",
    "    'data_path': 'dataset/PSM',\n",
    "    'input_c': 25,\n",
    "    'seed': 3,\n",
    "    'lr': 1e-4,\n",
    "    'model_save_path':'checkpoints',\n",
    "    'latent_dim':100,\n",
    "    'alpha':0.7,\n",
    "    'beta':1,\n",
    "    'b1':0.5,\n",
    "    'b2':0.999\n",
    "\n",
    "}\n",
    "# datasets = ['MSL','SMAP','SWaT','SMD','PSM']\n",
    "# datasets = ['MSL','SMAP','SMD','PSM']\n",
    "datasets = ['SMD']\n",
    "# methods = ['USAD','OmniAnomaly','MAD_GAN','MSCRED','DAGMM','OmniAnomaly']\n",
    "\n",
    "\n",
    "for i in range(10):\n",
    "    config['seed'] = i\n",
    "    for dataset in datasets:\n",
    "        if dataset == 'SMD':\n",
    "                config['input_c'] = 38\n",
    "                config['dataset'] = 'SMD'\n",
    "                config['data_path'] = 'dataset/SMD'\n",
    "                config['anormly_ratio'] = 0.5\n",
    "        elif dataset == 'PSM':\n",
    "                config['input_c'] = 25\n",
    "                config['dataset'] = 'PSM'\n",
    "                config['data_path'] = 'dataset/PSM'\n",
    "        elif dataset == 'MSL':\n",
    "                config['input_c'] = 55\n",
    "                config['dataset'] = 'MSL'\n",
    "                config['data_path'] = 'dataset/MSL'\n",
    "        elif dataset == 'SMAP':\n",
    "                config['input_c'] = 25\n",
    "                config['dataset'] = 'SMAP'\n",
    "                config['data_path'] = 'dataset/SMAP'\n",
    "        elif dataset == 'SWaT':\n",
    "                config['input_c'] = 50\n",
    "                config['dataset'] = 'SWaT'\n",
    "                config['data_path'] = 'dataset/SWaT'\n",
    "                config['anormly_ratio'] = 0.1\n",
    "\n",
    "        np.random.seed(config['seed'])\n",
    "        torch.manual_seed(config['seed'])\n",
    "        torch.cuda.manual_seed(config['seed'])\n",
    "        cudnn.benchmark = True\n",
    "        if (not os.path.exists(config['model_save_path'])):\n",
    "                mkdir(config['model_save_path'])\n",
    "\n",
    "        solver = Solver(config)\n",
    "\n",
    "        # solver.train()\n",
    "        solver.test()"
   ]
  },
  {
   "cell_type": "code",
   "execution_count": 6,
   "id": "cead711b",
   "metadata": {},
   "outputs": [
    {
     "name": "stdout",
     "output_type": "stream",
     "text": [
      "0.9951434172100653 0.991393467136963 0.9450286284616644 0.9676382032885632\n"
     ]
    }
   ],
   "source": [
    "import numpy as np\n",
    "\n",
    "Accuracy = [0.9948593831259751, 0.9952794335320239, 0.9948393807256871,0.9952594311317358,\n",
    "            0.9949393927271273,0.9955194623354803,0.9953394407328879,0.994819378325399,\n",
    "            0.9952594311317358,0.9953194383326] \n",
    "precision = [0.9853777390052051,0.9910130691965875,0.9961240282499334,0.9907432589416192,\n",
    "             0.9864461887057571,0.9942622923654035,0.9918233824153082,0.9958483227349894,\n",
    "             0.9907432589416192,0.9915531308132066]\n",
    "recall = [0.9471629335055624,0.9471629335055624,0.9364914082860712,0.9471629335055624,\n",
    "          0.9471629335055624,0.9471629335055624,0.9471629335055624,0.9364914082860712,\n",
    "          0.9471629335055624,0.9471629335055624]\n",
    "f1 = [0.9658875010761699,0.9685869616785561,0.965382713491979,0.9684580738293007,\n",
    "      0.9664005233578951,0.9701362960366632,0.9689738311459789,0.9652532181165995,\n",
    "      0.9684580738293007,0.9688448403231893]\n",
    "\n",
    "avg_Accuracy = np.average(Accuracy)\n",
    "avg_precision = np.average(precision)\n",
    "avg_recall = np.average(recall)\n",
    "avg_f1 = np.average(f1)\n",
    "\n",
    "print(avg_Accuracy,avg_precision,avg_recall,avg_f1)"
   ]
  },
  {
   "attachments": {},
   "cell_type": "markdown",
   "id": "471258e5",
   "metadata": {},
   "source": [
    "#余下三个数据集补充"
   ]
  },
  {
   "cell_type": "code",
   "execution_count": 25,
   "id": "6d2f8435",
   "metadata": {},
   "outputs": [
    {
     "name": "stdout",
     "output_type": "stream",
     "text": [
      "(20000, 55) (20000, 55) (20000,)\n",
      "(20000, 55) (20000, 55) (20000,)\n",
      "Generator(\n",
      "  (norm1): LayerNorm((55,), eps=1e-05, elementwise_affine=True)\n",
      "  (norm2): LayerNorm((55,), eps=1e-05, elementwise_affine=True)\n",
      "  (conv): Sequential(\n",
      "    (0): Dropout(p=0.2, inplace=False)\n",
      "    (1): ConvLayer(\n",
      "      (padding): ConstantPad1d(padding=(1, 1), value=0.0)\n",
      "      (conv): Conv1d(55, 55, kernel_size=(3,), stride=(1,))\n",
      "      (relu): LeakyReLU(negative_slope=True)\n",
      "    )\n",
      "  )\n",
      "  (discriminator): Sequential(\n",
      "    (0): Linear(in_features=55, out_features=28, bias=True)\n",
      "    (1): LeakyReLU(negative_slope=True)\n",
      "    (2): Linear(in_features=28, out_features=28, bias=True)\n",
      "    (3): LeakyReLU(negative_slope=True)\n",
      "    (4): Linear(in_features=28, out_features=55, bias=True)\n",
      "    (5): Sigmoid()\n",
      "  )\n",
      ")\n",
      "Discriminator(\n",
      "  (norm2): LayerNorm((55,), eps=1e-05, elementwise_affine=True)\n",
      "  (conv): Sequential(\n",
      "    (0): Dropout(p=0.2, inplace=False)\n",
      "    (1): ConvLayer(\n",
      "      (padding): ConstantPad1d(padding=(1, 1), value=0.0)\n",
      "      (conv): Conv1d(55, 55, kernel_size=(3,), stride=(1,))\n",
      "      (relu): LeakyReLU(negative_slope=True)\n",
      "    )\n",
      "  )\n",
      "  (discriminator): Sequential(\n",
      "    (0): Linear(in_features=55, out_features=28, bias=True)\n",
      "    (1): LeakyReLU(negative_slope=True)\n",
      "    (2): Linear(in_features=28, out_features=28, bias=True)\n",
      "    (3): LeakyReLU(negative_slope=True)\n",
      "    (4): Linear(in_features=28, out_features=55, bias=True)\n",
      "    (5): Sigmoid()\n",
      "  )\n",
      ")\n",
      "LSTM_AD(\n",
      "  (lstm): LSTM(330, 64)\n",
      "  (lstm2): LSTM(330, 55)\n",
      "  (fcn): Sequential(\n",
      "    (0): Linear(in_features=55, out_features=55, bias=True)\n",
      "    (1): Sigmoid()\n",
      "  )\n",
      ")\n",
      "======================TRAIN MODE======================\n"
     ]
    },
    {
     "name": "stderr",
     "output_type": "stream",
     "text": [
      "  0%|          | 0/15 [00:00<?, ?it/s]"
     ]
    },
    {
     "name": "stderr",
     "output_type": "stream",
     "text": [
      "  7%|▋         | 1/15 [00:14<03:18, 14.19s/it]"
     ]
    },
    {
     "name": "stdout",
     "output_type": "stream",
     "text": [
      "Epoch: 1, Steps: 624 | g_loss Loss: -0.4908031 d_loss Loss: -0.1036815 MSE: 0.1298322 SPD: -0.1298322 PMSE: 0.0915997\n"
     ]
    },
    {
     "name": "stderr",
     "output_type": "stream",
     "text": [
      " 13%|█▎        | 2/15 [00:28<03:02, 14.04s/it]"
     ]
    },
    {
     "name": "stdout",
     "output_type": "stream",
     "text": [
      "Epoch: 2, Steps: 624 | g_loss Loss: -0.6551442 d_loss Loss: 0.0105607 MSE: 0.0735346 SPD: 0.0562977 PMSE: 0.0513048\n"
     ]
    },
    {
     "name": "stderr",
     "output_type": "stream",
     "text": [
      " 20%|██        | 3/15 [00:42<02:47, 13.99s/it]"
     ]
    },
    {
     "name": "stdout",
     "output_type": "stream",
     "text": [
      "Epoch: 3, Steps: 624 | g_loss Loss: -0.6295422 d_loss Loss: -0.0131527 MSE: 0.0515598 SPD: 0.0219747 PMSE: 0.0367531\n"
     ]
    },
    {
     "name": "stderr",
     "output_type": "stream",
     "text": [
      " 27%|██▋       | 4/15 [00:56<02:34, 14.02s/it]"
     ]
    },
    {
     "name": "stdout",
     "output_type": "stream",
     "text": [
      "Epoch: 4, Steps: 624 | g_loss Loss: -0.6569251 d_loss Loss: 0.0213139 MSE: 0.0408305 SPD: 0.0107294 PMSE: 0.0292458\n"
     ]
    },
    {
     "name": "stderr",
     "output_type": "stream",
     "text": [
      " 33%|███▎      | 5/15 [01:10<02:20, 14.09s/it]"
     ]
    },
    {
     "name": "stdout",
     "output_type": "stream",
     "text": [
      "Epoch: 5, Steps: 624 | g_loss Loss: -0.6664795 d_loss Loss: 0.0273482 MSE: 0.0337351 SPD: 0.0070954 PMSE: 0.0246512\n"
     ]
    },
    {
     "name": "stderr",
     "output_type": "stream",
     "text": [
      " 40%|████      | 6/15 [01:24<02:06, 14.07s/it]"
     ]
    },
    {
     "name": "stdout",
     "output_type": "stream",
     "text": [
      "Epoch: 6, Steps: 624 | g_loss Loss: -0.6440561 d_loss Loss: 0.0090095 MSE: 0.0291632 SPD: 0.0045719 PMSE: 0.0215080\n"
     ]
    },
    {
     "name": "stderr",
     "output_type": "stream",
     "text": [
      " 47%|████▋     | 7/15 [01:38<01:53, 14.15s/it]"
     ]
    },
    {
     "name": "stdout",
     "output_type": "stream",
     "text": [
      "Epoch: 7, Steps: 624 | g_loss Loss: -0.6759943 d_loss Loss: 0.0448373 MSE: 0.0262580 SPD: 0.0029052 PMSE: 0.0192206\n"
     ]
    },
    {
     "name": "stderr",
     "output_type": "stream",
     "text": [
      " 53%|█████▎    | 8/15 [01:52<01:38, 14.07s/it]"
     ]
    },
    {
     "name": "stdout",
     "output_type": "stream",
     "text": [
      "Epoch: 8, Steps: 624 | g_loss Loss: -0.6358069 d_loss Loss: 0.0091613 MSE: 0.0237527 SPD: 0.0025053 PMSE: 0.0174688\n"
     ]
    },
    {
     "name": "stderr",
     "output_type": "stream",
     "text": [
      " 60%|██████    | 9/15 [02:06<01:24, 14.06s/it]"
     ]
    },
    {
     "name": "stdout",
     "output_type": "stream",
     "text": [
      "Epoch: 9, Steps: 624 | g_loss Loss: -0.6647295 d_loss Loss: 0.0316922 MSE: 0.0221194 SPD: 0.0016334 PMSE: 0.0160645\n"
     ]
    },
    {
     "name": "stderr",
     "output_type": "stream",
     "text": [
      " 67%|██████▋   | 10/15 [02:20<01:10, 14.00s/it]"
     ]
    },
    {
     "name": "stdout",
     "output_type": "stream",
     "text": [
      "Epoch: 10, Steps: 624 | g_loss Loss: -0.6302878 d_loss Loss: 0.0143152 MSE: 0.0205634 SPD: 0.0015560 PMSE: 0.0148816\n"
     ]
    },
    {
     "name": "stderr",
     "output_type": "stream",
     "text": [
      " 73%|███████▎  | 11/15 [02:34<00:55, 13.98s/it]"
     ]
    },
    {
     "name": "stdout",
     "output_type": "stream",
     "text": [
      "Epoch: 11, Steps: 624 | g_loss Loss: -0.6491743 d_loss Loss: 0.0332041 MSE: 0.0194593 SPD: 0.0011041 PMSE: 0.0138851\n"
     ]
    },
    {
     "name": "stderr",
     "output_type": "stream",
     "text": [
      " 80%|████████  | 12/15 [02:48<00:42, 14.03s/it]"
     ]
    },
    {
     "name": "stdout",
     "output_type": "stream",
     "text": [
      "Epoch: 12, Steps: 624 | g_loss Loss: -0.6233230 d_loss Loss: 0.0079163 MSE: 0.0183636 SPD: 0.0010957 PMSE: 0.0130429\n"
     ]
    },
    {
     "name": "stderr",
     "output_type": "stream",
     "text": [
      " 87%|████████▋ | 13/15 [03:02<00:28, 14.12s/it]"
     ]
    },
    {
     "name": "stdout",
     "output_type": "stream",
     "text": [
      "Epoch: 13, Steps: 624 | g_loss Loss: -0.6415532 d_loss Loss: 0.0384425 MSE: 0.0176288 SPD: 0.0007348 PMSE: 0.0123236\n"
     ]
    },
    {
     "name": "stderr",
     "output_type": "stream",
     "text": [
      " 93%|█████████▎| 14/15 [03:16<00:14, 14.11s/it]"
     ]
    },
    {
     "name": "stdout",
     "output_type": "stream",
     "text": [
      "Epoch: 14, Steps: 624 | g_loss Loss: -0.6149287 d_loss Loss: 0.0174035 MSE: 0.0168252 SPD: 0.0008036 PMSE: 0.0117032\n"
     ]
    },
    {
     "name": "stderr",
     "output_type": "stream",
     "text": [
      "100%|██████████| 15/15 [03:31<00:00, 14.07s/it]\n"
     ]
    },
    {
     "name": "stdout",
     "output_type": "stream",
     "text": [
      "Epoch: 15, Steps: 624 | g_loss Loss: -0.6317189 d_loss Loss: 0.0270515 MSE: 0.0162406 SPD: 0.0005846 PMSE: 0.0111625\n",
      "(20000, 25) (20000, 25) (20000,)\n",
      "(20000, 25) (20000, 25) (20000,)\n",
      "Generator(\n",
      "  (norm1): LayerNorm((25,), eps=1e-05, elementwise_affine=True)\n",
      "  (norm2): LayerNorm((25,), eps=1e-05, elementwise_affine=True)\n",
      "  (conv): Sequential(\n",
      "    (0): Dropout(p=0.2, inplace=False)\n",
      "    (1): ConvLayer(\n",
      "      (padding): ConstantPad1d(padding=(1, 1), value=0.0)\n",
      "      (conv): Conv1d(25, 25, kernel_size=(3,), stride=(1,))\n",
      "      (relu): LeakyReLU(negative_slope=True)\n",
      "    )\n",
      "  )\n",
      "  (discriminator): Sequential(\n",
      "    (0): Linear(in_features=25, out_features=13, bias=True)\n",
      "    (1): LeakyReLU(negative_slope=True)\n",
      "    (2): Linear(in_features=13, out_features=13, bias=True)\n",
      "    (3): LeakyReLU(negative_slope=True)\n",
      "    (4): Linear(in_features=13, out_features=25, bias=True)\n",
      "    (5): Sigmoid()\n",
      "  )\n",
      ")\n",
      "Discriminator(\n",
      "  (norm2): LayerNorm((25,), eps=1e-05, elementwise_affine=True)\n",
      "  (conv): Sequential(\n",
      "    (0): Dropout(p=0.2, inplace=False)\n",
      "    (1): ConvLayer(\n",
      "      (padding): ConstantPad1d(padding=(1, 1), value=0.0)\n",
      "      (conv): Conv1d(25, 25, kernel_size=(3,), stride=(1,))\n",
      "      (relu): LeakyReLU(negative_slope=True)\n",
      "    )\n",
      "  )\n",
      "  (discriminator): Sequential(\n",
      "    (0): Linear(in_features=25, out_features=13, bias=True)\n",
      "    (1): LeakyReLU(negative_slope=True)\n",
      "    (2): Linear(in_features=13, out_features=13, bias=True)\n",
      "    (3): LeakyReLU(negative_slope=True)\n",
      "    (4): Linear(in_features=13, out_features=25, bias=True)\n",
      "    (5): Sigmoid()\n",
      "  )\n",
      ")\n",
      "LSTM_AD(\n",
      "  (lstm): LSTM(150, 64)\n",
      "  (lstm2): LSTM(150, 25)\n",
      "  (fcn): Sequential(\n",
      "    (0): Linear(in_features=25, out_features=25, bias=True)\n",
      "    (1): Sigmoid()\n",
      "  )\n",
      ")\n",
      "======================TRAIN MODE======================\n"
     ]
    },
    {
     "name": "stderr",
     "output_type": "stream",
     "text": [
      "  7%|▋         | 1/15 [00:14<03:16, 14.07s/it]"
     ]
    },
    {
     "name": "stdout",
     "output_type": "stream",
     "text": [
      "Epoch: 1, Steps: 624 | g_loss Loss: -0.2328019 d_loss Loss: -0.3300505 MSE: 0.2212230 SPD: -0.2212230 PMSE: 0.1964939\n"
     ]
    },
    {
     "name": "stderr",
     "output_type": "stream",
     "text": [
      " 13%|█▎        | 2/15 [00:28<03:03, 14.09s/it]"
     ]
    },
    {
     "name": "stdout",
     "output_type": "stream",
     "text": [
      "Epoch: 2, Steps: 624 | g_loss Loss: -0.5964498 d_loss Loss: -0.1527710 MSE: 0.1547585 SPD: 0.0664646 PMSE: 0.1318548\n"
     ]
    },
    {
     "name": "stderr",
     "output_type": "stream",
     "text": [
      " 20%|██        | 3/15 [00:42<02:48, 14.04s/it]"
     ]
    },
    {
     "name": "stdout",
     "output_type": "stream",
     "text": [
      "Epoch: 3, Steps: 624 | g_loss Loss: -0.6438482 d_loss Loss: -0.1177144 MSE: 0.1196116 SPD: 0.0351469 PMSE: 0.1039306\n"
     ]
    },
    {
     "name": "stderr",
     "output_type": "stream",
     "text": [
      " 27%|██▋       | 4/15 [00:56<02:34, 14.07s/it]"
     ]
    },
    {
     "name": "stdout",
     "output_type": "stream",
     "text": [
      "Epoch: 4, Steps: 624 | g_loss Loss: -0.5864630 d_loss Loss: -0.1607074 MSE: 0.0997405 SPD: 0.0198710 PMSE: 0.0887381\n"
     ]
    },
    {
     "name": "stderr",
     "output_type": "stream",
     "text": [
      " 33%|███▎      | 5/15 [01:10<02:21, 14.17s/it]"
     ]
    },
    {
     "name": "stdout",
     "output_type": "stream",
     "text": [
      "Epoch: 5, Steps: 624 | g_loss Loss: -0.5120038 d_loss Loss: -0.0739874 MSE: 0.0875053 SPD: 0.0122352 PMSE: 0.0791738\n"
     ]
    },
    {
     "name": "stderr",
     "output_type": "stream",
     "text": [
      " 40%|████      | 6/15 [01:24<02:08, 14.22s/it]"
     ]
    },
    {
     "name": "stdout",
     "output_type": "stream",
     "text": [
      "Epoch: 6, Steps: 624 | g_loss Loss: -0.4349065 d_loss Loss: -0.1447208 MSE: 0.0792788 SPD: 0.0082265 PMSE: 0.0725843\n"
     ]
    },
    {
     "name": "stderr",
     "output_type": "stream",
     "text": [
      " 47%|████▋     | 7/15 [01:39<01:54, 14.28s/it]"
     ]
    },
    {
     "name": "stdout",
     "output_type": "stream",
     "text": [
      "Epoch: 7, Steps: 624 | g_loss Loss: -0.3682074 d_loss Loss: -0.1981803 MSE: 0.0733871 SPD: 0.0058917 PMSE: 0.0677733\n"
     ]
    },
    {
     "name": "stderr",
     "output_type": "stream",
     "text": [
      " 53%|█████▎    | 8/15 [01:53<01:39, 14.25s/it]"
     ]
    },
    {
     "name": "stdout",
     "output_type": "stream",
     "text": [
      "Epoch: 8, Steps: 624 | g_loss Loss: -0.3067603 d_loss Loss: -0.1814933 MSE: 0.0689634 SPD: 0.0044237 PMSE: 0.0641073\n"
     ]
    },
    {
     "name": "stderr",
     "output_type": "stream",
     "text": [
      " 60%|██████    | 9/15 [02:07<01:25, 14.22s/it]"
     ]
    },
    {
     "name": "stdout",
     "output_type": "stream",
     "text": [
      "Epoch: 9, Steps: 624 | g_loss Loss: -0.2636495 d_loss Loss: -0.1543577 MSE: 0.0655209 SPD: 0.0034425 PMSE: 0.0612231\n"
     ]
    },
    {
     "name": "stderr",
     "output_type": "stream",
     "text": [
      " 67%|██████▋   | 10/15 [02:21<01:10, 14.20s/it]"
     ]
    },
    {
     "name": "stdout",
     "output_type": "stream",
     "text": [
      "Epoch: 10, Steps: 624 | g_loss Loss: -0.2352292 d_loss Loss: -0.0904071 MSE: 0.0627653 SPD: 0.0027556 PMSE: 0.0588940\n"
     ]
    },
    {
     "name": "stderr",
     "output_type": "stream",
     "text": [
      " 73%|███████▎  | 11/15 [02:35<00:56, 14.09s/it]"
     ]
    },
    {
     "name": "stdout",
     "output_type": "stream",
     "text": [
      "Epoch: 11, Steps: 624 | g_loss Loss: -0.2041297 d_loss Loss: -0.1920686 MSE: 0.0606496 SPD: 0.0021157 PMSE: 0.0569722\n"
     ]
    },
    {
     "name": "stderr",
     "output_type": "stream",
     "text": [
      " 80%|████████  | 12/15 [02:49<00:42, 14.11s/it]"
     ]
    },
    {
     "name": "stdout",
     "output_type": "stream",
     "text": [
      "Epoch: 12, Steps: 624 | g_loss Loss: -0.2118627 d_loss Loss: -0.0979024 MSE: 0.0587957 SPD: 0.0018539 PMSE: 0.0553572\n"
     ]
    },
    {
     "name": "stderr",
     "output_type": "stream",
     "text": [
      " 87%|████████▋ | 13/15 [03:04<00:28, 14.17s/it]"
     ]
    },
    {
     "name": "stdout",
     "output_type": "stream",
     "text": [
      "Epoch: 13, Steps: 624 | g_loss Loss: -0.2059692 d_loss Loss: -0.0650470 MSE: 0.0571829 SPD: 0.0016128 PMSE: 0.0539801\n"
     ]
    },
    {
     "name": "stderr",
     "output_type": "stream",
     "text": [
      " 93%|█████████▎| 14/15 [03:18<00:14, 14.09s/it]"
     ]
    },
    {
     "name": "stdout",
     "output_type": "stream",
     "text": [
      "Epoch: 14, Steps: 624 | g_loss Loss: -0.2083273 d_loss Loss: -0.1496200 MSE: 0.0558041 SPD: 0.0013788 PMSE: 0.0527758\n"
     ]
    },
    {
     "name": "stderr",
     "output_type": "stream",
     "text": [
      "100%|██████████| 15/15 [03:32<00:00, 14.15s/it]\n"
     ]
    },
    {
     "name": "stdout",
     "output_type": "stream",
     "text": [
      "Epoch: 15, Steps: 624 | g_loss Loss: -0.2077886 d_loss Loss: -0.1038084 MSE: 0.0546109 SPD: 0.0011931 PMSE: 0.0516665\n",
      "(20000, 25) (20000, 25) (20000,)\n",
      "(20000, 25) (20000, 25) (20000,)\n",
      "Generator(\n",
      "  (norm1): LayerNorm((25,), eps=1e-05, elementwise_affine=True)\n",
      "  (norm2): LayerNorm((25,), eps=1e-05, elementwise_affine=True)\n",
      "  (conv): Sequential(\n",
      "    (0): Dropout(p=0.2, inplace=False)\n",
      "    (1): ConvLayer(\n",
      "      (padding): ConstantPad1d(padding=(1, 1), value=0.0)\n",
      "      (conv): Conv1d(25, 25, kernel_size=(3,), stride=(1,))\n",
      "      (relu): LeakyReLU(negative_slope=True)\n",
      "    )\n",
      "  )\n",
      "  (discriminator): Sequential(\n",
      "    (0): Linear(in_features=25, out_features=13, bias=True)\n",
      "    (1): LeakyReLU(negative_slope=True)\n",
      "    (2): Linear(in_features=13, out_features=13, bias=True)\n",
      "    (3): LeakyReLU(negative_slope=True)\n",
      "    (4): Linear(in_features=13, out_features=25, bias=True)\n",
      "    (5): Sigmoid()\n",
      "  )\n",
      ")\n",
      "Discriminator(\n",
      "  (norm2): LayerNorm((25,), eps=1e-05, elementwise_affine=True)\n",
      "  (conv): Sequential(\n",
      "    (0): Dropout(p=0.2, inplace=False)\n",
      "    (1): ConvLayer(\n",
      "      (padding): ConstantPad1d(padding=(1, 1), value=0.0)\n",
      "      (conv): Conv1d(25, 25, kernel_size=(3,), stride=(1,))\n",
      "      (relu): LeakyReLU(negative_slope=True)\n",
      "    )\n",
      "  )\n",
      "  (discriminator): Sequential(\n",
      "    (0): Linear(in_features=25, out_features=13, bias=True)\n",
      "    (1): LeakyReLU(negative_slope=True)\n",
      "    (2): Linear(in_features=13, out_features=13, bias=True)\n",
      "    (3): LeakyReLU(negative_slope=True)\n",
      "    (4): Linear(in_features=13, out_features=25, bias=True)\n",
      "    (5): Sigmoid()\n",
      "  )\n",
      ")\n",
      "LSTM_AD(\n",
      "  (lstm): LSTM(150, 64)\n",
      "  (lstm2): LSTM(150, 25)\n",
      "  (fcn): Sequential(\n",
      "    (0): Linear(in_features=25, out_features=25, bias=True)\n",
      "    (1): Sigmoid()\n",
      "  )\n",
      ")\n",
      "======================TRAIN MODE======================\n"
     ]
    },
    {
     "name": "stderr",
     "output_type": "stream",
     "text": [
      "  7%|▋         | 1/15 [00:13<03:14, 13.90s/it]"
     ]
    },
    {
     "name": "stdout",
     "output_type": "stream",
     "text": [
      "Epoch: 1, Steps: 624 | g_loss Loss: -0.4816470 d_loss Loss: 0.0056113 MSE: 0.0493666 SPD: -0.0493666 PMSE: 0.0184653\n"
     ]
    },
    {
     "name": "stderr",
     "output_type": "stream",
     "text": [
      " 13%|█▎        | 2/15 [00:27<03:00, 13.85s/it]"
     ]
    },
    {
     "name": "stdout",
     "output_type": "stream",
     "text": [
      "Epoch: 2, Steps: 624 | g_loss Loss: -0.4076065 d_loss Loss: 0.0121950 MSE: 0.0483615 SPD: 0.0010051 PMSE: 0.0110090\n"
     ]
    },
    {
     "name": "stderr",
     "output_type": "stream",
     "text": [
      " 20%|██        | 3/15 [00:42<02:50, 14.17s/it]"
     ]
    },
    {
     "name": "stdout",
     "output_type": "stream",
     "text": [
      "Epoch: 3, Steps: 624 | g_loss Loss: -0.6619695 d_loss Loss: 0.0300377 MSE: 0.0475360 SPD: 0.0008255 PMSE: 0.0082545\n"
     ]
    },
    {
     "name": "stderr",
     "output_type": "stream",
     "text": [
      " 27%|██▋       | 4/15 [00:56<02:35, 14.18s/it]"
     ]
    },
    {
     "name": "stdout",
     "output_type": "stream",
     "text": [
      "Epoch: 4, Steps: 624 | g_loss Loss: -0.4768659 d_loss Loss: 0.0388976 MSE: 0.0490858 SPD: -0.0015498 PMSE: 0.0068197\n"
     ]
    },
    {
     "name": "stderr",
     "output_type": "stream",
     "text": [
      " 33%|███▎      | 5/15 [01:10<02:21, 14.14s/it]"
     ]
    },
    {
     "name": "stdout",
     "output_type": "stream",
     "text": [
      "Epoch: 5, Steps: 624 | g_loss Loss: -0.7510639 d_loss Loss: 0.0664126 MSE: 0.0501233 SPD: -0.0010375 PMSE: 0.0059215\n"
     ]
    },
    {
     "name": "stderr",
     "output_type": "stream",
     "text": [
      " 40%|████      | 6/15 [01:24<02:06, 14.09s/it]"
     ]
    },
    {
     "name": "stdout",
     "output_type": "stream",
     "text": [
      "Epoch: 6, Steps: 624 | g_loss Loss: -0.5834894 d_loss Loss: 0.0269586 MSE: 0.0512064 SPD: -0.0010831 PMSE: 0.0052715\n"
     ]
    },
    {
     "name": "stderr",
     "output_type": "stream",
     "text": [
      " 47%|████▋     | 7/15 [01:38<01:52, 14.10s/it]"
     ]
    },
    {
     "name": "stdout",
     "output_type": "stream",
     "text": [
      "Epoch: 7, Steps: 624 | g_loss Loss: -0.6938547 d_loss Loss: 0.0467374 MSE: 0.0528571 SPD: -0.0016507 PMSE: 0.0047552\n"
     ]
    },
    {
     "name": "stderr",
     "output_type": "stream",
     "text": [
      " 53%|█████▎    | 8/15 [01:52<01:38, 14.06s/it]"
     ]
    },
    {
     "name": "stdout",
     "output_type": "stream",
     "text": [
      "Epoch: 8, Steps: 624 | g_loss Loss: -0.7718683 d_loss Loss: 0.0528796 MSE: 0.0524209 SPD: 0.0004362 PMSE: 0.0043286\n"
     ]
    },
    {
     "name": "stderr",
     "output_type": "stream",
     "text": [
      " 60%|██████    | 9/15 [02:06<01:24, 14.14s/it]"
     ]
    },
    {
     "name": "stdout",
     "output_type": "stream",
     "text": [
      "Epoch: 9, Steps: 624 | g_loss Loss: -0.5724373 d_loss Loss: -0.1233664 MSE: 0.0541303 SPD: -0.0017095 PMSE: 0.0039784\n"
     ]
    },
    {
     "name": "stderr",
     "output_type": "stream",
     "text": [
      " 67%|██████▋   | 10/15 [02:21<01:10, 14.18s/it]"
     ]
    },
    {
     "name": "stdout",
     "output_type": "stream",
     "text": [
      "Epoch: 10, Steps: 624 | g_loss Loss: -0.7804185 d_loss Loss: 0.0441154 MSE: 0.0544296 SPD: -0.0002992 PMSE: 0.0036856\n"
     ]
    },
    {
     "name": "stderr",
     "output_type": "stream",
     "text": [
      " 73%|███████▎  | 11/15 [02:35<00:56, 14.15s/it]"
     ]
    },
    {
     "name": "stdout",
     "output_type": "stream",
     "text": [
      "Epoch: 11, Steps: 624 | g_loss Loss: -0.8000727 d_loss Loss: 0.0626168 MSE: 0.0539846 SPD: 0.0004449 PMSE: 0.0034377\n"
     ]
    },
    {
     "name": "stderr",
     "output_type": "stream",
     "text": [
      " 80%|████████  | 12/15 [02:49<00:42, 14.05s/it]"
     ]
    },
    {
     "name": "stdout",
     "output_type": "stream",
     "text": [
      "Epoch: 12, Steps: 624 | g_loss Loss: -0.7133756 d_loss Loss: -0.0049415 MSE: 0.0547252 SPD: -0.0007406 PMSE: 0.0032236\n"
     ]
    },
    {
     "name": "stderr",
     "output_type": "stream",
     "text": [
      " 87%|████████▋ | 13/15 [03:03<00:28, 14.07s/it]"
     ]
    },
    {
     "name": "stdout",
     "output_type": "stream",
     "text": [
      "Epoch: 13, Steps: 624 | g_loss Loss: -0.7879061 d_loss Loss: 0.0362681 MSE: 0.0521959 SPD: 0.0025294 PMSE: 0.0030365\n"
     ]
    },
    {
     "name": "stderr",
     "output_type": "stream",
     "text": [
      " 93%|█████████▎| 14/15 [03:17<00:14, 14.02s/it]"
     ]
    },
    {
     "name": "stdout",
     "output_type": "stream",
     "text": [
      "Epoch: 14, Steps: 624 | g_loss Loss: -0.7609397 d_loss Loss: 0.0192060 MSE: 0.0502694 SPD: 0.0019264 PMSE: 0.0028733\n"
     ]
    },
    {
     "name": "stderr",
     "output_type": "stream",
     "text": [
      "100%|██████████| 15/15 [03:30<00:00, 14.06s/it]"
     ]
    },
    {
     "name": "stdout",
     "output_type": "stream",
     "text": [
      "Epoch: 15, Steps: 624 | g_loss Loss: -0.7499212 d_loss Loss: 0.0269372 MSE: 0.0481797 SPD: 0.0020897 PMSE: 0.0027288\n"
     ]
    },
    {
     "name": "stderr",
     "output_type": "stream",
     "text": [
      "\n"
     ]
    }
   ],
   "source": [
    "\n",
    "import os\n",
    "\n",
    "from torch.backends import cudnn\n",
    "from utils.utils import *\n",
    "\n",
    "from solver import Solver\n",
    "config={\n",
    "    'num_epochs': 15,\n",
    "    'win_size': 6, \n",
    "    'batch_size': 32, \n",
    "#     'batch_size': 4096, \n",
    "    'mode': 'train', \n",
    "    'dataset': 'PSM', \n",
    "    'data_path': 'dataset/PSM',\n",
    "    'input_c': 25,\n",
    "    'seed': 3,\n",
    "    'lr': 1e-4,\n",
    "    'model_save_path':'checkpoints',\n",
    "    'latent_dim':100,\n",
    "    'alpha':0.7,\n",
    "    'beta':1,\n",
    "    'b1':0.5,\n",
    "    'b2':0.999\n",
    "\n",
    "}\n",
    "# datasets = ['MSL','SMAP','SWaT','SMD','PSM']\n",
    "# datasets = ['MSL','SMAP','SMD','PSM']\n",
    "datasets = ['MSL','SMAP','PSM']\n",
    "# methods = ['USAD','OmniAnomaly','MAD_GAN','MSCRED','DAGMM','OmniAnomaly']\n",
    "\n",
    "\n",
    "\n",
    "for dataset in datasets:\n",
    "        if dataset == 'SMD':\n",
    "                config['input_c'] = 38\n",
    "                config['dataset'] = 'SMD'\n",
    "                config['data_path'] = 'dataset/SMD'\n",
    "                config['anormly_ratio'] = 0.5\n",
    "        elif dataset == 'PSM':\n",
    "                config['input_c'] = 25\n",
    "                config['dataset'] = 'PSM'\n",
    "                config['data_path'] = 'dataset/PSM'\n",
    "        elif dataset == 'MSL':\n",
    "                config['input_c'] = 55\n",
    "                config['dataset'] = 'MSL'\n",
    "                config['data_path'] = 'dataset/MSL'\n",
    "        elif dataset == 'SMAP':\n",
    "                config['input_c'] = 25\n",
    "                config['dataset'] = 'SMAP'\n",
    "                config['data_path'] = 'dataset/SMAP'\n",
    "        elif dataset == 'SWaT':\n",
    "                config['input_c'] = 50\n",
    "                config['dataset'] = 'SWaT'\n",
    "                config['data_path'] = 'dataset/SWaT'\n",
    "                config['anormly_ratio'] = 0.1\n",
    "\n",
    "        np.random.seed(config['seed'])\n",
    "        torch.manual_seed(config['seed'])\n",
    "        torch.cuda.manual_seed(config['seed'])\n",
    "        cudnn.benchmark = True\n",
    "        if (not os.path.exists(config['model_save_path'])):\n",
    "                mkdir(config['model_save_path'])\n",
    "\n",
    "        solver = Solver(config)\n",
    "\n",
    "        solver.train()\n",
    "        # solver.test()"
   ]
  },
  {
   "cell_type": "code",
   "execution_count": 29,
   "id": "ae4956fd",
   "metadata": {},
   "outputs": [
    {
     "name": "stdout",
     "output_type": "stream",
     "text": [
      "(20000, 25) (20000, 25) (20000,)\n",
      "(20000, 25) (20000, 25) (20000,)\n",
      "======================TEST MODE======================\n",
      "bb (19994,)\n",
      "test_labels:      (19994,)\n",
      "aa (19994,) (19994,)\n",
      "Finding best f1-score by searching for threshold..\n",
      "{'Accuracy': 0.9905971791537461,\n",
      " 'FN': 72,\n",
      " 'FP': 116,\n",
      " 'TN': 16779,\n",
      " 'TP': 3027,\n",
      " 'f1': 0.9698764454203838,\n",
      " 'latency': 267.74330641733957,\n",
      " 'precision': 0.9630925836363583,\n",
      " 'recall': 0.9767666957832633,\n",
      " 'threshold': 0.10755999999999999}\n",
      "(20000, 25) (20000, 25) (20000,)\n",
      "(20000, 25) (20000, 25) (20000,)\n",
      "======================TEST MODE======================\n",
      "bb (19994,)\n",
      "test_labels:      (19994,)\n",
      "aa (19994,) (19994,)\n",
      "Finding best f1-score by searching for threshold..\n",
      "{'Accuracy': 0.995148544563369,\n",
      " 'FN': 72,\n",
      " 'FP': 25,\n",
      " 'TN': 16870,\n",
      " 'TP': 3027,\n",
      " 'f1': 0.9842252035875887,\n",
      " 'latency': 379.9905002374941,\n",
      " 'precision': 0.99180864681583,\n",
      " 'recall': 0.9767666957832633,\n",
      " 'threshold': 0.11421999999999999}\n",
      "(20000, 25) (20000, 25) (20000,)\n",
      "(20000, 25) (20000, 25) (20000,)\n",
      "======================TEST MODE======================\n",
      "bb (19994,)\n",
      "test_labels:      (19994,)\n",
      "aa (19994,) (19994,)\n",
      "Finding best f1-score by searching for threshold..\n",
      "{'Accuracy': 0.9747924377313194,\n",
      " 'FN': 469,\n",
      " 'FP': 35,\n",
      " 'TN': 16860,\n",
      " 'TP': 2630,\n",
      " 'f1': 0.9125557469283332,\n",
      " 'latency': 264.6578447385087,\n",
      " 'precision': 0.9868667880417756,\n",
      " 'recall': 0.8486608556029014,\n",
      " 'threshold': 0.11421999999999999}\n",
      "(20000, 25) (20000, 25) (20000,)\n",
      "(20000, 25) (20000, 25) (20000,)\n",
      "======================TEST MODE======================\n",
      "bb (19994,)\n",
      "test_labels:      (19994,)\n",
      "aa (19994,) (19994,)\n",
      "Finding best f1-score by searching for threshold..\n",
      "{'Accuracy': 0.9746423927178154,\n",
      " 'FN': 469,\n",
      " 'FP': 38,\n",
      " 'TN': 16857,\n",
      " 'TP': 2630,\n",
      " 'f1': 0.9120810313802201,\n",
      " 'latency': 741.9752674910836,\n",
      " 'precision': 0.9857571177445384,\n",
      " 'recall': 0.8486608556029014,\n",
      " 'threshold': 0.11421999999999999}\n",
      "(20000, 25) (20000, 25) (20000,)\n",
      "(20000, 25) (20000, 25) (20000,)\n",
      "======================TEST MODE======================\n",
      "bb (19994,)\n",
      "test_labels:      (19994,)\n",
      "aa (19994,) (19994,)\n",
      "Finding best f1-score by searching for threshold..\n",
      "{'Accuracy': 0.9713914174252276,\n",
      " 'FN': 466,\n",
      " 'FP': 106,\n",
      " 'TN': 16789,\n",
      " 'TP': 2633,\n",
      " 'f1': 0.9020162561009019,\n",
      " 'latency': 185.24536886577837,\n",
      " 'precision': 0.9612997409226004,\n",
      " 'recall': 0.8496289098108134,\n",
      " 'threshold': 0.10755999999999999}\n",
      "(20000, 25) (20000, 25) (20000,)\n",
      "(20000, 25) (20000, 25) (20000,)\n",
      "======================TEST MODE======================\n",
      "bb (19994,)\n",
      "test_labels:      (19994,)\n",
      "aa (19994,) (19994,)\n",
      "Finding best f1-score by searching for threshold..\n",
      "{'Accuracy': 0.9751925577673302,\n",
      " 'FN': 469,\n",
      " 'FP': 27,\n",
      " 'TN': 16868,\n",
      " 'TP': 2630,\n",
      " 'f1': 0.9138240742848662,\n",
      " 'latency': 475.65081163961196,\n",
      " 'precision': 0.9898381596167174,\n",
      " 'recall': 0.8486608556029014,\n",
      " 'threshold': 0.12754}\n",
      "(20000, 25) (20000, 25) (20000,)\n",
      "(20000, 25) (20000, 25) (20000,)\n",
      "======================TEST MODE======================\n",
      "bb (19994,)\n",
      "test_labels:      (19994,)\n",
      "aa (19994,) (19994,)\n",
      "Finding best f1-score by searching for threshold..\n",
      "{'Accuracy': 0.994998499549865,\n",
      " 'FN': 72,\n",
      " 'FP': 28,\n",
      " 'TN': 16867,\n",
      " 'TP': 3027,\n",
      " 'f1': 0.9837454033237449,\n",
      " 'latency': 351.2412189695258,\n",
      " 'precision': 0.9908346939743544,\n",
      " 'recall': 0.9767666957832633,\n",
      " 'threshold': 0.11421999999999999}\n",
      "(20000, 25) (20000, 25) (20000,)\n",
      "(20000, 25) (20000, 25) (20000,)\n",
      "======================TEST MODE======================\n",
      "bb (19994,)\n",
      "test_labels:      (19994,)\n",
      "aa (19994,) (19994,)\n",
      "Finding best f1-score by searching for threshold..\n",
      "{'Accuracy': 0.9703911173352006,\n",
      " 'FN': 469,\n",
      " 'FP': 123,\n",
      " 'TN': 16772,\n",
      " 'TP': 2630,\n",
      " 'f1': 0.8988330185357596,\n",
      " 'latency': 62.99790006999766,\n",
      " 'precision': 0.9553214640199001,\n",
      " 'recall': 0.8486608556029014,\n",
      " 'threshold': 0.10755999999999999}\n",
      "(20000, 25) (20000, 25) (20000,)\n",
      "(20000, 25) (20000, 25) (20000,)\n",
      "======================TEST MODE======================\n",
      "bb (19994,)\n",
      "test_labels:      (19994,)\n",
      "aa (19994,) (19994,)\n",
      "Finding best f1-score by searching for threshold..\n",
      "{'Accuracy': 0.9700410123036911,\n",
      " 'FN': 466,\n",
      " 'FP': 133,\n",
      " 'TN': 16762,\n",
      " 'TP': 2633,\n",
      " 'f1': 0.8978637257867695,\n",
      " 'latency': 276.74308142296445,\n",
      " 'precision': 0.9519161209258274,\n",
      " 'recall': 0.8496289098108134,\n",
      " 'threshold': 0.10755999999999999}\n",
      "(20000, 25) (20000, 25) (20000,)\n",
      "(20000, 25) (20000, 25) (20000,)\n",
      "======================TEST MODE======================\n",
      "bb (19994,)\n",
      "test_labels:      (19994,)\n",
      "aa (19994,) (19994,)\n",
      "Finding best f1-score by searching for threshold..\n",
      "{'Accuracy': 0.9897969390817245,\n",
      " 'FN': 72,\n",
      " 'FP': 132,\n",
      " 'TN': 16763,\n",
      " 'TP': 3027,\n",
      " 'f1': 0.9673967231847194,\n",
      " 'latency': 442.23894402639934,\n",
      " 'precision': 0.9582146218480069,\n",
      " 'recall': 0.9767666957832633,\n",
      " 'threshold': 0.10755999999999999}\n",
      "平均值为： [[0.98069921 0.97349499 0.9000968  0.93424176]]\n",
      "(20000, 25) (20000, 25) (20000,)\n",
      "(20000, 25) (20000, 25) (20000,)\n",
      "======================TEST MODE======================\n",
      "bb (19994,)\n",
      "test_labels:      (19994,)\n",
      "aa (19994,) (19994,)\n",
      "Finding best f1-score by searching for threshold..\n",
      "{'Accuracy': 0.9958487546263879,\n",
      " 'FN': 0,\n",
      " 'FP': 83,\n",
      " 'TN': 19503,\n",
      " 'TP': 408,\n",
      " 'f1': 0.9076702171141597,\n",
      " 'latency': 24.332522249258357,\n",
      " 'precision': 0.8309572132187941,\n",
      " 'recall': 0.9999999754901967,\n",
      " 'threshold': 0.6736599999999999}\n",
      "(20000, 25) (20000, 25) (20000,)\n",
      "(20000, 25) (20000, 25) (20000,)\n",
      "======================TEST MODE======================\n",
      "bb (19994,)\n",
      "test_labels:      (19994,)\n",
      "aa (19994,) (19994,)\n",
      "Finding best f1-score by searching for threshold..\n",
      "{'Accuracy': 0.9956987096128839,\n",
      " 'FN': 0,\n",
      " 'FP': 86,\n",
      " 'TN': 19500,\n",
      " 'TP': 408,\n",
      " 'f1': 0.9046513447107875,\n",
      " 'latency': 24.332522249258357,\n",
      " 'precision': 0.8259109144552447,\n",
      " 'recall': 0.9999999754901967,\n",
      " 'threshold': 0.6736599999999999}\n",
      "(20000, 25) (20000, 25) (20000,)\n",
      "(20000, 25) (20000, 25) (20000,)\n",
      "======================TEST MODE======================\n",
      "bb (19994,)\n",
      "test_labels:      (19994,)\n",
      "aa (19994,) (19994,)\n",
      "Finding best f1-score by searching for threshold..\n",
      "{'Accuracy': 0.9958487546263879,\n",
      " 'FN': 0,\n",
      " 'FP': 83,\n",
      " 'TN': 19503,\n",
      " 'TP': 408,\n",
      " 'f1': 0.9076702171141597,\n",
      " 'latency': 24.332522249258357,\n",
      " 'precision': 0.8309572132187941,\n",
      " 'recall': 0.9999999754901967,\n",
      " 'threshold': 0.6736599999999999}\n",
      "(20000, 25) (20000, 25) (20000,)\n",
      "(20000, 25) (20000, 25) (20000,)\n",
      "======================TEST MODE======================\n",
      "bb (19994,)\n",
      "test_labels:      (19994,)\n",
      "aa (19994,) (19994,)\n",
      "Finding best f1-score by searching for threshold..\n",
      "{'Accuracy': 0.9956987096128839,\n",
      " 'FN': 0,\n",
      " 'FP': 86,\n",
      " 'TN': 19500,\n",
      " 'TP': 408,\n",
      " 'f1': 0.9046513447107875,\n",
      " 'latency': 24.332522249258357,\n",
      " 'precision': 0.8259109144552447,\n",
      " 'recall': 0.9999999754901967,\n",
      " 'threshold': 0.6736599999999999}\n",
      "(20000, 25) (20000, 25) (20000,)\n",
      "(20000, 25) (20000, 25) (20000,)\n",
      "======================TEST MODE======================\n",
      "bb (19994,)\n",
      "test_labels:      (19994,)\n",
      "aa (19994,) (19994,)\n",
      "Finding best f1-score by searching for threshold..\n",
      "{'Accuracy': 0.9956987096128839,\n",
      " 'FN': 0,\n",
      " 'FP': 86,\n",
      " 'TN': 19500,\n",
      " 'TP': 408,\n",
      " 'f1': 0.9046513447107875,\n",
      " 'latency': 24.332522249258357,\n",
      " 'precision': 0.8259109144552447,\n",
      " 'recall': 0.9999999754901967,\n",
      " 'threshold': 0.6736599999999999}\n",
      "(20000, 25) (20000, 25) (20000,)\n",
      "(20000, 25) (20000, 25) (20000,)\n",
      "======================TEST MODE======================\n",
      "bb (19994,)\n",
      "test_labels:      (19994,)\n",
      "aa (19994,) (19994,)\n",
      "Finding best f1-score by searching for threshold..\n",
      "{'Accuracy': 0.9956486946083826,\n",
      " 'FN': 0,\n",
      " 'FP': 87,\n",
      " 'TN': 19499,\n",
      " 'TP': 408,\n",
      " 'f1': 0.9036495114747819,\n",
      " 'latency': 24.332522249258357,\n",
      " 'precision': 0.8242424075910625,\n",
      " 'recall': 0.9999999754901967,\n",
      " 'threshold': 0.6736599999999999}\n",
      "(20000, 25) (20000, 25) (20000,)\n",
      "(20000, 25) (20000, 25) (20000,)\n",
      "======================TEST MODE======================\n",
      "bb (19994,)\n",
      "test_labels:      (19994,)\n",
      "aa (19994,) (19994,)\n",
      "Finding best f1-score by searching for threshold..\n",
      "{'Accuracy': 0.9956987096128839,\n",
      " 'FN': 0,\n",
      " 'FP': 86,\n",
      " 'TN': 19500,\n",
      " 'TP': 408,\n",
      " 'f1': 0.9046513447107875,\n",
      " 'latency': 24.332522249258357,\n",
      " 'precision': 0.8259109144552447,\n",
      " 'recall': 0.9999999754901967,\n",
      " 'threshold': 0.6736599999999999}\n",
      "(20000, 25) (20000, 25) (20000,)\n",
      "(20000, 25) (20000, 25) (20000,)\n",
      "======================TEST MODE======================\n",
      "bb (19994,)\n",
      "test_labels:      (19994,)\n",
      "aa (19994,) (19994,)\n",
      "Finding best f1-score by searching for threshold..\n",
      "{'Accuracy': 0.9956987096128839,\n",
      " 'FN': 0,\n",
      " 'FP': 86,\n",
      " 'TN': 19500,\n",
      " 'TP': 408,\n",
      " 'f1': 0.9046513447107875,\n",
      " 'latency': 24.332522249258357,\n",
      " 'precision': 0.8259109144552447,\n",
      " 'recall': 0.9999999754901967,\n",
      " 'threshold': 0.6736599999999999}\n",
      "(20000, 25) (20000, 25) (20000,)\n",
      "(20000, 25) (20000, 25) (20000,)\n",
      "======================TEST MODE======================\n",
      "bb (19994,)\n",
      "test_labels:      (19994,)\n",
      "aa (19994,) (19994,)\n",
      "Finding best f1-score by searching for threshold..\n",
      "{'Accuracy': 0.9956987096128839,\n",
      " 'FN': 0,\n",
      " 'FP': 86,\n",
      " 'TN': 19500,\n",
      " 'TP': 408,\n",
      " 'f1': 0.9046513447107875,\n",
      " 'latency': 24.332522249258357,\n",
      " 'precision': 0.8259109144552447,\n",
      " 'recall': 0.9999999754901967,\n",
      " 'threshold': 0.6736599999999999}\n",
      "(20000, 25) (20000, 25) (20000,)\n",
      "(20000, 25) (20000, 25) (20000,)\n",
      "======================TEST MODE======================\n",
      "bb (19994,)\n",
      "test_labels:      (19994,)\n",
      "aa (19994,) (19994,)\n",
      "Finding best f1-score by searching for threshold..\n",
      "{'Accuracy': 0.9956987096128839,\n",
      " 'FN': 0,\n",
      " 'FP': 86,\n",
      " 'TN': 19500,\n",
      " 'TP': 408,\n",
      " 'f1': 0.9046513447107875,\n",
      " 'latency': 24.332522249258357,\n",
      " 'precision': 0.8259109144552447,\n",
      " 'recall': 0.9999999754901967,\n",
      " 'threshold': 0.6736599999999999}\n",
      "平均值为： [[0.99572372 0.82675332 0.99999998 0.90515494]]\n",
      "(20000, 55) (20000, 55) (20000,)\n",
      "(20000, 55) (20000, 55) (20000,)\n",
      "======================TEST MODE======================\n",
      "bb (19994,)\n",
      "test_labels:      (19994,)\n",
      "aa (19994,) (19994,)\n",
      "Finding best f1-score by searching for threshold..\n",
      "{'Accuracy': 0.9748924677403221,\n",
      " 'FN': 410,\n",
      " 'FP': 92,\n",
      " 'TN': 17762,\n",
      " 'TP': 1730,\n",
      " 'f1': 0.8732913428226655,\n",
      " 'latency': 84.4985916901385,\n",
      " 'precision': 0.9495060321102853,\n",
      " 'recall': 0.8084112111756485,\n",
      " 'threshold': 0.16749999999999998}\n",
      "(20000, 55) (20000, 55) (20000,)\n",
      "(20000, 55) (20000, 55) (20000,)\n",
      "======================TEST MODE======================\n",
      "bb (19994,)\n",
      "test_labels:      (19994,)\n",
      "aa (19994,) (19994,)\n",
      "Finding best f1-score by searching for threshold..\n",
      "{'Accuracy': 0.975442632789837,\n",
      " 'FN': 410,\n",
      " 'FP': 81,\n",
      " 'TN': 17773,\n",
      " 'TP': 1730,\n",
      " 'f1': 0.8757226941472851,\n",
      " 'latency': 84.4985916901385,\n",
      " 'precision': 0.955273324377287,\n",
      " 'recall': 0.8084112111756485,\n",
      " 'threshold': 0.16749999999999998}\n",
      "(20000, 55) (20000, 55) (20000,)\n",
      "(20000, 55) (20000, 55) (20000,)\n",
      "======================TEST MODE======================\n",
      "bb (19994,)\n",
      "test_labels:      (19994,)\n",
      "aa (19994,) (19994,)\n",
      "Finding best f1-score by searching for threshold..\n",
      "{'Accuracy': 0.9750425127538261,\n",
      " 'FN': 410,\n",
      " 'FP': 89,\n",
      " 'TN': 17765,\n",
      " 'TP': 1730,\n",
      " 'f1': 0.8739530987036466,\n",
      " 'latency': 84.4985916901385,\n",
      " 'precision': 0.9510720123635403,\n",
      " 'recall': 0.8084112111756485,\n",
      " 'threshold': 0.16749999999999998}\n",
      "(20000, 55) (20000, 55) (20000,)\n",
      "(20000, 55) (20000, 55) (20000,)\n",
      "======================TEST MODE======================\n",
      "bb (19994,)\n",
      "test_labels:      (19994,)\n",
      "aa (19994,) (19994,)\n",
      "Finding best f1-score by searching for threshold..\n",
      "{'Accuracy': 0.9749924977493248,\n",
      " 'FN': 410,\n",
      " 'FP': 90,\n",
      " 'TN': 17764,\n",
      " 'TP': 1730,\n",
      " 'f1': 0.873732402002528,\n",
      " 'latency': 68.66552224129597,\n",
      " 'precision': 0.9505494453266514,\n",
      " 'recall': 0.8084112111756485,\n",
      " 'threshold': 0.16749999999999998}\n",
      "(20000, 55) (20000, 55) (20000,)\n",
      "(20000, 55) (20000, 55) (20000,)\n",
      "======================TEST MODE======================\n",
      "bb (19994,)\n",
      "test_labels:      (19994,)\n",
      "aa (19994,) (19994,)\n",
      "Finding best f1-score by searching for threshold..\n",
      "{'Accuracy': 0.9753426027808343,\n",
      " 'FN': 410,\n",
      " 'FP': 83,\n",
      " 'TN': 17771,\n",
      " 'TP': 1730,\n",
      " 'f1': 0.8752796237936036,\n",
      " 'latency': 84.4985916901385,\n",
      " 'precision': 0.9542195203848896,\n",
      " 'recall': 0.8084112111756485,\n",
      " 'threshold': 0.16749999999999998}\n",
      "(20000, 55) (20000, 55) (20000,)\n",
      "(20000, 55) (20000, 55) (20000,)\n",
      "======================TEST MODE======================\n",
      "bb (19994,)\n",
      "test_labels:      (19994,)\n",
      "aa (19994,) (19994,)\n",
      "Finding best f1-score by searching for threshold..\n",
      "{'Accuracy': 0.9490347104131239,\n",
      " 'FN': 1,\n",
      " 'FP': 1018,\n",
      " 'TN': 16836,\n",
      " 'TP': 2139,\n",
      " 'f1': 0.807622139946482,\n",
      " 'latency': 14.555393828957456,\n",
      " 'precision': 0.6775419680787393,\n",
      " 'recall': 0.9995327056096601,\n",
      " 'threshold': 0.16083999999999998}\n",
      "(20000, 55) (20000, 55) (20000,)\n",
      "(20000, 55) (20000, 55) (20000,)\n",
      "======================TEST MODE======================\n",
      "bb (19994,)\n",
      "test_labels:      (19994,)\n",
      "aa (19994,) (19994,)\n",
      "Finding best f1-score by searching for threshold..\n",
      "{'Accuracy': 0.9751425427628289,\n",
      " 'FN': 410,\n",
      " 'FP': 87,\n",
      " 'TN': 17767,\n",
      " 'TP': 1730,\n",
      " 'f1': 0.8743948267505787,\n",
      " 'latency': 68.66552224129597,\n",
      " 'precision': 0.9521188720301659,\n",
      " 'recall': 0.8084112111756485,\n",
      " 'threshold': 0.16749999999999998}\n",
      "(20000, 55) (20000, 55) (20000,)\n",
      "(20000, 55) (20000, 55) (20000,)\n",
      "======================TEST MODE======================\n",
      "bb (19994,)\n",
      "test_labels:      (19994,)\n",
      "aa (19994,) (19994,)\n",
      "Finding best f1-score by searching for threshold..\n",
      "{'Accuracy': 0.9751925577673302,\n",
      " 'FN': 410,\n",
      " 'FP': 86,\n",
      " 'TN': 17768,\n",
      " 'TP': 1730,\n",
      " 'f1': 0.8746158582655766,\n",
      " 'latency': 73.8321027982867,\n",
      " 'precision': 0.952643166560335,\n",
      " 'recall': 0.8084112111756485,\n",
      " 'threshold': 0.16749999999999998}\n",
      "(20000, 55) (20000, 55) (20000,)\n",
      "(20000, 55) (20000, 55) (20000,)\n",
      "======================TEST MODE======================\n",
      "bb (19994,)\n",
      "test_labels:      (19994,)\n",
      "aa (19994,) (19994,)\n",
      "Finding best f1-score by searching for threshold..\n",
      "{'Accuracy': 0.9752925877763329,\n",
      " 'FN': 410,\n",
      " 'FP': 84,\n",
      " 'TN': 17770,\n",
      " 'TP': 1730,\n",
      " 'f1': 0.8750582567022398,\n",
      " 'latency': 111.16481391976801,\n",
      " 'precision': 0.9536934897811825,\n",
      " 'recall': 0.8084112111756485,\n",
      " 'threshold': 0.16749999999999998}\n",
      "(20000, 55) (20000, 55) (20000,)\n",
      "(20000, 55) (20000, 55) (20000,)\n",
      "======================TEST MODE======================\n",
      "bb (19994,)\n",
      "test_labels:      (19994,)\n",
      "aa (19994,) (19994,)\n",
      "Finding best f1-score by searching for threshold..\n",
      "{'Accuracy': 0.9750425127538261,\n",
      " 'FN': 410,\n",
      " 'FP': 89,\n",
      " 'TN': 17765,\n",
      " 'TP': 1730,\n",
      " 'f1': 0.8739530987036466,\n",
      " 'latency': 73.8321027982867,\n",
      " 'precision': 0.9510720123635403,\n",
      " 'recall': 0.8084112111756485,\n",
      " 'threshold': 0.16749999999999998}\n",
      "平均值为： [[0.97254176 0.92476898 0.82752336 0.86776233]]\n"
     ]
    }
   ],
   "source": [
    "\n",
    "import os\n",
    "\n",
    "from torch.backends import cudnn\n",
    "from utils.utils import *\n",
    "\n",
    "from solver import Solver\n",
    "config={\n",
    "    'num_epochs': 15,\n",
    "    'win_size': 6, \n",
    "    'batch_size': 32, \n",
    "#     'batch_size': 4096, \n",
    "    'mode': 'train', \n",
    "    'dataset': 'PSM', \n",
    "    'data_path': 'dataset/PSM',\n",
    "    'input_c': 25,\n",
    "    'seed': 3,\n",
    "    'lr': 1e-4,\n",
    "    'model_save_path':'checkpoints',\n",
    "    'latent_dim':100,\n",
    "    'alpha':0.7,\n",
    "    'beta':1,\n",
    "    'b1':0.5,\n",
    "    'b2':0.999\n",
    "\n",
    "}\n",
    "# datasets = ['MSL','SMAP','SWaT','SMD','PSM']\n",
    "# datasets = ['MSL','SMAP','SMD','PSM']\n",
    "datasets = ['PSM','SMAP','MSL']\n",
    "# datasets = ['MSL']\n",
    "# methods = ['USAD','OmniAnomaly','MAD_GAN','MSCRED','DAGMM','OmniAnomaly']\n",
    "\n",
    "\n",
    "for dataset in datasets:\n",
    "        # 假设我们有四个包含十个元素的列表\n",
    "        ACC = []\n",
    "        PRE = []\n",
    "        RECALL = []\n",
    "        F1 = []\n",
    "\n",
    "        # 创建一个空的二维列表\n",
    "        matrix = []\n",
    "        for i in range(10):\n",
    "                config['seed'] = i\n",
    "                if dataset == 'SMD':\n",
    "                        config['input_c'] = 38\n",
    "                        config['dataset'] = 'SMD'\n",
    "                        config['data_path'] = 'dataset/SMD'\n",
    "                        config['anormly_ratio'] = 0.5\n",
    "                elif dataset == 'PSM':\n",
    "                        config['input_c'] = 25\n",
    "                        config['dataset'] = 'PSM'\n",
    "                        config['data_path'] = 'dataset/PSM'\n",
    "                elif dataset == 'MSL':\n",
    "                        config['input_c'] = 55\n",
    "                        config['dataset'] = 'MSL'\n",
    "                        config['data_path'] = 'dataset/MSL'\n",
    "                elif dataset == 'SMAP':\n",
    "                        config['input_c'] = 25\n",
    "                        config['dataset'] = 'SMAP'\n",
    "                        config['data_path'] = 'dataset/SMAP'\n",
    "                elif dataset == 'SWaT':\n",
    "                        config['input_c'] = 50\n",
    "                        config['dataset'] = 'SWaT'\n",
    "                        config['data_path'] = 'dataset/SWaT'\n",
    "                        config['anormly_ratio'] = 0.1\n",
    "\n",
    "                np.random.seed(config['seed'])\n",
    "                torch.manual_seed(config['seed'])\n",
    "                torch.cuda.manual_seed(config['seed'])\n",
    "                cudnn.benchmark = True\n",
    "                if (not os.path.exists(config['model_save_path'])):\n",
    "                        mkdir(config['model_save_path'])\n",
    "\n",
    "                solver = Solver(config)\n",
    "\n",
    "                # solver.train()\n",
    "                T = solver.test()\n",
    "\n",
    "                ACC.append(T[\"Accuracy\"])\n",
    "                PRE.append(T[\"precision\"])\n",
    "                RECALL.append(T[\"recall\"])\n",
    "                F1.append(T[\"f1\"])\n",
    "\n",
    "        row = [ACC, PRE, RECALL, F1]\n",
    "        matrix.append(row)\n",
    "\n",
    "        # 转换为numpy数组方便计算\n",
    "        matrix = np.array(matrix)\n",
    "\n",
    "        # 计算每列的平均值\n",
    "        averages = np.mean(matrix, axis=2)\n",
    "\n",
    "        print(\"平均值为：\", averages)"
   ]
  },
  {
   "cell_type": "code",
   "execution_count": 23,
   "id": "95eb69fd",
   "metadata": {},
   "outputs": [
    {
     "name": "stdout",
     "output_type": "stream",
     "text": [
      "平均值为： [[0.97522257 0.95295884 0.80841121 0.87474869]]\n"
     ]
    }
   ],
   "source": [
    "\n",
    "# 计算每列的平均值\n",
    "averages = np.mean(matrix, axis=2)\n",
    "\n",
    "print(\"平均值为：\", averages)"
   ]
  },
  {
   "cell_type": "code",
   "execution_count": 17,
   "id": "ae14b566",
   "metadata": {},
   "outputs": [
    {
     "data": {
      "text/plain": [
       "array([[[0.97519256, 0.97524257, 0.97519256, 0.97509253, 0.97539262,\n",
       "         0.97524257, 0.97529259, 0.97529259, 0.97514254, 0.97514254],\n",
       "        [0.95264317, 0.95316804, 0.95264317, 0.95159515, 0.95474613,\n",
       "         0.95316804, 0.95369349, 0.95369349, 0.95211887, 0.95211887],\n",
       "        [0.80841121, 0.80841121, 0.80841121, 0.80841121, 0.80841121,\n",
       "         0.80841121, 0.80841121, 0.80841121, 0.80841121, 0.80841121],\n",
       "        [0.87461586, 0.874837  , 0.87461586, 0.87417391, 0.8755011 ,\n",
       "         0.874837  , 0.87505826, 0.87505826, 0.87439483, 0.87439483]]])"
      ]
     },
     "execution_count": 17,
     "metadata": {},
     "output_type": "execute_result"
    }
   ],
   "source": [
    "matrix"
   ]
  },
  {
   "cell_type": "code",
   "execution_count": 21,
   "id": "7c59d69f",
   "metadata": {},
   "outputs": [
    {
     "data": {
      "text/plain": [
       "array([[0.97519256, 0.97524257, 0.97519256, 0.97509253, 0.97539262,\n",
       "        0.97524257, 0.97529259, 0.97529259, 0.97514254, 0.97514254],\n",
       "       [0.95264317, 0.95316804, 0.95264317, 0.95159515, 0.95474613,\n",
       "        0.95316804, 0.95369349, 0.95369349, 0.95211887, 0.95211887],\n",
       "       [0.80841121, 0.80841121, 0.80841121, 0.80841121, 0.80841121,\n",
       "        0.80841121, 0.80841121, 0.80841121, 0.80841121, 0.80841121],\n",
       "       [0.87461586, 0.874837  , 0.87461586, 0.87417391, 0.8755011 ,\n",
       "        0.874837  , 0.87505826, 0.87505826, 0.87439483, 0.87439483]])"
      ]
     },
     "execution_count": 21,
     "metadata": {},
     "output_type": "execute_result"
    }
   ],
   "source": [
    "np.squeeze(matrix)"
   ]
  },
  {
   "cell_type": "code",
   "execution_count": 31,
   "id": "f7d11648",
   "metadata": {},
   "outputs": [
    {
     "name": "stdout",
     "output_type": "stream",
     "text": [
      "(20000, 25) (20000, 25) (20000,)\n",
      "(20000, 25) (20000, 25) (20000,)\n",
      "======================TEST MODE======================\n",
      "bb (19994,)\n",
      "test_labels:      (19994,)\n",
      "aa (19994,) (19994,)\n",
      "Finding best f1-score by searching for threshold..\n",
      "{'Accuracy': 0.9751925577673302,\n",
      " 'FN': 469,\n",
      " 'FP': 27,\n",
      " 'TN': 16868,\n",
      " 'TP': 2630,\n",
      " 'f1': 0.9138240742848662,\n",
      " 'latency': 475.65081163961196,\n",
      " 'precision': 0.9898381596167174,\n",
      " 'recall': 0.8486608556029014,\n",
      " 'threshold': 0.12754}\n",
      "(20000, 25) (20000, 25) (20000,)\n",
      "(20000, 25) (20000, 25) (20000,)\n",
      "======================TEST MODE======================\n",
      "bb (19994,)\n",
      "test_labels:      (19994,)\n",
      "aa (19994,) (19994,)\n",
      "Finding best f1-score by searching for threshold..\n",
      "{'Accuracy': 0.994998499549865,\n",
      " 'FN': 72,\n",
      " 'FP': 28,\n",
      " 'TN': 16867,\n",
      " 'TP': 3027,\n",
      " 'f1': 0.9837454033237449,\n",
      " 'latency': 351.2412189695258,\n",
      " 'precision': 0.9908346939743544,\n",
      " 'recall': 0.9767666957832633,\n",
      " 'threshold': 0.11421999999999999}\n",
      "(20000, 25) (20000, 25) (20000,)\n",
      "(20000, 25) (20000, 25) (20000,)\n",
      "======================TEST MODE======================\n",
      "bb (19994,)\n",
      "test_labels:      (19994,)\n",
      "aa (19994,) (19994,)\n",
      "Finding best f1-score by searching for threshold..\n",
      "{'Accuracy': 0.9703911173352006,\n",
      " 'FN': 469,\n",
      " 'FP': 123,\n",
      " 'TN': 16772,\n",
      " 'TP': 2630,\n",
      " 'f1': 0.8988330185357596,\n",
      " 'latency': 62.99790006999766,\n",
      " 'precision': 0.9553214640199001,\n",
      " 'recall': 0.8486608556029014,\n",
      " 'threshold': 0.10755999999999999}\n",
      "(20000, 25) (20000, 25) (20000,)\n",
      "(20000, 25) (20000, 25) (20000,)\n",
      "======================TEST MODE======================\n",
      "bb (19994,)\n",
      "test_labels:      (19994,)\n",
      "aa (19994,) (19994,)\n",
      "Finding best f1-score by searching for threshold..\n",
      "{'Accuracy': 0.9700410123036911,\n",
      " 'FN': 466,\n",
      " 'FP': 133,\n",
      " 'TN': 16762,\n",
      " 'TP': 2633,\n",
      " 'f1': 0.8978637257867695,\n",
      " 'latency': 276.74308142296445,\n",
      " 'precision': 0.9519161209258274,\n",
      " 'recall': 0.8496289098108134,\n",
      " 'threshold': 0.10755999999999999}\n",
      "(20000, 25) (20000, 25) (20000,)\n",
      "(20000, 25) (20000, 25) (20000,)\n",
      "======================TEST MODE======================\n",
      "bb (19994,)\n",
      "test_labels:      (19994,)\n",
      "aa (19994,) (19994,)\n",
      "Finding best f1-score by searching for threshold..\n",
      "{'Accuracy': 0.9897969390817245,\n",
      " 'FN': 72,\n",
      " 'FP': 132,\n",
      " 'TN': 16763,\n",
      " 'TP': 3027,\n",
      " 'f1': 0.9673967231847194,\n",
      " 'latency': 442.23894402639934,\n",
      " 'precision': 0.9582146218480069,\n",
      " 'recall': 0.9767666957832633,\n",
      " 'threshold': 0.10755999999999999}\n",
      "(20000, 25) (20000, 25) (20000,)\n",
      "(20000, 25) (20000, 25) (20000,)\n",
      "======================TEST MODE======================\n",
      "bb (19994,)\n",
      "test_labels:      (19994,)\n",
      "aa (19994,) (19994,)\n",
      "Finding best f1-score by searching for threshold..\n",
      "{'Accuracy': 0.9748424527358207,\n",
      " 'FN': 469,\n",
      " 'FP': 34,\n",
      " 'TN': 16861,\n",
      " 'TP': 2630,\n",
      " 'f1': 0.9127140952757212,\n",
      " 'latency': 275.9908003066564,\n",
      " 'precision': 0.9872372335313917,\n",
      " 'recall': 0.8486608556029014,\n",
      " 'threshold': 0.11421999999999999}\n",
      "(20000, 25) (20000, 25) (20000,)\n",
      "(20000, 25) (20000, 25) (20000,)\n",
      "======================TEST MODE======================\n",
      "bb (19994,)\n",
      "test_labels:      (19994,)\n",
      "aa (19994,) (19994,)\n",
      "Finding best f1-score by searching for threshold..\n",
      "{'Accuracy': 0.9900970291087327,\n",
      " 'FN': 72,\n",
      " 'FP': 126,\n",
      " 'TN': 16769,\n",
      " 'TP': 3027,\n",
      " 'f1': 0.9683251316581634,\n",
      " 'latency': 384.24039399015027,\n",
      " 'precision': 0.9600380559465966,\n",
      " 'recall': 0.9767666957832633,\n",
      " 'threshold': 0.10755999999999999}\n",
      "(20000, 25) (20000, 25) (20000,)\n",
      "(20000, 25) (20000, 25) (20000,)\n",
      "======================TEST MODE======================\n",
      "bb (19994,)\n",
      "test_labels:      (19994,)\n",
      "aa (19994,) (19994,)\n",
      "Finding best f1-score by searching for threshold..\n",
      "{'Accuracy': 0.9704911473442033,\n",
      " 'FN': 466,\n",
      " 'FP': 124,\n",
      " 'TN': 16771,\n",
      " 'TP': 2633,\n",
      " 'f1': 0.8992436478899457,\n",
      " 'latency': 134.74663133421666,\n",
      " 'precision': 0.9550235728871107,\n",
      " 'recall': 0.8496289098108134,\n",
      " 'threshold': 0.10755999999999999}\n",
      "(20000, 25) (20000, 25) (20000,)\n",
      "(20000, 25) (20000, 25) (20000,)\n",
      "======================TEST MODE======================\n",
      "bb (19994,)\n",
      "test_labels:      (19994,)\n",
      "aa (19994,) (19994,)\n",
      "Finding best f1-score by searching for threshold..\n",
      "{'Accuracy': 0.9905471641492448,\n",
      " 'FN': 69,\n",
      " 'FP': 120,\n",
      " 'TN': 16775,\n",
      " 'TP': 3030,\n",
      " 'f1': 0.9697501580808296,\n",
      " 'latency': 249.795004099918,\n",
      " 'precision': 0.9619047588510959,\n",
      " 'recall': 0.9777347499911753,\n",
      " 'threshold': 0.10755999999999999}\n",
      "(20000, 25) (20000, 25) (20000,)\n",
      "(20000, 25) (20000, 25) (20000,)\n",
      "======================TEST MODE======================\n",
      "bb (19994,)\n",
      "test_labels:      (19994,)\n",
      "aa (19994,) (19994,)\n",
      "Finding best f1-score by searching for threshold..\n",
      "{'Accuracy': 0.970591177353206,\n",
      " 'FN': 469,\n",
      " 'FP': 119,\n",
      " 'TN': 16776,\n",
      " 'TP': 2630,\n",
      " 'f1': 0.8994478192388825,\n",
      " 'latency': 215.32615579480682,\n",
      " 'precision': 0.956711527985771,\n",
      " 'recall': 0.8486608556029014,\n",
      " 'threshold': 0.10755999999999999}\n",
      "平均值为： [[0.97969891 0.96670402 0.90019361 0.93111438]]\n"
     ]
    }
   ],
   "source": [
    "\n",
    "import os\n",
    "\n",
    "from torch.backends import cudnn\n",
    "from utils.utils import *\n",
    "\n",
    "from solver import Solver\n",
    "config={\n",
    "    'num_epochs': 15,\n",
    "    'win_size': 6, \n",
    "    'batch_size': 32, \n",
    "#     'batch_size': 4096, \n",
    "    'mode': 'train', \n",
    "    'dataset': 'PSM', \n",
    "    'data_path': 'dataset/PSM',\n",
    "    'input_c': 25,\n",
    "    'seed': 3,\n",
    "    'lr': 1e-4,\n",
    "    'model_save_path':'checkpoints',\n",
    "    'latent_dim':100,\n",
    "    'alpha':0.7,\n",
    "    'beta':1,\n",
    "    'b1':0.5,\n",
    "    'b2':0.999\n",
    "\n",
    "}\n",
    "# datasets = ['MSL','SMAP','SWaT','SMD','PSM']\n",
    "# datasets = ['MSL','SMAP','SMD','PSM']\n",
    "datasets = ['PSM']\n",
    "# datasets = ['MSL']\n",
    "# methods = ['USAD','OmniAnomaly','MAD_GAN','MSCRED','DAGMM','OmniAnomaly']\n",
    "\n",
    "\n",
    "for dataset in datasets:\n",
    "        # 假设我们有四个包含十个元素的列表\n",
    "        ACC = []\n",
    "        PRE = []\n",
    "        RECALL = []\n",
    "        F1 = []\n",
    "\n",
    "        # 创建一个空的二维列表\n",
    "        matrix = []\n",
    "        for i in range(5,15):\n",
    "                config['seed'] = i\n",
    "                if dataset == 'SMD':\n",
    "                        config['input_c'] = 38\n",
    "                        config['dataset'] = 'SMD'\n",
    "                        config['data_path'] = 'dataset/SMD'\n",
    "                        config['anormly_ratio'] = 0.5\n",
    "                elif dataset == 'PSM':\n",
    "                        config['input_c'] = 25\n",
    "                        config['dataset'] = 'PSM'\n",
    "                        config['data_path'] = 'dataset/PSM'\n",
    "                elif dataset == 'MSL':\n",
    "                        config['input_c'] = 55\n",
    "                        config['dataset'] = 'MSL'\n",
    "                        config['data_path'] = 'dataset/MSL'\n",
    "                elif dataset == 'SMAP':\n",
    "                        config['input_c'] = 25\n",
    "                        config['dataset'] = 'SMAP'\n",
    "                        config['data_path'] = 'dataset/SMAP'\n",
    "                elif dataset == 'SWaT':\n",
    "                        config['input_c'] = 50\n",
    "                        config['dataset'] = 'SWaT'\n",
    "                        config['data_path'] = 'dataset/SWaT'\n",
    "                        config['anormly_ratio'] = 0.1\n",
    "\n",
    "                np.random.seed(config['seed'])\n",
    "                torch.manual_seed(config['seed'])\n",
    "                torch.cuda.manual_seed(config['seed'])\n",
    "                cudnn.benchmark = True\n",
    "                if (not os.path.exists(config['model_save_path'])):\n",
    "                        mkdir(config['model_save_path'])\n",
    "\n",
    "                solver = Solver(config)\n",
    "\n",
    "                # solver.train()\n",
    "                T = solver.test()\n",
    "\n",
    "                ACC.append(T[\"Accuracy\"])\n",
    "                PRE.append(T[\"precision\"])\n",
    "                RECALL.append(T[\"recall\"])\n",
    "                F1.append(T[\"f1\"])\n",
    "\n",
    "        row = [ACC, PRE, RECALL, F1]\n",
    "        matrix.append(row)\n",
    "\n",
    "        # 转换为numpy数组方便计算\n",
    "        matrix = np.array(matrix)\n",
    "\n",
    "        # 计算每列的平均值\n",
    "        averages = np.mean(matrix, axis=2)\n",
    "\n",
    "        print(\"平均值为：\", averages)"
   ]
  },
  {
   "cell_type": "code",
   "execution_count": null,
   "id": "c69d969b",
   "metadata": {},
   "outputs": [],
   "source": []
  }
 ],
 "metadata": {
  "kernelspec": {
   "display_name": "qisibo_TS_to",
   "language": "python",
   "name": "qisibo_ts_to"
  },
  "language_info": {
   "codemirror_mode": {
    "name": "ipython",
    "version": 3
   },
   "file_extension": ".py",
   "mimetype": "text/x-python",
   "name": "python",
   "nbconvert_exporter": "python",
   "pygments_lexer": "ipython3",
   "version": "3.7.13"
  }
 },
 "nbformat": 4,
 "nbformat_minor": 5
}
