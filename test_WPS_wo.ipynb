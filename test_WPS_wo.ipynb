{
 "cells": [
  {
   "attachments": {},
   "cell_type": "markdown",
   "id": "76b4a459",
   "metadata": {},
   "source": [
    "# wo DS"
   ]
  },
  {
   "cell_type": "code",
   "execution_count": 1,
   "id": "66c04c7d",
   "metadata": {},
   "outputs": [
    {
     "name": "stderr",
     "output_type": "stream",
     "text": [
      "/home/yons/anaconda3/envs/qisibo_TS_to/lib/python3.7/site-packages/tqdm/auto.py:22: TqdmWarning: IProgress not found. Please update jupyter and ipywidgets. See https://ipywidgets.readthedocs.io/en/stable/user_install.html\n",
      "  from .autonotebook import tqdm as notebook_tqdm\n"
     ]
    },
    {
     "name": "stdout",
     "output_type": "stream",
     "text": [
      "(50000, 38) (50000, 38) (50000,)\n",
      "(50000, 38) (50000, 38) (50000,)\n",
      "Generator(\n",
      "  (norm1): LayerNorm((38,), eps=1e-05, elementwise_affine=True)\n",
      "  (norm2): LayerNorm((38,), eps=1e-05, elementwise_affine=True)\n",
      "  (conv): Sequential(\n",
      "    (0): Dropout(p=0.2, inplace=False)\n",
      "    (1): ConvLayer(\n",
      "      (padding): ConstantPad1d(padding=(1, 1), value=0.0)\n",
      "      (conv): Conv1d(38, 38, kernel_size=(3,), stride=(1,))\n",
      "      (relu): LeakyReLU(negative_slope=True)\n",
      "    )\n",
      "  )\n",
      "  (discriminator): Sequential(\n",
      "    (0): Linear(in_features=38, out_features=20, bias=True)\n",
      "    (1): LeakyReLU(negative_slope=True)\n",
      "    (2): Linear(in_features=20, out_features=20, bias=True)\n",
      "    (3): LeakyReLU(negative_slope=True)\n",
      "    (4): Linear(in_features=20, out_features=38, bias=True)\n",
      "    (5): Sigmoid()\n",
      "  )\n",
      ")\n",
      "Discriminator(\n",
      "  (norm2): LayerNorm((38,), eps=1e-05, elementwise_affine=True)\n",
      "  (conv): Sequential(\n",
      "    (0): Dropout(p=0.2, inplace=False)\n",
      "    (1): ConvLayer(\n",
      "      (padding): ConstantPad1d(padding=(1, 1), value=0.0)\n",
      "      (conv): Conv1d(38, 38, kernel_size=(3,), stride=(1,))\n",
      "      (relu): LeakyReLU(negative_slope=True)\n",
      "    )\n",
      "  )\n",
      "  (discriminator): Sequential(\n",
      "    (0): Linear(in_features=38, out_features=20, bias=True)\n",
      "    (1): LeakyReLU(negative_slope=True)\n",
      "    (2): Linear(in_features=20, out_features=20, bias=True)\n",
      "    (3): LeakyReLU(negative_slope=True)\n",
      "    (4): Linear(in_features=20, out_features=38, bias=True)\n",
      "    (5): Sigmoid()\n",
      "  )\n",
      ")\n",
      "LSTM_AD(\n",
      "  (lstm): LSTM(228, 64)\n",
      "  (lstm2): LSTM(228, 38)\n",
      "  (fcn): Sequential(\n",
      "    (0): Linear(in_features=38, out_features=38, bias=True)\n",
      "    (1): Sigmoid()\n",
      "  )\n",
      ")\n",
      "======================TRAIN MODE======================\n"
     ]
    },
    {
     "name": "stderr",
     "output_type": "stream",
     "text": [
      "  7%|▋         | 1/15 [00:36<08:26, 36.19s/it]"
     ]
    },
    {
     "name": "stdout",
     "output_type": "stream",
     "text": [
      "Epoch: 1, Steps: 1562 | g_loss Loss: -0.7559786 d_loss Loss: -0.0023440 MSE: 0.0780864 SPD: -0.0780864 PMSE: 0.0345718\n"
     ]
    },
    {
     "name": "stderr",
     "output_type": "stream",
     "text": [
      " 13%|█▎        | 2/15 [01:11<07:45, 35.79s/it]"
     ]
    },
    {
     "name": "stdout",
     "output_type": "stream",
     "text": [
      "Epoch: 2, Steps: 1562 | g_loss Loss: -0.7558799 d_loss Loss: -0.0083881 MSE: 0.0614413 SPD: 0.0166451 PMSE: 0.0246023\n"
     ]
    },
    {
     "name": "stderr",
     "output_type": "stream",
     "text": [
      " 20%|██        | 3/15 [01:47<07:10, 35.90s/it]"
     ]
    },
    {
     "name": "stdout",
     "output_type": "stream",
     "text": [
      "Epoch: 3, Steps: 1562 | g_loss Loss: -0.6382402 d_loss Loss: 0.0344841 MSE: 0.0541277 SPD: 0.0073135 PMSE: 0.0206148\n"
     ]
    },
    {
     "name": "stderr",
     "output_type": "stream",
     "text": [
      " 27%|██▋       | 4/15 [02:23<06:35, 35.93s/it]"
     ]
    },
    {
     "name": "stdout",
     "output_type": "stream",
     "text": [
      "Epoch: 4, Steps: 1562 | g_loss Loss: -0.3063298 d_loss Loss: 0.0040806 MSE: 0.0496344 SPD: 0.0044933 PMSE: 0.0179805\n"
     ]
    },
    {
     "name": "stderr",
     "output_type": "stream",
     "text": [
      " 33%|███▎      | 5/15 [02:59<06:00, 36.02s/it]"
     ]
    },
    {
     "name": "stdout",
     "output_type": "stream",
     "text": [
      "Epoch: 5, Steps: 1562 | g_loss Loss: -0.4232388 d_loss Loss: -0.0253500 MSE: 0.0464522 SPD: 0.0031822 PMSE: 0.0158286\n"
     ]
    },
    {
     "name": "stderr",
     "output_type": "stream",
     "text": [
      " 40%|████      | 6/15 [03:36<05:26, 36.25s/it]"
     ]
    },
    {
     "name": "stdout",
     "output_type": "stream",
     "text": [
      "Epoch: 6, Steps: 1562 | g_loss Loss: -0.4095466 d_loss Loss: -0.0221797 MSE: 0.0438811 SPD: 0.0025711 PMSE: 0.0140874\n"
     ]
    },
    {
     "name": "stderr",
     "output_type": "stream",
     "text": [
      " 47%|████▋     | 7/15 [04:13<04:50, 36.34s/it]"
     ]
    },
    {
     "name": "stdout",
     "output_type": "stream",
     "text": [
      "Epoch: 7, Steps: 1562 | g_loss Loss: -0.4174944 d_loss Loss: -0.0207129 MSE: 0.0416744 SPD: 0.0022067 PMSE: 0.0126526\n"
     ]
    },
    {
     "name": "stderr",
     "output_type": "stream",
     "text": [
      " 53%|█████▎    | 8/15 [04:49<04:14, 36.36s/it]"
     ]
    },
    {
     "name": "stdout",
     "output_type": "stream",
     "text": [
      "Epoch: 8, Steps: 1562 | g_loss Loss: -0.5799662 d_loss Loss: -0.0576198 MSE: 0.0404048 SPD: 0.0012697 PMSE: 0.0114903\n"
     ]
    },
    {
     "name": "stderr",
     "output_type": "stream",
     "text": [
      " 60%|██████    | 9/15 [05:26<03:39, 36.54s/it]"
     ]
    },
    {
     "name": "stdout",
     "output_type": "stream",
     "text": [
      "Epoch: 9, Steps: 1562 | g_loss Loss: -0.5696471 d_loss Loss: -0.0484973 MSE: 0.0393261 SPD: 0.0010787 PMSE: 0.0105414\n"
     ]
    },
    {
     "name": "stderr",
     "output_type": "stream",
     "text": [
      " 67%|██████▋   | 10/15 [06:02<03:02, 36.51s/it]"
     ]
    },
    {
     "name": "stdout",
     "output_type": "stream",
     "text": [
      "Epoch: 10, Steps: 1562 | g_loss Loss: -0.6408039 d_loss Loss: 0.0121621 MSE: 0.0384555 SPD: 0.0008706 PMSE: 0.0097552\n"
     ]
    },
    {
     "name": "stderr",
     "output_type": "stream",
     "text": [
      " 73%|███████▎  | 11/15 [06:39<02:26, 36.58s/it]"
     ]
    },
    {
     "name": "stdout",
     "output_type": "stream",
     "text": [
      "Epoch: 11, Steps: 1562 | g_loss Loss: -0.6424496 d_loss Loss: -0.0048879 MSE: 0.0375776 SPD: 0.0008779 PMSE: 0.0090954\n"
     ]
    },
    {
     "name": "stderr",
     "output_type": "stream",
     "text": [
      " 80%|████████  | 12/15 [07:16<01:50, 36.72s/it]"
     ]
    },
    {
     "name": "stdout",
     "output_type": "stream",
     "text": [
      "Epoch: 12, Steps: 1562 | g_loss Loss: -0.6765340 d_loss Loss: -0.0081568 MSE: 0.0370332 SPD: 0.0005444 PMSE: 0.0085354\n"
     ]
    },
    {
     "name": "stderr",
     "output_type": "stream",
     "text": [
      " 87%|████████▋ | 13/15 [07:53<01:13, 36.89s/it]"
     ]
    },
    {
     "name": "stdout",
     "output_type": "stream",
     "text": [
      "Epoch: 13, Steps: 1562 | g_loss Loss: -0.6773877 d_loss Loss: -0.0473551 MSE: 0.0367528 SPD: 0.0002804 PMSE: 0.0080541\n"
     ]
    },
    {
     "name": "stderr",
     "output_type": "stream",
     "text": [
      " 93%|█████████▎| 14/15 [08:30<00:36, 36.90s/it]"
     ]
    },
    {
     "name": "stdout",
     "output_type": "stream",
     "text": [
      "Epoch: 14, Steps: 1562 | g_loss Loss: -0.8275210 d_loss Loss: 0.0055871 MSE: 0.0365318 SPD: 0.0002210 PMSE: 0.0076354\n"
     ]
    },
    {
     "name": "stderr",
     "output_type": "stream",
     "text": [
      "100%|██████████| 15/15 [09:07<00:00, 36.52s/it]"
     ]
    },
    {
     "name": "stdout",
     "output_type": "stream",
     "text": [
      "Epoch: 15, Steps: 1562 | g_loss Loss: -0.7898203 d_loss Loss: -0.0031695 MSE: 0.0361255 SPD: 0.0004063 PMSE: 0.0072659\n",
      "======================TEST MODE======================\n"
     ]
    },
    {
     "name": "stderr",
     "output_type": "stream",
     "text": [
      "\n"
     ]
    },
    {
     "name": "stdout",
     "output_type": "stream",
     "text": [
      "bb (49994,)\n",
      "test_labels:      (49994,)\n",
      "aa (49994,) (49994,)\n",
      "Finding best f1-score by searching for threshold..\n",
      "{'Accuracy': 0.9947193663239589,\n",
      " 'FN': 235,\n",
      " 'FP': 29,\n",
      " 'TN': 46123,\n",
      " 'TP': 3607,\n",
      " 'f1': 0.9646914441392704,\n",
      " 'latency': 90.88181834224504,\n",
      " 'precision': 0.9920241996919026,\n",
      " 'recall': 0.938833938212301,\n",
      " 'threshold': 0.30069999999999997}\n",
      "(20000, 25) (20000, 25) (20000,)\n",
      "(20000, 25) (20000, 25) (20000,)\n",
      "Generator(\n",
      "  (norm1): LayerNorm((25,), eps=1e-05, elementwise_affine=True)\n",
      "  (norm2): LayerNorm((25,), eps=1e-05, elementwise_affine=True)\n",
      "  (conv): Sequential(\n",
      "    (0): Dropout(p=0.2, inplace=False)\n",
      "    (1): ConvLayer(\n",
      "      (padding): ConstantPad1d(padding=(1, 1), value=0.0)\n",
      "      (conv): Conv1d(25, 25, kernel_size=(3,), stride=(1,))\n",
      "      (relu): LeakyReLU(negative_slope=True)\n",
      "    )\n",
      "  )\n",
      "  (discriminator): Sequential(\n",
      "    (0): Linear(in_features=25, out_features=13, bias=True)\n",
      "    (1): LeakyReLU(negative_slope=True)\n",
      "    (2): Linear(in_features=13, out_features=13, bias=True)\n",
      "    (3): LeakyReLU(negative_slope=True)\n",
      "    (4): Linear(in_features=13, out_features=25, bias=True)\n",
      "    (5): Sigmoid()\n",
      "  )\n",
      ")\n",
      "Discriminator(\n",
      "  (norm2): LayerNorm((25,), eps=1e-05, elementwise_affine=True)\n",
      "  (conv): Sequential(\n",
      "    (0): Dropout(p=0.2, inplace=False)\n",
      "    (1): ConvLayer(\n",
      "      (padding): ConstantPad1d(padding=(1, 1), value=0.0)\n",
      "      (conv): Conv1d(25, 25, kernel_size=(3,), stride=(1,))\n",
      "      (relu): LeakyReLU(negative_slope=True)\n",
      "    )\n",
      "  )\n",
      "  (discriminator): Sequential(\n",
      "    (0): Linear(in_features=25, out_features=13, bias=True)\n",
      "    (1): LeakyReLU(negative_slope=True)\n",
      "    (2): Linear(in_features=13, out_features=13, bias=True)\n",
      "    (3): LeakyReLU(negative_slope=True)\n",
      "    (4): Linear(in_features=13, out_features=25, bias=True)\n",
      "    (5): Sigmoid()\n",
      "  )\n",
      ")\n",
      "LSTM_AD(\n",
      "  (lstm): LSTM(150, 64)\n",
      "  (lstm2): LSTM(150, 25)\n",
      "  (fcn): Sequential(\n",
      "    (0): Linear(in_features=25, out_features=25, bias=True)\n",
      "    (1): Sigmoid()\n",
      "  )\n",
      ")\n",
      "======================TRAIN MODE======================\n"
     ]
    },
    {
     "name": "stderr",
     "output_type": "stream",
     "text": [
      "  7%|▋         | 1/15 [00:14<03:23, 14.55s/it]"
     ]
    },
    {
     "name": "stdout",
     "output_type": "stream",
     "text": [
      "Epoch: 1, Steps: 624 | g_loss Loss: -0.4816470 d_loss Loss: 0.0056113 MSE: 0.0493666 SPD: -0.0493666 PMSE: 0.0184653\n"
     ]
    },
    {
     "name": "stderr",
     "output_type": "stream",
     "text": [
      " 13%|█▎        | 2/15 [00:28<03:06, 14.34s/it]"
     ]
    },
    {
     "name": "stdout",
     "output_type": "stream",
     "text": [
      "Epoch: 2, Steps: 624 | g_loss Loss: -0.4076065 d_loss Loss: 0.0121950 MSE: 0.0483615 SPD: 0.0010051 PMSE: 0.0110090\n"
     ]
    },
    {
     "name": "stderr",
     "output_type": "stream",
     "text": [
      " 20%|██        | 3/15 [00:43<02:53, 14.49s/it]"
     ]
    },
    {
     "name": "stdout",
     "output_type": "stream",
     "text": [
      "Epoch: 3, Steps: 624 | g_loss Loss: -0.6619695 d_loss Loss: 0.0300377 MSE: 0.0475360 SPD: 0.0008255 PMSE: 0.0082545\n"
     ]
    },
    {
     "name": "stderr",
     "output_type": "stream",
     "text": [
      " 27%|██▋       | 4/15 [00:57<02:38, 14.40s/it]"
     ]
    },
    {
     "name": "stdout",
     "output_type": "stream",
     "text": [
      "Epoch: 4, Steps: 624 | g_loss Loss: -0.4768660 d_loss Loss: 0.0388975 MSE: 0.0490858 SPD: -0.0015498 PMSE: 0.0068197\n"
     ]
    },
    {
     "name": "stderr",
     "output_type": "stream",
     "text": [
      " 33%|███▎      | 5/15 [01:12<02:24, 14.46s/it]"
     ]
    },
    {
     "name": "stdout",
     "output_type": "stream",
     "text": [
      "Epoch: 5, Steps: 624 | g_loss Loss: -0.7510638 d_loss Loss: 0.0664126 MSE: 0.0501233 SPD: -0.0010375 PMSE: 0.0059215\n"
     ]
    },
    {
     "name": "stderr",
     "output_type": "stream",
     "text": [
      " 40%|████      | 6/15 [01:26<02:10, 14.51s/it]"
     ]
    },
    {
     "name": "stdout",
     "output_type": "stream",
     "text": [
      "Epoch: 6, Steps: 624 | g_loss Loss: -0.5834891 d_loss Loss: 0.0269584 MSE: 0.0512064 SPD: -0.0010831 PMSE: 0.0052715\n"
     ]
    },
    {
     "name": "stderr",
     "output_type": "stream",
     "text": [
      " 47%|████▋     | 7/15 [01:41<01:56, 14.54s/it]"
     ]
    },
    {
     "name": "stdout",
     "output_type": "stream",
     "text": [
      "Epoch: 7, Steps: 624 | g_loss Loss: -0.6938575 d_loss Loss: 0.0467369 MSE: 0.0528570 SPD: -0.0016506 PMSE: 0.0047552\n"
     ]
    },
    {
     "name": "stderr",
     "output_type": "stream",
     "text": [
      " 53%|█████▎    | 8/15 [01:56<01:41, 14.55s/it]"
     ]
    },
    {
     "name": "stdout",
     "output_type": "stream",
     "text": [
      "Epoch: 8, Steps: 624 | g_loss Loss: -0.7718744 d_loss Loss: 0.0528817 MSE: 0.0524207 SPD: 0.0004363 PMSE: 0.0043286\n"
     ]
    },
    {
     "name": "stderr",
     "output_type": "stream",
     "text": [
      " 60%|██████    | 9/15 [02:10<01:27, 14.55s/it]"
     ]
    },
    {
     "name": "stdout",
     "output_type": "stream",
     "text": [
      "Epoch: 9, Steps: 624 | g_loss Loss: -0.5724420 d_loss Loss: -0.1233643 MSE: 0.0541303 SPD: -0.0017095 PMSE: 0.0039784\n"
     ]
    },
    {
     "name": "stderr",
     "output_type": "stream",
     "text": [
      " 67%|██████▋   | 10/15 [02:25<01:12, 14.59s/it]"
     ]
    },
    {
     "name": "stdout",
     "output_type": "stream",
     "text": [
      "Epoch: 10, Steps: 624 | g_loss Loss: -0.7804278 d_loss Loss: 0.0441185 MSE: 0.0544295 SPD: -0.0002992 PMSE: 0.0036856\n"
     ]
    },
    {
     "name": "stderr",
     "output_type": "stream",
     "text": [
      " 73%|███████▎  | 11/15 [02:40<00:58, 14.70s/it]"
     ]
    },
    {
     "name": "stdout",
     "output_type": "stream",
     "text": [
      "Epoch: 11, Steps: 624 | g_loss Loss: -0.8000693 d_loss Loss: 0.0626171 MSE: 0.0539846 SPD: 0.0004448 PMSE: 0.0034377\n"
     ]
    },
    {
     "name": "stderr",
     "output_type": "stream",
     "text": [
      " 80%|████████  | 12/15 [02:55<00:44, 14.80s/it]"
     ]
    },
    {
     "name": "stdout",
     "output_type": "stream",
     "text": [
      "Epoch: 12, Steps: 624 | g_loss Loss: -0.7133775 d_loss Loss: -0.0049421 MSE: 0.0547251 SPD: -0.0007405 PMSE: 0.0032236\n"
     ]
    },
    {
     "name": "stderr",
     "output_type": "stream",
     "text": [
      " 87%|████████▋ | 13/15 [03:09<00:29, 14.79s/it]"
     ]
    },
    {
     "name": "stdout",
     "output_type": "stream",
     "text": [
      "Epoch: 13, Steps: 624 | g_loss Loss: -0.7879050 d_loss Loss: 0.0362697 MSE: 0.0521956 SPD: 0.0025294 PMSE: 0.0030365\n"
     ]
    },
    {
     "name": "stderr",
     "output_type": "stream",
     "text": [
      " 93%|█████████▎| 14/15 [03:24<00:14, 14.84s/it]"
     ]
    },
    {
     "name": "stdout",
     "output_type": "stream",
     "text": [
      "Epoch: 14, Steps: 624 | g_loss Loss: -0.7609338 d_loss Loss: 0.0192047 MSE: 0.0502691 SPD: 0.0019265 PMSE: 0.0028733\n"
     ]
    },
    {
     "name": "stderr",
     "output_type": "stream",
     "text": [
      "100%|██████████| 15/15 [03:39<00:00, 14.66s/it]"
     ]
    },
    {
     "name": "stdout",
     "output_type": "stream",
     "text": [
      "Epoch: 15, Steps: 624 | g_loss Loss: -0.7499116 d_loss Loss: 0.0269359 MSE: 0.0481794 SPD: 0.0020898 PMSE: 0.0027288\n",
      "======================TEST MODE======================\n"
     ]
    },
    {
     "name": "stderr",
     "output_type": "stream",
     "text": [
      "\n"
     ]
    },
    {
     "name": "stdout",
     "output_type": "stream",
     "text": [
      "bb (19994,)\n",
      "test_labels:      (19994,)\n",
      "aa (19994,) (19994,)\n",
      "Finding best f1-score by searching for threshold..\n",
      "{'Accuracy': 0.9409822946884066,\n",
      " 'FN': 466,\n",
      " 'FP': 714,\n",
      " 'TN': 16181,\n",
      " 'TP': 2633,\n",
      " 'f1': 0.8169357433392749,\n",
      " 'latency': 240.2439939001525,\n",
      " 'precision': 0.7866746316502102,\n",
      " 'recall': 0.8496289098108134,\n",
      " 'threshold': 0.26073999999999997}\n",
      "(20000, 25) (20000, 25) (20000,)\n",
      "(20000, 25) (20000, 25) (20000,)\n",
      "Generator(\n",
      "  (norm1): LayerNorm((25,), eps=1e-05, elementwise_affine=True)\n",
      "  (norm2): LayerNorm((25,), eps=1e-05, elementwise_affine=True)\n",
      "  (conv): Sequential(\n",
      "    (0): Dropout(p=0.2, inplace=False)\n",
      "    (1): ConvLayer(\n",
      "      (padding): ConstantPad1d(padding=(1, 1), value=0.0)\n",
      "      (conv): Conv1d(25, 25, kernel_size=(3,), stride=(1,))\n",
      "      (relu): LeakyReLU(negative_slope=True)\n",
      "    )\n",
      "  )\n",
      "  (discriminator): Sequential(\n",
      "    (0): Linear(in_features=25, out_features=13, bias=True)\n",
      "    (1): LeakyReLU(negative_slope=True)\n",
      "    (2): Linear(in_features=13, out_features=13, bias=True)\n",
      "    (3): LeakyReLU(negative_slope=True)\n",
      "    (4): Linear(in_features=13, out_features=25, bias=True)\n",
      "    (5): Sigmoid()\n",
      "  )\n",
      ")\n",
      "Discriminator(\n",
      "  (norm2): LayerNorm((25,), eps=1e-05, elementwise_affine=True)\n",
      "  (conv): Sequential(\n",
      "    (0): Dropout(p=0.2, inplace=False)\n",
      "    (1): ConvLayer(\n",
      "      (padding): ConstantPad1d(padding=(1, 1), value=0.0)\n",
      "      (conv): Conv1d(25, 25, kernel_size=(3,), stride=(1,))\n",
      "      (relu): LeakyReLU(negative_slope=True)\n",
      "    )\n",
      "  )\n",
      "  (discriminator): Sequential(\n",
      "    (0): Linear(in_features=25, out_features=13, bias=True)\n",
      "    (1): LeakyReLU(negative_slope=True)\n",
      "    (2): Linear(in_features=13, out_features=13, bias=True)\n",
      "    (3): LeakyReLU(negative_slope=True)\n",
      "    (4): Linear(in_features=13, out_features=25, bias=True)\n",
      "    (5): Sigmoid()\n",
      "  )\n",
      ")\n",
      "LSTM_AD(\n",
      "  (lstm): LSTM(150, 64)\n",
      "  (lstm2): LSTM(150, 25)\n",
      "  (fcn): Sequential(\n",
      "    (0): Linear(in_features=25, out_features=25, bias=True)\n",
      "    (1): Sigmoid()\n",
      "  )\n",
      ")\n",
      "======================TRAIN MODE======================\n"
     ]
    },
    {
     "name": "stderr",
     "output_type": "stream",
     "text": [
      "  7%|▋         | 1/15 [00:14<03:22, 14.48s/it]"
     ]
    },
    {
     "name": "stdout",
     "output_type": "stream",
     "text": [
      "Epoch: 1, Steps: 624 | g_loss Loss: -0.2328018 d_loss Loss: -0.3300505 MSE: 0.2212230 SPD: -0.2212230 PMSE: 0.1964939\n"
     ]
    },
    {
     "name": "stderr",
     "output_type": "stream",
     "text": [
      " 13%|█▎        | 2/15 [00:29<03:09, 14.58s/it]"
     ]
    },
    {
     "name": "stdout",
     "output_type": "stream",
     "text": [
      "Epoch: 2, Steps: 624 | g_loss Loss: -0.5964498 d_loss Loss: -0.1527711 MSE: 0.1547585 SPD: 0.0664646 PMSE: 0.1318548\n"
     ]
    },
    {
     "name": "stderr",
     "output_type": "stream",
     "text": [
      " 20%|██        | 3/15 [00:43<02:56, 14.71s/it]"
     ]
    },
    {
     "name": "stdout",
     "output_type": "stream",
     "text": [
      "Epoch: 3, Steps: 624 | g_loss Loss: -0.6438482 d_loss Loss: -0.1177144 MSE: 0.1196116 SPD: 0.0351469 PMSE: 0.1039306\n"
     ]
    },
    {
     "name": "stderr",
     "output_type": "stream",
     "text": [
      " 27%|██▋       | 4/15 [00:58<02:41, 14.72s/it]"
     ]
    },
    {
     "name": "stdout",
     "output_type": "stream",
     "text": [
      "Epoch: 4, Steps: 624 | g_loss Loss: -0.5864630 d_loss Loss: -0.1607073 MSE: 0.0997405 SPD: 0.0198710 PMSE: 0.0887381\n"
     ]
    },
    {
     "name": "stderr",
     "output_type": "stream",
     "text": [
      " 33%|███▎      | 5/15 [01:13<02:27, 14.75s/it]"
     ]
    },
    {
     "name": "stdout",
     "output_type": "stream",
     "text": [
      "Epoch: 5, Steps: 624 | g_loss Loss: -0.5120038 d_loss Loss: -0.0739874 MSE: 0.0875053 SPD: 0.0122352 PMSE: 0.0791738\n"
     ]
    },
    {
     "name": "stderr",
     "output_type": "stream",
     "text": [
      " 40%|████      | 6/15 [01:28<02:12, 14.69s/it]"
     ]
    },
    {
     "name": "stdout",
     "output_type": "stream",
     "text": [
      "Epoch: 6, Steps: 624 | g_loss Loss: -0.4349064 d_loss Loss: -0.1447208 MSE: 0.0792788 SPD: 0.0082265 PMSE: 0.0725843\n"
     ]
    },
    {
     "name": "stderr",
     "output_type": "stream",
     "text": [
      " 47%|████▋     | 7/15 [01:43<01:58, 14.76s/it]"
     ]
    },
    {
     "name": "stdout",
     "output_type": "stream",
     "text": [
      "Epoch: 7, Steps: 624 | g_loss Loss: -0.3682073 d_loss Loss: -0.1981803 MSE: 0.0733871 SPD: 0.0058917 PMSE: 0.0677733\n"
     ]
    },
    {
     "name": "stderr",
     "output_type": "stream",
     "text": [
      " 53%|█████▎    | 8/15 [01:57<01:43, 14.76s/it]"
     ]
    },
    {
     "name": "stdout",
     "output_type": "stream",
     "text": [
      "Epoch: 8, Steps: 624 | g_loss Loss: -0.3067602 d_loss Loss: -0.1814934 MSE: 0.0689634 SPD: 0.0044237 PMSE: 0.0641073\n"
     ]
    },
    {
     "name": "stderr",
     "output_type": "stream",
     "text": [
      " 60%|██████    | 9/15 [02:12<01:27, 14.60s/it]"
     ]
    },
    {
     "name": "stdout",
     "output_type": "stream",
     "text": [
      "Epoch: 9, Steps: 624 | g_loss Loss: -0.2636494 d_loss Loss: -0.1543577 MSE: 0.0655209 SPD: 0.0034425 PMSE: 0.0612231\n"
     ]
    },
    {
     "name": "stderr",
     "output_type": "stream",
     "text": [
      " 67%|██████▋   | 10/15 [02:26<01:12, 14.54s/it]"
     ]
    },
    {
     "name": "stdout",
     "output_type": "stream",
     "text": [
      "Epoch: 10, Steps: 624 | g_loss Loss: -0.2352291 d_loss Loss: -0.0904071 MSE: 0.0627653 SPD: 0.0027556 PMSE: 0.0588940\n"
     ]
    },
    {
     "name": "stderr",
     "output_type": "stream",
     "text": [
      " 73%|███████▎  | 11/15 [02:40<00:58, 14.52s/it]"
     ]
    },
    {
     "name": "stdout",
     "output_type": "stream",
     "text": [
      "Epoch: 11, Steps: 624 | g_loss Loss: -0.2041296 d_loss Loss: -0.1920686 MSE: 0.0606496 SPD: 0.0021157 PMSE: 0.0569722\n"
     ]
    },
    {
     "name": "stderr",
     "output_type": "stream",
     "text": [
      " 80%|████████  | 12/15 [02:55<00:43, 14.53s/it]"
     ]
    },
    {
     "name": "stdout",
     "output_type": "stream",
     "text": [
      "Epoch: 12, Steps: 624 | g_loss Loss: -0.2118627 d_loss Loss: -0.0979024 MSE: 0.0587957 SPD: 0.0018539 PMSE: 0.0553572\n"
     ]
    },
    {
     "name": "stderr",
     "output_type": "stream",
     "text": [
      " 87%|████████▋ | 13/15 [03:10<00:29, 14.59s/it]"
     ]
    },
    {
     "name": "stdout",
     "output_type": "stream",
     "text": [
      "Epoch: 13, Steps: 624 | g_loss Loss: -0.2059692 d_loss Loss: -0.0650469 MSE: 0.0571829 SPD: 0.0016128 PMSE: 0.0539801\n"
     ]
    },
    {
     "name": "stderr",
     "output_type": "stream",
     "text": [
      " 93%|█████████▎| 14/15 [03:24<00:14, 14.59s/it]"
     ]
    },
    {
     "name": "stdout",
     "output_type": "stream",
     "text": [
      "Epoch: 14, Steps: 624 | g_loss Loss: -0.2083273 d_loss Loss: -0.1496201 MSE: 0.0558041 SPD: 0.0013788 PMSE: 0.0527758\n"
     ]
    },
    {
     "name": "stderr",
     "output_type": "stream",
     "text": [
      "100%|██████████| 15/15 [03:39<00:00, 14.63s/it]"
     ]
    },
    {
     "name": "stdout",
     "output_type": "stream",
     "text": [
      "Epoch: 15, Steps: 624 | g_loss Loss: -0.2077886 d_loss Loss: -0.1038084 MSE: 0.0546109 SPD: 0.0011931 PMSE: 0.0516665\n",
      "======================TEST MODE======================\n"
     ]
    },
    {
     "name": "stderr",
     "output_type": "stream",
     "text": [
      "\n"
     ]
    },
    {
     "name": "stdout",
     "output_type": "stream",
     "text": [
      "bb (19994,)\n",
      "test_labels:      (19994,)\n",
      "aa (19994,) (19994,)\n",
      "Finding best f1-score by searching for threshold..\n",
      "{'Accuracy': 0.9666399919975993,\n",
      " 'FN': 0,\n",
      " 'FP': 667,\n",
      " 'TN': 18919,\n",
      " 'TP': 408,\n",
      " 'f1': 0.550232012138253,\n",
      " 'latency': 23.665877804073197,\n",
      " 'precision': 0.37953488019037324,\n",
      " 'recall': 0.9999999754901967,\n",
      " 'threshold': 0.9999999999999999}\n",
      "(20000, 55) (20000, 55) (20000,)\n",
      "(20000, 55) (20000, 55) (20000,)\n",
      "Generator(\n",
      "  (norm1): LayerNorm((55,), eps=1e-05, elementwise_affine=True)\n",
      "  (norm2): LayerNorm((55,), eps=1e-05, elementwise_affine=True)\n",
      "  (conv): Sequential(\n",
      "    (0): Dropout(p=0.2, inplace=False)\n",
      "    (1): ConvLayer(\n",
      "      (padding): ConstantPad1d(padding=(1, 1), value=0.0)\n",
      "      (conv): Conv1d(55, 55, kernel_size=(3,), stride=(1,))\n",
      "      (relu): LeakyReLU(negative_slope=True)\n",
      "    )\n",
      "  )\n",
      "  (discriminator): Sequential(\n",
      "    (0): Linear(in_features=55, out_features=28, bias=True)\n",
      "    (1): LeakyReLU(negative_slope=True)\n",
      "    (2): Linear(in_features=28, out_features=28, bias=True)\n",
      "    (3): LeakyReLU(negative_slope=True)\n",
      "    (4): Linear(in_features=28, out_features=55, bias=True)\n",
      "    (5): Sigmoid()\n",
      "  )\n",
      ")\n",
      "Discriminator(\n",
      "  (norm2): LayerNorm((55,), eps=1e-05, elementwise_affine=True)\n",
      "  (conv): Sequential(\n",
      "    (0): Dropout(p=0.2, inplace=False)\n",
      "    (1): ConvLayer(\n",
      "      (padding): ConstantPad1d(padding=(1, 1), value=0.0)\n",
      "      (conv): Conv1d(55, 55, kernel_size=(3,), stride=(1,))\n",
      "      (relu): LeakyReLU(negative_slope=True)\n",
      "    )\n",
      "  )\n",
      "  (discriminator): Sequential(\n",
      "    (0): Linear(in_features=55, out_features=28, bias=True)\n",
      "    (1): LeakyReLU(negative_slope=True)\n",
      "    (2): Linear(in_features=28, out_features=28, bias=True)\n",
      "    (3): LeakyReLU(negative_slope=True)\n",
      "    (4): Linear(in_features=28, out_features=55, bias=True)\n",
      "    (5): Sigmoid()\n",
      "  )\n",
      ")\n",
      "LSTM_AD(\n",
      "  (lstm): LSTM(330, 64)\n",
      "  (lstm2): LSTM(330, 55)\n",
      "  (fcn): Sequential(\n",
      "    (0): Linear(in_features=55, out_features=55, bias=True)\n",
      "    (1): Sigmoid()\n",
      "  )\n",
      ")\n",
      "======================TRAIN MODE======================\n"
     ]
    },
    {
     "name": "stderr",
     "output_type": "stream",
     "text": [
      "  7%|▋         | 1/15 [00:14<03:26, 14.74s/it]"
     ]
    },
    {
     "name": "stdout",
     "output_type": "stream",
     "text": [
      "Epoch: 1, Steps: 624 | g_loss Loss: -0.4908031 d_loss Loss: -0.1036815 MSE: 0.1298322 SPD: -0.1298322 PMSE: 0.0915997\n"
     ]
    },
    {
     "name": "stderr",
     "output_type": "stream",
     "text": [
      " 13%|█▎        | 2/15 [00:29<03:09, 14.59s/it]"
     ]
    },
    {
     "name": "stdout",
     "output_type": "stream",
     "text": [
      "Epoch: 2, Steps: 624 | g_loss Loss: -0.6551442 d_loss Loss: 0.0105607 MSE: 0.0735346 SPD: 0.0562977 PMSE: 0.0513048\n"
     ]
    },
    {
     "name": "stderr",
     "output_type": "stream",
     "text": [
      " 20%|██        | 3/15 [00:44<02:56, 14.70s/it]"
     ]
    },
    {
     "name": "stdout",
     "output_type": "stream",
     "text": [
      "Epoch: 3, Steps: 624 | g_loss Loss: -0.6295422 d_loss Loss: -0.0131527 MSE: 0.0515598 SPD: 0.0219747 PMSE: 0.0367531\n"
     ]
    },
    {
     "name": "stderr",
     "output_type": "stream",
     "text": [
      " 27%|██▋       | 4/15 [00:58<02:42, 14.78s/it]"
     ]
    },
    {
     "name": "stdout",
     "output_type": "stream",
     "text": [
      "Epoch: 4, Steps: 624 | g_loss Loss: -0.6569251 d_loss Loss: 0.0213139 MSE: 0.0408305 SPD: 0.0107294 PMSE: 0.0292458\n"
     ]
    },
    {
     "name": "stderr",
     "output_type": "stream",
     "text": [
      " 33%|███▎      | 5/15 [01:13<02:27, 14.76s/it]"
     ]
    },
    {
     "name": "stdout",
     "output_type": "stream",
     "text": [
      "Epoch: 5, Steps: 624 | g_loss Loss: -0.6664795 d_loss Loss: 0.0273482 MSE: 0.0337351 SPD: 0.0070954 PMSE: 0.0246512\n"
     ]
    },
    {
     "name": "stderr",
     "output_type": "stream",
     "text": [
      " 40%|████      | 6/15 [01:28<02:13, 14.78s/it]"
     ]
    },
    {
     "name": "stdout",
     "output_type": "stream",
     "text": [
      "Epoch: 6, Steps: 624 | g_loss Loss: -0.6440561 d_loss Loss: 0.0090095 MSE: 0.0291632 SPD: 0.0045719 PMSE: 0.0215080\n"
     ]
    },
    {
     "name": "stderr",
     "output_type": "stream",
     "text": [
      " 47%|████▋     | 7/15 [01:43<01:58, 14.87s/it]"
     ]
    },
    {
     "name": "stdout",
     "output_type": "stream",
     "text": [
      "Epoch: 7, Steps: 624 | g_loss Loss: -0.6759943 d_loss Loss: 0.0448373 MSE: 0.0262580 SPD: 0.0029052 PMSE: 0.0192206\n"
     ]
    },
    {
     "name": "stderr",
     "output_type": "stream",
     "text": [
      " 53%|█████▎    | 8/15 [01:58<01:44, 14.95s/it]"
     ]
    },
    {
     "name": "stdout",
     "output_type": "stream",
     "text": [
      "Epoch: 8, Steps: 624 | g_loss Loss: -0.6358069 d_loss Loss: 0.0091613 MSE: 0.0237527 SPD: 0.0025053 PMSE: 0.0174688\n"
     ]
    },
    {
     "name": "stderr",
     "output_type": "stream",
     "text": [
      " 60%|██████    | 9/15 [02:13<01:30, 15.01s/it]"
     ]
    },
    {
     "name": "stdout",
     "output_type": "stream",
     "text": [
      "Epoch: 9, Steps: 624 | g_loss Loss: -0.6647295 d_loss Loss: 0.0316922 MSE: 0.0221194 SPD: 0.0016334 PMSE: 0.0160645\n"
     ]
    },
    {
     "name": "stderr",
     "output_type": "stream",
     "text": [
      " 67%|██████▋   | 10/15 [02:28<01:15, 15.01s/it]"
     ]
    },
    {
     "name": "stdout",
     "output_type": "stream",
     "text": [
      "Epoch: 10, Steps: 624 | g_loss Loss: -0.6302878 d_loss Loss: 0.0143152 MSE: 0.0205634 SPD: 0.0015560 PMSE: 0.0148816\n"
     ]
    },
    {
     "name": "stderr",
     "output_type": "stream",
     "text": [
      " 73%|███████▎  | 11/15 [02:43<01:00, 15.05s/it]"
     ]
    },
    {
     "name": "stdout",
     "output_type": "stream",
     "text": [
      "Epoch: 11, Steps: 624 | g_loss Loss: -0.6491743 d_loss Loss: 0.0332041 MSE: 0.0194593 SPD: 0.0011041 PMSE: 0.0138851\n"
     ]
    },
    {
     "name": "stderr",
     "output_type": "stream",
     "text": [
      " 80%|████████  | 12/15 [02:58<00:45, 15.03s/it]"
     ]
    },
    {
     "name": "stdout",
     "output_type": "stream",
     "text": [
      "Epoch: 12, Steps: 624 | g_loss Loss: -0.6233230 d_loss Loss: 0.0079163 MSE: 0.0183636 SPD: 0.0010957 PMSE: 0.0130429\n"
     ]
    },
    {
     "name": "stderr",
     "output_type": "stream",
     "text": [
      " 87%|████████▋ | 13/15 [03:14<00:30, 15.05s/it]"
     ]
    },
    {
     "name": "stdout",
     "output_type": "stream",
     "text": [
      "Epoch: 13, Steps: 624 | g_loss Loss: -0.6415532 d_loss Loss: 0.0384425 MSE: 0.0176288 SPD: 0.0007348 PMSE: 0.0123236\n"
     ]
    },
    {
     "name": "stderr",
     "output_type": "stream",
     "text": [
      " 93%|█████████▎| 14/15 [03:29<00:15, 15.08s/it]"
     ]
    },
    {
     "name": "stdout",
     "output_type": "stream",
     "text": [
      "Epoch: 14, Steps: 624 | g_loss Loss: -0.6149287 d_loss Loss: 0.0174035 MSE: 0.0168252 SPD: 0.0008036 PMSE: 0.0117032\n"
     ]
    },
    {
     "name": "stderr",
     "output_type": "stream",
     "text": [
      "100%|██████████| 15/15 [03:44<00:00, 14.97s/it]"
     ]
    },
    {
     "name": "stdout",
     "output_type": "stream",
     "text": [
      "Epoch: 15, Steps: 624 | g_loss Loss: -0.6317189 d_loss Loss: 0.0270515 MSE: 0.0162406 SPD: 0.0005846 PMSE: 0.0111625\n",
      "======================TEST MODE======================\n"
     ]
    },
    {
     "name": "stderr",
     "output_type": "stream",
     "text": [
      "\n"
     ]
    },
    {
     "name": "stdout",
     "output_type": "stream",
     "text": [
      "bb (19994,)\n",
      "test_labels:      (19994,)\n",
      "aa (19994,) (19994,)\n",
      "Finding best f1-score by searching for threshold..\n",
      "{'Accuracy': 0.9746423927178154,\n",
      " 'FN': 410,\n",
      " 'FP': 97,\n",
      " 'TN': 17757,\n",
      " 'TP': 1730,\n",
      " 'f1': 0.8721906405718027,\n",
      " 'latency': 73.99876668722189,\n",
      " 'precision': 0.9469074934487822,\n",
      " 'recall': 0.8084112111756485,\n",
      " 'threshold': 0.42057999999999995}\n"
     ]
    }
   ],
   "source": [
    "\n",
    "import os\n",
    "\n",
    "from torch.backends import cudnn\n",
    "from utils.utils import *\n",
    "\n",
    "from solver import Solver\n",
    "config={\n",
    "    'num_epochs': 15,\n",
    "    'win_size': 6, \n",
    "    'batch_size': 32, \n",
    "#     'batch_size': 4096, \n",
    "    'mode': 'train', \n",
    "    'dataset': 'PSM', \n",
    "    'data_path': 'dataset/PSM',\n",
    "    'input_c': 25,\n",
    "    'seed': 3,\n",
    "    'lr': 1e-4,\n",
    "    'model_save_path':'checkpoints',\n",
    "    'latent_dim':100,\n",
    "    'alpha':0,\n",
    "    'beta':1,\n",
    "    'b1':0.5,\n",
    "    'b2':0.999\n",
    "\n",
    "}\n",
    "# datasets = ['MSL','SMAP','SWaT','SMD','PSM']\n",
    "datasets = ['SMD','PSM','SMAP','MSL']\n",
    "# datasets = ['SMD']\n",
    "# methods = ['USAD','OmniAnomaly','MAD_GAN','MSCRED','DAGMM','OmniAnomaly']\n",
    "\n",
    "\n",
    "\n",
    "for dataset in datasets:\n",
    "        if dataset == 'SMD':\n",
    "                config['input_c'] = 38\n",
    "                config['dataset'] = 'SMD'\n",
    "                config['data_path'] = 'dataset/SMD'\n",
    "                config['anormly_ratio'] = 0.5\n",
    "        elif dataset == 'PSM':\n",
    "                config['input_c'] = 25\n",
    "                config['dataset'] = 'PSM'\n",
    "                config['data_path'] = 'dataset/PSM'\n",
    "        elif dataset == 'MSL':\n",
    "                config['input_c'] = 55\n",
    "                config['dataset'] = 'MSL'\n",
    "                config['data_path'] = 'dataset/MSL'\n",
    "        elif dataset == 'SMAP':\n",
    "                config['input_c'] = 25\n",
    "                config['dataset'] = 'SMAP'\n",
    "                config['data_path'] = 'dataset/SMAP'\n",
    "        elif dataset == 'SWaT':\n",
    "                config['input_c'] = 50\n",
    "                config['dataset'] = 'SWaT'\n",
    "                config['data_path'] = 'dataset/SWaT'\n",
    "                config['anormly_ratio'] = 0.1\n",
    "\n",
    "        np.random.seed(config['seed'])\n",
    "        torch.manual_seed(config['seed'])\n",
    "        torch.cuda.manual_seed(config['seed'])\n",
    "        cudnn.benchmark = True\n",
    "        if (not os.path.exists(config['model_save_path'])):\n",
    "                mkdir(config['model_save_path'])\n",
    "\n",
    "        solver = Solver(config)\n",
    "\n",
    "        solver.train()\n",
    "        solver.test()"
   ]
  },
  {
   "attachments": {},
   "cell_type": "markdown",
   "id": "40b2d613",
   "metadata": {},
   "source": [
    "# wo PS"
   ]
  },
  {
   "cell_type": "code",
   "execution_count": 2,
   "id": "9c6bd0eb",
   "metadata": {},
   "outputs": [
    {
     "name": "stdout",
     "output_type": "stream",
     "text": [
      "(50000, 38) (50000, 38) (50000,)\n",
      "(50000, 38) (50000, 38) (50000,)\n",
      "Generator(\n",
      "  (norm1): LayerNorm((38,), eps=1e-05, elementwise_affine=True)\n",
      "  (norm2): LayerNorm((38,), eps=1e-05, elementwise_affine=True)\n",
      "  (conv): Sequential(\n",
      "    (0): Dropout(p=0.2, inplace=False)\n",
      "    (1): ConvLayer(\n",
      "      (padding): ConstantPad1d(padding=(1, 1), value=0.0)\n",
      "      (conv): Conv1d(38, 38, kernel_size=(3,), stride=(1,))\n",
      "      (relu): LeakyReLU(negative_slope=True)\n",
      "    )\n",
      "  )\n",
      "  (discriminator): Sequential(\n",
      "    (0): Linear(in_features=38, out_features=20, bias=True)\n",
      "    (1): LeakyReLU(negative_slope=True)\n",
      "    (2): Linear(in_features=20, out_features=20, bias=True)\n",
      "    (3): LeakyReLU(negative_slope=True)\n",
      "    (4): Linear(in_features=20, out_features=38, bias=True)\n",
      "    (5): Sigmoid()\n",
      "  )\n",
      ")\n",
      "Discriminator(\n",
      "  (norm2): LayerNorm((38,), eps=1e-05, elementwise_affine=True)\n",
      "  (conv): Sequential(\n",
      "    (0): Dropout(p=0.2, inplace=False)\n",
      "    (1): ConvLayer(\n",
      "      (padding): ConstantPad1d(padding=(1, 1), value=0.0)\n",
      "      (conv): Conv1d(38, 38, kernel_size=(3,), stride=(1,))\n",
      "      (relu): LeakyReLU(negative_slope=True)\n",
      "    )\n",
      "  )\n",
      "  (discriminator): Sequential(\n",
      "    (0): Linear(in_features=38, out_features=20, bias=True)\n",
      "    (1): LeakyReLU(negative_slope=True)\n",
      "    (2): Linear(in_features=20, out_features=20, bias=True)\n",
      "    (3): LeakyReLU(negative_slope=True)\n",
      "    (4): Linear(in_features=20, out_features=38, bias=True)\n",
      "    (5): Sigmoid()\n",
      "  )\n",
      ")\n",
      "LSTM_AD(\n",
      "  (lstm): LSTM(228, 64)\n",
      "  (lstm2): LSTM(228, 38)\n",
      "  (fcn): Sequential(\n",
      "    (0): Linear(in_features=38, out_features=38, bias=True)\n",
      "    (1): Sigmoid()\n",
      "  )\n",
      ")\n",
      "======================TRAIN MODE======================\n"
     ]
    },
    {
     "name": "stderr",
     "output_type": "stream",
     "text": [
      "  7%|▋         | 1/15 [00:36<08:29, 36.38s/it]"
     ]
    },
    {
     "name": "stdout",
     "output_type": "stream",
     "text": [
      "Epoch: 1, Steps: 1562 | g_loss Loss: -0.7559786 d_loss Loss: -0.0023440 MSE: 0.0780864 SPD: -0.0780864 PMSE: 0.0345718\n"
     ]
    },
    {
     "name": "stderr",
     "output_type": "stream",
     "text": [
      " 13%|█▎        | 2/15 [01:12<07:49, 36.12s/it]"
     ]
    },
    {
     "name": "stdout",
     "output_type": "stream",
     "text": [
      "Epoch: 2, Steps: 1562 | g_loss Loss: -0.7558799 d_loss Loss: -0.0083881 MSE: 0.0614413 SPD: 0.0166451 PMSE: 0.0246023\n"
     ]
    },
    {
     "name": "stderr",
     "output_type": "stream",
     "text": [
      " 20%|██        | 3/15 [01:48<07:15, 36.28s/it]"
     ]
    },
    {
     "name": "stdout",
     "output_type": "stream",
     "text": [
      "Epoch: 3, Steps: 1562 | g_loss Loss: -0.6382402 d_loss Loss: 0.0344841 MSE: 0.0541277 SPD: 0.0073135 PMSE: 0.0206148\n"
     ]
    },
    {
     "name": "stderr",
     "output_type": "stream",
     "text": [
      " 27%|██▋       | 4/15 [02:24<06:38, 36.23s/it]"
     ]
    },
    {
     "name": "stdout",
     "output_type": "stream",
     "text": [
      "Epoch: 4, Steps: 1562 | g_loss Loss: -0.3063298 d_loss Loss: 0.0040806 MSE: 0.0496344 SPD: 0.0044933 PMSE: 0.0179805\n"
     ]
    },
    {
     "name": "stderr",
     "output_type": "stream",
     "text": [
      " 33%|███▎      | 5/15 [03:01<06:04, 36.48s/it]"
     ]
    },
    {
     "name": "stdout",
     "output_type": "stream",
     "text": [
      "Epoch: 5, Steps: 1562 | g_loss Loss: -0.4232388 d_loss Loss: -0.0253500 MSE: 0.0464522 SPD: 0.0031822 PMSE: 0.0158286\n"
     ]
    },
    {
     "name": "stderr",
     "output_type": "stream",
     "text": [
      " 40%|████      | 6/15 [03:38<05:30, 36.67s/it]"
     ]
    },
    {
     "name": "stdout",
     "output_type": "stream",
     "text": [
      "Epoch: 6, Steps: 1562 | g_loss Loss: -0.4095466 d_loss Loss: -0.0221797 MSE: 0.0438811 SPD: 0.0025711 PMSE: 0.0140874\n"
     ]
    },
    {
     "name": "stderr",
     "output_type": "stream",
     "text": [
      " 47%|████▋     | 7/15 [04:17<04:57, 37.22s/it]"
     ]
    },
    {
     "name": "stdout",
     "output_type": "stream",
     "text": [
      "Epoch: 7, Steps: 1562 | g_loss Loss: -0.4174944 d_loss Loss: -0.0207129 MSE: 0.0416744 SPD: 0.0022067 PMSE: 0.0126526\n"
     ]
    },
    {
     "name": "stderr",
     "output_type": "stream",
     "text": [
      " 53%|█████▎    | 8/15 [04:57<04:26, 38.05s/it]"
     ]
    },
    {
     "name": "stdout",
     "output_type": "stream",
     "text": [
      "Epoch: 8, Steps: 1562 | g_loss Loss: -0.5799662 d_loss Loss: -0.0576198 MSE: 0.0404048 SPD: 0.0012697 PMSE: 0.0114903\n"
     ]
    },
    {
     "name": "stderr",
     "output_type": "stream",
     "text": [
      " 60%|██████    | 9/15 [05:37<03:52, 38.67s/it]"
     ]
    },
    {
     "name": "stdout",
     "output_type": "stream",
     "text": [
      "Epoch: 9, Steps: 1562 | g_loss Loss: -0.5696471 d_loss Loss: -0.0484973 MSE: 0.0393261 SPD: 0.0010787 PMSE: 0.0105414\n"
     ]
    },
    {
     "name": "stderr",
     "output_type": "stream",
     "text": [
      " 67%|██████▋   | 10/15 [06:16<03:14, 38.96s/it]"
     ]
    },
    {
     "name": "stdout",
     "output_type": "stream",
     "text": [
      "Epoch: 10, Steps: 1562 | g_loss Loss: -0.6408039 d_loss Loss: 0.0121621 MSE: 0.0384555 SPD: 0.0008706 PMSE: 0.0097552\n"
     ]
    },
    {
     "name": "stderr",
     "output_type": "stream",
     "text": [
      " 73%|███████▎  | 11/15 [06:55<02:35, 38.78s/it]"
     ]
    },
    {
     "name": "stdout",
     "output_type": "stream",
     "text": [
      "Epoch: 11, Steps: 1562 | g_loss Loss: -0.6424496 d_loss Loss: -0.0048879 MSE: 0.0375776 SPD: 0.0008779 PMSE: 0.0090954\n"
     ]
    },
    {
     "name": "stderr",
     "output_type": "stream",
     "text": [
      " 80%|████████  | 12/15 [07:33<01:56, 38.75s/it]"
     ]
    },
    {
     "name": "stdout",
     "output_type": "stream",
     "text": [
      "Epoch: 12, Steps: 1562 | g_loss Loss: -0.6765340 d_loss Loss: -0.0081568 MSE: 0.0370332 SPD: 0.0005444 PMSE: 0.0085354\n"
     ]
    },
    {
     "name": "stderr",
     "output_type": "stream",
     "text": [
      " 87%|████████▋ | 13/15 [08:13<01:18, 39.05s/it]"
     ]
    },
    {
     "name": "stdout",
     "output_type": "stream",
     "text": [
      "Epoch: 13, Steps: 1562 | g_loss Loss: -0.6773877 d_loss Loss: -0.0473551 MSE: 0.0367528 SPD: 0.0002804 PMSE: 0.0080541\n"
     ]
    },
    {
     "name": "stderr",
     "output_type": "stream",
     "text": [
      " 93%|█████████▎| 14/15 [08:53<00:39, 39.26s/it]"
     ]
    },
    {
     "name": "stdout",
     "output_type": "stream",
     "text": [
      "Epoch: 14, Steps: 1562 | g_loss Loss: -0.8275210 d_loss Loss: 0.0055871 MSE: 0.0365318 SPD: 0.0002210 PMSE: 0.0076354\n"
     ]
    },
    {
     "name": "stderr",
     "output_type": "stream",
     "text": [
      "100%|██████████| 15/15 [09:35<00:00, 38.37s/it]"
     ]
    },
    {
     "name": "stdout",
     "output_type": "stream",
     "text": [
      "Epoch: 15, Steps: 1562 | g_loss Loss: -0.7898203 d_loss Loss: -0.0031695 MSE: 0.0361255 SPD: 0.0004063 PMSE: 0.0072659\n",
      "======================TEST MODE======================\n"
     ]
    },
    {
     "name": "stderr",
     "output_type": "stream",
     "text": [
      "\n"
     ]
    },
    {
     "name": "stdout",
     "output_type": "stream",
     "text": [
      "bb (49994,)\n",
      "test_labels:      (49994,)\n",
      "aa (49994,) (49994,)\n",
      "Finding best f1-score by searching for threshold..\n",
      "{'Accuracy': 0.9887186462375485,\n",
      " 'FN': 267,\n",
      " 'FP': 297,\n",
      " 'TN': 45855,\n",
      " 'TP': 3575,\n",
      " 'f1': 0.9268811786691321,\n",
      " 'latency': 166.37396016274897,\n",
      " 'precision': 0.9232954521609105,\n",
      " 'recall': 0.9305049429190396,\n",
      " 'threshold': 0.14085999999999999}\n",
      "(20000, 25) (20000, 25) (20000,)\n",
      "(20000, 25) (20000, 25) (20000,)\n",
      "Generator(\n",
      "  (norm1): LayerNorm((25,), eps=1e-05, elementwise_affine=True)\n",
      "  (norm2): LayerNorm((25,), eps=1e-05, elementwise_affine=True)\n",
      "  (conv): Sequential(\n",
      "    (0): Dropout(p=0.2, inplace=False)\n",
      "    (1): ConvLayer(\n",
      "      (padding): ConstantPad1d(padding=(1, 1), value=0.0)\n",
      "      (conv): Conv1d(25, 25, kernel_size=(3,), stride=(1,))\n",
      "      (relu): LeakyReLU(negative_slope=True)\n",
      "    )\n",
      "  )\n",
      "  (discriminator): Sequential(\n",
      "    (0): Linear(in_features=25, out_features=13, bias=True)\n",
      "    (1): LeakyReLU(negative_slope=True)\n",
      "    (2): Linear(in_features=13, out_features=13, bias=True)\n",
      "    (3): LeakyReLU(negative_slope=True)\n",
      "    (4): Linear(in_features=13, out_features=25, bias=True)\n",
      "    (5): Sigmoid()\n",
      "  )\n",
      ")\n",
      "Discriminator(\n",
      "  (norm2): LayerNorm((25,), eps=1e-05, elementwise_affine=True)\n",
      "  (conv): Sequential(\n",
      "    (0): Dropout(p=0.2, inplace=False)\n",
      "    (1): ConvLayer(\n",
      "      (padding): ConstantPad1d(padding=(1, 1), value=0.0)\n",
      "      (conv): Conv1d(25, 25, kernel_size=(3,), stride=(1,))\n",
      "      (relu): LeakyReLU(negative_slope=True)\n",
      "    )\n",
      "  )\n",
      "  (discriminator): Sequential(\n",
      "    (0): Linear(in_features=25, out_features=13, bias=True)\n",
      "    (1): LeakyReLU(negative_slope=True)\n",
      "    (2): Linear(in_features=13, out_features=13, bias=True)\n",
      "    (3): LeakyReLU(negative_slope=True)\n",
      "    (4): Linear(in_features=13, out_features=25, bias=True)\n",
      "    (5): Sigmoid()\n",
      "  )\n",
      ")\n",
      "LSTM_AD(\n",
      "  (lstm): LSTM(150, 64)\n",
      "  (lstm2): LSTM(150, 25)\n",
      "  (fcn): Sequential(\n",
      "    (0): Linear(in_features=25, out_features=25, bias=True)\n",
      "    (1): Sigmoid()\n",
      "  )\n",
      ")\n",
      "======================TRAIN MODE======================\n"
     ]
    },
    {
     "name": "stderr",
     "output_type": "stream",
     "text": [
      "  7%|▋         | 1/15 [00:15<03:32, 15.18s/it]"
     ]
    },
    {
     "name": "stdout",
     "output_type": "stream",
     "text": [
      "Epoch: 1, Steps: 624 | g_loss Loss: -0.4816470 d_loss Loss: 0.0056113 MSE: 0.0493666 SPD: -0.0493666 PMSE: 0.0184653\n"
     ]
    },
    {
     "name": "stderr",
     "output_type": "stream",
     "text": [
      " 13%|█▎        | 2/15 [00:31<03:28, 16.04s/it]"
     ]
    },
    {
     "name": "stdout",
     "output_type": "stream",
     "text": [
      "Epoch: 2, Steps: 624 | g_loss Loss: -0.4076065 d_loss Loss: 0.0121950 MSE: 0.0483615 SPD: 0.0010051 PMSE: 0.0110090\n"
     ]
    },
    {
     "name": "stderr",
     "output_type": "stream",
     "text": [
      " 20%|██        | 3/15 [00:47<03:09, 15.83s/it]"
     ]
    },
    {
     "name": "stdout",
     "output_type": "stream",
     "text": [
      "Epoch: 3, Steps: 624 | g_loss Loss: -0.6619695 d_loss Loss: 0.0300377 MSE: 0.0475360 SPD: 0.0008255 PMSE: 0.0082545\n"
     ]
    },
    {
     "name": "stderr",
     "output_type": "stream",
     "text": [
      " 27%|██▋       | 4/15 [01:03<02:54, 15.83s/it]"
     ]
    },
    {
     "name": "stdout",
     "output_type": "stream",
     "text": [
      "Epoch: 4, Steps: 624 | g_loss Loss: -0.4768660 d_loss Loss: 0.0388975 MSE: 0.0490858 SPD: -0.0015498 PMSE: 0.0068197\n"
     ]
    },
    {
     "name": "stderr",
     "output_type": "stream",
     "text": [
      " 33%|███▎      | 5/15 [01:18<02:37, 15.74s/it]"
     ]
    },
    {
     "name": "stdout",
     "output_type": "stream",
     "text": [
      "Epoch: 5, Steps: 624 | g_loss Loss: -0.7510638 d_loss Loss: 0.0664126 MSE: 0.0501233 SPD: -0.0010375 PMSE: 0.0059215\n"
     ]
    },
    {
     "name": "stderr",
     "output_type": "stream",
     "text": [
      " 40%|████      | 6/15 [01:34<02:21, 15.71s/it]"
     ]
    },
    {
     "name": "stdout",
     "output_type": "stream",
     "text": [
      "Epoch: 6, Steps: 624 | g_loss Loss: -0.5834891 d_loss Loss: 0.0269584 MSE: 0.0512064 SPD: -0.0010831 PMSE: 0.0052715\n"
     ]
    },
    {
     "name": "stderr",
     "output_type": "stream",
     "text": [
      " 47%|████▋     | 7/15 [01:50<02:05, 15.70s/it]"
     ]
    },
    {
     "name": "stdout",
     "output_type": "stream",
     "text": [
      "Epoch: 7, Steps: 624 | g_loss Loss: -0.6938575 d_loss Loss: 0.0467369 MSE: 0.0528570 SPD: -0.0016506 PMSE: 0.0047552\n"
     ]
    },
    {
     "name": "stderr",
     "output_type": "stream",
     "text": [
      " 53%|█████▎    | 8/15 [02:05<01:49, 15.63s/it]"
     ]
    },
    {
     "name": "stdout",
     "output_type": "stream",
     "text": [
      "Epoch: 8, Steps: 624 | g_loss Loss: -0.7718744 d_loss Loss: 0.0528817 MSE: 0.0524207 SPD: 0.0004363 PMSE: 0.0043286\n"
     ]
    },
    {
     "name": "stderr",
     "output_type": "stream",
     "text": [
      " 60%|██████    | 9/15 [02:21<01:33, 15.65s/it]"
     ]
    },
    {
     "name": "stdout",
     "output_type": "stream",
     "text": [
      "Epoch: 9, Steps: 624 | g_loss Loss: -0.5724420 d_loss Loss: -0.1233643 MSE: 0.0541303 SPD: -0.0017095 PMSE: 0.0039784\n"
     ]
    },
    {
     "name": "stderr",
     "output_type": "stream",
     "text": [
      " 67%|██████▋   | 10/15 [02:37<01:18, 15.68s/it]"
     ]
    },
    {
     "name": "stdout",
     "output_type": "stream",
     "text": [
      "Epoch: 10, Steps: 624 | g_loss Loss: -0.7804278 d_loss Loss: 0.0441185 MSE: 0.0544295 SPD: -0.0002992 PMSE: 0.0036856\n"
     ]
    },
    {
     "name": "stderr",
     "output_type": "stream",
     "text": [
      " 73%|███████▎  | 11/15 [02:52<01:02, 15.70s/it]"
     ]
    },
    {
     "name": "stdout",
     "output_type": "stream",
     "text": [
      "Epoch: 11, Steps: 624 | g_loss Loss: -0.8000693 d_loss Loss: 0.0626171 MSE: 0.0539846 SPD: 0.0004448 PMSE: 0.0034377\n"
     ]
    },
    {
     "name": "stderr",
     "output_type": "stream",
     "text": [
      " 80%|████████  | 12/15 [03:08<00:47, 15.72s/it]"
     ]
    },
    {
     "name": "stdout",
     "output_type": "stream",
     "text": [
      "Epoch: 12, Steps: 624 | g_loss Loss: -0.7133775 d_loss Loss: -0.0049421 MSE: 0.0547251 SPD: -0.0007405 PMSE: 0.0032236\n"
     ]
    },
    {
     "name": "stderr",
     "output_type": "stream",
     "text": [
      " 87%|████████▋ | 13/15 [03:24<00:31, 15.75s/it]"
     ]
    },
    {
     "name": "stdout",
     "output_type": "stream",
     "text": [
      "Epoch: 13, Steps: 624 | g_loss Loss: -0.7879050 d_loss Loss: 0.0362697 MSE: 0.0521956 SPD: 0.0025294 PMSE: 0.0030365\n"
     ]
    },
    {
     "name": "stderr",
     "output_type": "stream",
     "text": [
      " 93%|█████████▎| 14/15 [03:40<00:15, 15.78s/it]"
     ]
    },
    {
     "name": "stdout",
     "output_type": "stream",
     "text": [
      "Epoch: 14, Steps: 624 | g_loss Loss: -0.7609338 d_loss Loss: 0.0192047 MSE: 0.0502691 SPD: 0.0019265 PMSE: 0.0028733\n"
     ]
    },
    {
     "name": "stderr",
     "output_type": "stream",
     "text": [
      "100%|██████████| 15/15 [03:55<00:00, 15.73s/it]"
     ]
    },
    {
     "name": "stdout",
     "output_type": "stream",
     "text": [
      "Epoch: 15, Steps: 624 | g_loss Loss: -0.7499116 d_loss Loss: 0.0269359 MSE: 0.0481794 SPD: 0.0020898 PMSE: 0.0027288\n",
      "======================TEST MODE======================\n"
     ]
    },
    {
     "name": "stderr",
     "output_type": "stream",
     "text": [
      "\n"
     ]
    },
    {
     "name": "stdout",
     "output_type": "stream",
     "text": [
      "bb (19994,)\n",
      "test_labels:      (19994,)\n",
      "aa (19994,) (19994,)\n",
      "Finding best f1-score by searching for threshold..\n",
      "{'Accuracy': 0.9789936981094328,\n",
      " 'FN': 69,\n",
      " 'FP': 351,\n",
      " 'TN': 16544,\n",
      " 'TP': 3030,\n",
      " 'f1': 0.9351801917947496,\n",
      " 'latency': 154.79690406191878,\n",
      " 'precision': 0.8961845581301846,\n",
      " 'recall': 0.9777347499911753,\n",
      " 'threshold': 0.09423999999999999}\n",
      "(20000, 25) (20000, 25) (20000,)\n",
      "(20000, 25) (20000, 25) (20000,)\n",
      "Generator(\n",
      "  (norm1): LayerNorm((25,), eps=1e-05, elementwise_affine=True)\n",
      "  (norm2): LayerNorm((25,), eps=1e-05, elementwise_affine=True)\n",
      "  (conv): Sequential(\n",
      "    (0): Dropout(p=0.2, inplace=False)\n",
      "    (1): ConvLayer(\n",
      "      (padding): ConstantPad1d(padding=(1, 1), value=0.0)\n",
      "      (conv): Conv1d(25, 25, kernel_size=(3,), stride=(1,))\n",
      "      (relu): LeakyReLU(negative_slope=True)\n",
      "    )\n",
      "  )\n",
      "  (discriminator): Sequential(\n",
      "    (0): Linear(in_features=25, out_features=13, bias=True)\n",
      "    (1): LeakyReLU(negative_slope=True)\n",
      "    (2): Linear(in_features=13, out_features=13, bias=True)\n",
      "    (3): LeakyReLU(negative_slope=True)\n",
      "    (4): Linear(in_features=13, out_features=25, bias=True)\n",
      "    (5): Sigmoid()\n",
      "  )\n",
      ")\n",
      "Discriminator(\n",
      "  (norm2): LayerNorm((25,), eps=1e-05, elementwise_affine=True)\n",
      "  (conv): Sequential(\n",
      "    (0): Dropout(p=0.2, inplace=False)\n",
      "    (1): ConvLayer(\n",
      "      (padding): ConstantPad1d(padding=(1, 1), value=0.0)\n",
      "      (conv): Conv1d(25, 25, kernel_size=(3,), stride=(1,))\n",
      "      (relu): LeakyReLU(negative_slope=True)\n",
      "    )\n",
      "  )\n",
      "  (discriminator): Sequential(\n",
      "    (0): Linear(in_features=25, out_features=13, bias=True)\n",
      "    (1): LeakyReLU(negative_slope=True)\n",
      "    (2): Linear(in_features=13, out_features=13, bias=True)\n",
      "    (3): LeakyReLU(negative_slope=True)\n",
      "    (4): Linear(in_features=13, out_features=25, bias=True)\n",
      "    (5): Sigmoid()\n",
      "  )\n",
      ")\n",
      "LSTM_AD(\n",
      "  (lstm): LSTM(150, 64)\n",
      "  (lstm2): LSTM(150, 25)\n",
      "  (fcn): Sequential(\n",
      "    (0): Linear(in_features=25, out_features=25, bias=True)\n",
      "    (1): Sigmoid()\n",
      "  )\n",
      ")\n",
      "======================TRAIN MODE======================\n"
     ]
    },
    {
     "name": "stderr",
     "output_type": "stream",
     "text": [
      "  7%|▋         | 1/15 [00:14<03:28, 14.87s/it]"
     ]
    },
    {
     "name": "stdout",
     "output_type": "stream",
     "text": [
      "Epoch: 1, Steps: 624 | g_loss Loss: -0.2328018 d_loss Loss: -0.3300505 MSE: 0.2212230 SPD: -0.2212230 PMSE: 0.1964939\n"
     ]
    },
    {
     "name": "stderr",
     "output_type": "stream",
     "text": [
      " 13%|█▎        | 2/15 [00:29<03:12, 14.83s/it]"
     ]
    },
    {
     "name": "stdout",
     "output_type": "stream",
     "text": [
      "Epoch: 2, Steps: 624 | g_loss Loss: -0.5964498 d_loss Loss: -0.1527711 MSE: 0.1547585 SPD: 0.0664646 PMSE: 0.1318548\n"
     ]
    },
    {
     "name": "stderr",
     "output_type": "stream",
     "text": [
      " 20%|██        | 3/15 [00:44<02:58, 14.89s/it]"
     ]
    },
    {
     "name": "stdout",
     "output_type": "stream",
     "text": [
      "Epoch: 3, Steps: 624 | g_loss Loss: -0.6438482 d_loss Loss: -0.1177144 MSE: 0.1196116 SPD: 0.0351469 PMSE: 0.1039306\n"
     ]
    },
    {
     "name": "stderr",
     "output_type": "stream",
     "text": [
      " 27%|██▋       | 4/15 [00:59<02:44, 14.93s/it]"
     ]
    },
    {
     "name": "stdout",
     "output_type": "stream",
     "text": [
      "Epoch: 4, Steps: 624 | g_loss Loss: -0.5864630 d_loss Loss: -0.1607073 MSE: 0.0997405 SPD: 0.0198710 PMSE: 0.0887381\n"
     ]
    },
    {
     "name": "stderr",
     "output_type": "stream",
     "text": [
      " 33%|███▎      | 5/15 [01:14<02:30, 15.00s/it]"
     ]
    },
    {
     "name": "stdout",
     "output_type": "stream",
     "text": [
      "Epoch: 5, Steps: 624 | g_loss Loss: -0.5120038 d_loss Loss: -0.0739874 MSE: 0.0875053 SPD: 0.0122352 PMSE: 0.0791738\n"
     ]
    },
    {
     "name": "stderr",
     "output_type": "stream",
     "text": [
      " 40%|████      | 6/15 [01:29<02:14, 15.00s/it]"
     ]
    },
    {
     "name": "stdout",
     "output_type": "stream",
     "text": [
      "Epoch: 6, Steps: 624 | g_loss Loss: -0.4349064 d_loss Loss: -0.1447208 MSE: 0.0792788 SPD: 0.0082265 PMSE: 0.0725843\n"
     ]
    },
    {
     "name": "stderr",
     "output_type": "stream",
     "text": [
      " 47%|████▋     | 7/15 [01:44<02:00, 15.01s/it]"
     ]
    },
    {
     "name": "stdout",
     "output_type": "stream",
     "text": [
      "Epoch: 7, Steps: 624 | g_loss Loss: -0.3682073 d_loss Loss: -0.1981803 MSE: 0.0733871 SPD: 0.0058917 PMSE: 0.0677733\n"
     ]
    },
    {
     "name": "stderr",
     "output_type": "stream",
     "text": [
      " 53%|█████▎    | 8/15 [02:00<01:45, 15.09s/it]"
     ]
    },
    {
     "name": "stdout",
     "output_type": "stream",
     "text": [
      "Epoch: 8, Steps: 624 | g_loss Loss: -0.3067602 d_loss Loss: -0.1814934 MSE: 0.0689634 SPD: 0.0044237 PMSE: 0.0641073\n"
     ]
    },
    {
     "name": "stderr",
     "output_type": "stream",
     "text": [
      " 60%|██████    | 9/15 [02:15<01:30, 15.12s/it]"
     ]
    },
    {
     "name": "stdout",
     "output_type": "stream",
     "text": [
      "Epoch: 9, Steps: 624 | g_loss Loss: -0.2636494 d_loss Loss: -0.1543577 MSE: 0.0655209 SPD: 0.0034425 PMSE: 0.0612231\n"
     ]
    },
    {
     "name": "stderr",
     "output_type": "stream",
     "text": [
      " 67%|██████▋   | 10/15 [02:30<01:15, 15.12s/it]"
     ]
    },
    {
     "name": "stdout",
     "output_type": "stream",
     "text": [
      "Epoch: 10, Steps: 624 | g_loss Loss: -0.2352291 d_loss Loss: -0.0904071 MSE: 0.0627653 SPD: 0.0027556 PMSE: 0.0588940\n"
     ]
    },
    {
     "name": "stderr",
     "output_type": "stream",
     "text": [
      " 73%|███████▎  | 11/15 [02:45<01:00, 15.09s/it]"
     ]
    },
    {
     "name": "stdout",
     "output_type": "stream",
     "text": [
      "Epoch: 11, Steps: 624 | g_loss Loss: -0.2041296 d_loss Loss: -0.1920686 MSE: 0.0606496 SPD: 0.0021157 PMSE: 0.0569722\n"
     ]
    },
    {
     "name": "stderr",
     "output_type": "stream",
     "text": [
      " 80%|████████  | 12/15 [03:00<00:45, 15.08s/it]"
     ]
    },
    {
     "name": "stdout",
     "output_type": "stream",
     "text": [
      "Epoch: 12, Steps: 624 | g_loss Loss: -0.2118627 d_loss Loss: -0.0979024 MSE: 0.0587957 SPD: 0.0018539 PMSE: 0.0553572\n"
     ]
    },
    {
     "name": "stderr",
     "output_type": "stream",
     "text": [
      " 87%|████████▋ | 13/15 [03:15<00:30, 15.08s/it]"
     ]
    },
    {
     "name": "stdout",
     "output_type": "stream",
     "text": [
      "Epoch: 13, Steps: 624 | g_loss Loss: -0.2059692 d_loss Loss: -0.0650469 MSE: 0.0571829 SPD: 0.0016128 PMSE: 0.0539801\n"
     ]
    },
    {
     "name": "stderr",
     "output_type": "stream",
     "text": [
      " 93%|█████████▎| 14/15 [03:30<00:15, 15.07s/it]"
     ]
    },
    {
     "name": "stdout",
     "output_type": "stream",
     "text": [
      "Epoch: 14, Steps: 624 | g_loss Loss: -0.2083273 d_loss Loss: -0.1496201 MSE: 0.0558041 SPD: 0.0013788 PMSE: 0.0527758\n"
     ]
    },
    {
     "name": "stderr",
     "output_type": "stream",
     "text": [
      "100%|██████████| 15/15 [03:45<00:00, 15.03s/it]"
     ]
    },
    {
     "name": "stdout",
     "output_type": "stream",
     "text": [
      "Epoch: 15, Steps: 624 | g_loss Loss: -0.2077886 d_loss Loss: -0.1038084 MSE: 0.0546109 SPD: 0.0011931 PMSE: 0.0516665\n",
      "======================TEST MODE======================\n"
     ]
    },
    {
     "name": "stderr",
     "output_type": "stream",
     "text": [
      "\n"
     ]
    },
    {
     "name": "stdout",
     "output_type": "stream",
     "text": [
      "bb (19994,)\n",
      "test_labels:      (19994,)\n",
      "aa (19994,) (19994,)\n",
      "Finding best f1-score by searching for threshold..\n",
      "{'Accuracy': 0.9899469840952285,\n",
      " 'FN': 0,\n",
      " 'FP': 201,\n",
      " 'TN': 19385,\n",
      " 'TP': 408,\n",
      " 'f1': 0.8023550615637894,\n",
      " 'latency': 24.332522249258357,\n",
      " 'precision': 0.6699507279154232,\n",
      " 'recall': 0.9999999754901967,\n",
      " 'threshold': 0.44721999999999995}\n",
      "(20000, 55) (20000, 55) (20000,)\n",
      "(20000, 55) (20000, 55) (20000,)\n",
      "Generator(\n",
      "  (norm1): LayerNorm((55,), eps=1e-05, elementwise_affine=True)\n",
      "  (norm2): LayerNorm((55,), eps=1e-05, elementwise_affine=True)\n",
      "  (conv): Sequential(\n",
      "    (0): Dropout(p=0.2, inplace=False)\n",
      "    (1): ConvLayer(\n",
      "      (padding): ConstantPad1d(padding=(1, 1), value=0.0)\n",
      "      (conv): Conv1d(55, 55, kernel_size=(3,), stride=(1,))\n",
      "      (relu): LeakyReLU(negative_slope=True)\n",
      "    )\n",
      "  )\n",
      "  (discriminator): Sequential(\n",
      "    (0): Linear(in_features=55, out_features=28, bias=True)\n",
      "    (1): LeakyReLU(negative_slope=True)\n",
      "    (2): Linear(in_features=28, out_features=28, bias=True)\n",
      "    (3): LeakyReLU(negative_slope=True)\n",
      "    (4): Linear(in_features=28, out_features=55, bias=True)\n",
      "    (5): Sigmoid()\n",
      "  )\n",
      ")\n",
      "Discriminator(\n",
      "  (norm2): LayerNorm((55,), eps=1e-05, elementwise_affine=True)\n",
      "  (conv): Sequential(\n",
      "    (0): Dropout(p=0.2, inplace=False)\n",
      "    (1): ConvLayer(\n",
      "      (padding): ConstantPad1d(padding=(1, 1), value=0.0)\n",
      "      (conv): Conv1d(55, 55, kernel_size=(3,), stride=(1,))\n",
      "      (relu): LeakyReLU(negative_slope=True)\n",
      "    )\n",
      "  )\n",
      "  (discriminator): Sequential(\n",
      "    (0): Linear(in_features=55, out_features=28, bias=True)\n",
      "    (1): LeakyReLU(negative_slope=True)\n",
      "    (2): Linear(in_features=28, out_features=28, bias=True)\n",
      "    (3): LeakyReLU(negative_slope=True)\n",
      "    (4): Linear(in_features=28, out_features=55, bias=True)\n",
      "    (5): Sigmoid()\n",
      "  )\n",
      ")\n",
      "LSTM_AD(\n",
      "  (lstm): LSTM(330, 64)\n",
      "  (lstm2): LSTM(330, 55)\n",
      "  (fcn): Sequential(\n",
      "    (0): Linear(in_features=55, out_features=55, bias=True)\n",
      "    (1): Sigmoid()\n",
      "  )\n",
      ")\n",
      "======================TRAIN MODE======================\n"
     ]
    },
    {
     "name": "stderr",
     "output_type": "stream",
     "text": [
      "  7%|▋         | 1/15 [00:14<03:28, 14.90s/it]"
     ]
    },
    {
     "name": "stdout",
     "output_type": "stream",
     "text": [
      "Epoch: 1, Steps: 624 | g_loss Loss: -0.4908031 d_loss Loss: -0.1036815 MSE: 0.1298322 SPD: -0.1298322 PMSE: 0.0915997\n"
     ]
    },
    {
     "name": "stderr",
     "output_type": "stream",
     "text": [
      " 13%|█▎        | 2/15 [00:29<03:12, 14.84s/it]"
     ]
    },
    {
     "name": "stdout",
     "output_type": "stream",
     "text": [
      "Epoch: 2, Steps: 624 | g_loss Loss: -0.6551442 d_loss Loss: 0.0105607 MSE: 0.0735346 SPD: 0.0562977 PMSE: 0.0513048\n"
     ]
    },
    {
     "name": "stderr",
     "output_type": "stream",
     "text": [
      " 20%|██        | 3/15 [00:44<02:58, 14.88s/it]"
     ]
    },
    {
     "name": "stdout",
     "output_type": "stream",
     "text": [
      "Epoch: 3, Steps: 624 | g_loss Loss: -0.6295422 d_loss Loss: -0.0131527 MSE: 0.0515598 SPD: 0.0219747 PMSE: 0.0367531\n"
     ]
    },
    {
     "name": "stderr",
     "output_type": "stream",
     "text": [
      " 27%|██▋       | 4/15 [00:59<02:45, 15.06s/it]"
     ]
    },
    {
     "name": "stdout",
     "output_type": "stream",
     "text": [
      "Epoch: 4, Steps: 624 | g_loss Loss: -0.6569251 d_loss Loss: 0.0213139 MSE: 0.0408305 SPD: 0.0107294 PMSE: 0.0292458\n"
     ]
    },
    {
     "name": "stderr",
     "output_type": "stream",
     "text": [
      " 33%|███▎      | 5/15 [01:14<02:29, 15.00s/it]"
     ]
    },
    {
     "name": "stdout",
     "output_type": "stream",
     "text": [
      "Epoch: 5, Steps: 624 | g_loss Loss: -0.6664795 d_loss Loss: 0.0273482 MSE: 0.0337351 SPD: 0.0070954 PMSE: 0.0246512\n"
     ]
    },
    {
     "name": "stderr",
     "output_type": "stream",
     "text": [
      " 40%|████      | 6/15 [01:29<02:14, 14.97s/it]"
     ]
    },
    {
     "name": "stdout",
     "output_type": "stream",
     "text": [
      "Epoch: 6, Steps: 624 | g_loss Loss: -0.6440561 d_loss Loss: 0.0090095 MSE: 0.0291632 SPD: 0.0045719 PMSE: 0.0215080\n"
     ]
    },
    {
     "name": "stderr",
     "output_type": "stream",
     "text": [
      " 47%|████▋     | 7/15 [01:44<02:00, 15.02s/it]"
     ]
    },
    {
     "name": "stdout",
     "output_type": "stream",
     "text": [
      "Epoch: 7, Steps: 624 | g_loss Loss: -0.6759943 d_loss Loss: 0.0448373 MSE: 0.0262580 SPD: 0.0029052 PMSE: 0.0192206\n"
     ]
    },
    {
     "name": "stderr",
     "output_type": "stream",
     "text": [
      " 53%|█████▎    | 8/15 [01:59<01:44, 14.98s/it]"
     ]
    },
    {
     "name": "stdout",
     "output_type": "stream",
     "text": [
      "Epoch: 8, Steps: 624 | g_loss Loss: -0.6358069 d_loss Loss: 0.0091613 MSE: 0.0237527 SPD: 0.0025053 PMSE: 0.0174688\n"
     ]
    },
    {
     "name": "stderr",
     "output_type": "stream",
     "text": [
      " 60%|██████    | 9/15 [02:14<01:30, 15.03s/it]"
     ]
    },
    {
     "name": "stdout",
     "output_type": "stream",
     "text": [
      "Epoch: 9, Steps: 624 | g_loss Loss: -0.6647295 d_loss Loss: 0.0316922 MSE: 0.0221194 SPD: 0.0016334 PMSE: 0.0160645\n"
     ]
    },
    {
     "name": "stderr",
     "output_type": "stream",
     "text": [
      " 67%|██████▋   | 10/15 [02:29<01:15, 15.02s/it]"
     ]
    },
    {
     "name": "stdout",
     "output_type": "stream",
     "text": [
      "Epoch: 10, Steps: 624 | g_loss Loss: -0.6302878 d_loss Loss: 0.0143152 MSE: 0.0205634 SPD: 0.0015560 PMSE: 0.0148816\n"
     ]
    },
    {
     "name": "stderr",
     "output_type": "stream",
     "text": [
      " 73%|███████▎  | 11/15 [02:45<01:00, 15.08s/it]"
     ]
    },
    {
     "name": "stdout",
     "output_type": "stream",
     "text": [
      "Epoch: 11, Steps: 624 | g_loss Loss: -0.6491743 d_loss Loss: 0.0332041 MSE: 0.0194593 SPD: 0.0011041 PMSE: 0.0138851\n"
     ]
    },
    {
     "name": "stderr",
     "output_type": "stream",
     "text": [
      " 80%|████████  | 12/15 [02:59<00:44, 14.87s/it]"
     ]
    },
    {
     "name": "stdout",
     "output_type": "stream",
     "text": [
      "Epoch: 12, Steps: 624 | g_loss Loss: -0.6233230 d_loss Loss: 0.0079163 MSE: 0.0183636 SPD: 0.0010957 PMSE: 0.0130429\n"
     ]
    },
    {
     "name": "stderr",
     "output_type": "stream",
     "text": [
      " 87%|████████▋ | 13/15 [03:14<00:29, 14.99s/it]"
     ]
    },
    {
     "name": "stdout",
     "output_type": "stream",
     "text": [
      "Epoch: 13, Steps: 624 | g_loss Loss: -0.6415532 d_loss Loss: 0.0384425 MSE: 0.0176288 SPD: 0.0007348 PMSE: 0.0123236\n"
     ]
    },
    {
     "name": "stderr",
     "output_type": "stream",
     "text": [
      " 93%|█████████▎| 14/15 [03:29<00:15, 15.03s/it]"
     ]
    },
    {
     "name": "stdout",
     "output_type": "stream",
     "text": [
      "Epoch: 14, Steps: 624 | g_loss Loss: -0.6149287 d_loss Loss: 0.0174035 MSE: 0.0168252 SPD: 0.0008036 PMSE: 0.0117032\n"
     ]
    },
    {
     "name": "stderr",
     "output_type": "stream",
     "text": [
      "100%|██████████| 15/15 [03:45<00:00, 15.00s/it]"
     ]
    },
    {
     "name": "stdout",
     "output_type": "stream",
     "text": [
      "Epoch: 15, Steps: 624 | g_loss Loss: -0.6317189 d_loss Loss: 0.0270515 MSE: 0.0162406 SPD: 0.0005846 PMSE: 0.0111625\n",
      "======================TEST MODE======================\n"
     ]
    },
    {
     "name": "stderr",
     "output_type": "stream",
     "text": [
      "\n"
     ]
    },
    {
     "name": "stdout",
     "output_type": "stream",
     "text": [
      "bb (19994,)\n",
      "test_labels:      (19994,)\n",
      "aa (19994,) (19994,)\n",
      "Finding best f1-score by searching for threshold..\n",
      "{'Accuracy': 0.8824647394218266,\n",
      " 'FN': 1,\n",
      " 'FP': 2349,\n",
      " 'TN': 15505,\n",
      " 'TP': 2139,\n",
      " 'f1': 0.6454391982856581,\n",
      " 'latency': 8.888790124554172,\n",
      " 'precision': 0.47660427701291386,\n",
      " 'recall': 0.9995327056096601,\n",
      " 'threshold': 0.14085999999999999}\n"
     ]
    }
   ],
   "source": [
    "\n",
    "import os\n",
    "\n",
    "from torch.backends import cudnn\n",
    "from utils.utils import *\n",
    "\n",
    "from solver import Solver\n",
    "config={\n",
    "    'num_epochs': 15,\n",
    "    'win_size': 6, \n",
    "    'batch_size': 32, \n",
    "#     'batch_size': 4096, \n",
    "    'mode': 'train', \n",
    "    'dataset': 'PSM', \n",
    "    'data_path': 'dataset/PSM',\n",
    "    'input_c': 25,\n",
    "    'seed': 3,\n",
    "    'lr': 1e-4,\n",
    "    'model_save_path':'checkpoints',\n",
    "    'latent_dim':100,\n",
    "    'alpha':0.7,\n",
    "    'beta':0,\n",
    "    'b1':0.5,\n",
    "    'b2':0.999\n",
    "\n",
    "}\n",
    "# datasets = ['MSL','SMAP','SWaT','SMD','PSM']\n",
    "datasets = ['SMD','PSM','SMAP','MSL']\n",
    "# datasets = ['SMD']\n",
    "# methods = ['USAD','OmniAnomaly','MAD_GAN','MSCRED','DAGMM','OmniAnomaly']\n",
    "\n",
    "\n",
    "\n",
    "for dataset in datasets:\n",
    "        if dataset == 'SMD':\n",
    "                config['input_c'] = 38\n",
    "                config['dataset'] = 'SMD'\n",
    "                config['data_path'] = 'dataset/SMD'\n",
    "                config['anormly_ratio'] = 0.5\n",
    "        elif dataset == 'PSM':\n",
    "                config['input_c'] = 25\n",
    "                config['dataset'] = 'PSM'\n",
    "                config['data_path'] = 'dataset/PSM'\n",
    "        elif dataset == 'MSL':\n",
    "                config['input_c'] = 55\n",
    "                config['dataset'] = 'MSL'\n",
    "                config['data_path'] = 'dataset/MSL'\n",
    "        elif dataset == 'SMAP':\n",
    "                config['input_c'] = 25\n",
    "                config['dataset'] = 'SMAP'\n",
    "                config['data_path'] = 'dataset/SMAP'\n",
    "        elif dataset == 'SWaT':\n",
    "                config['input_c'] = 50\n",
    "                config['dataset'] = 'SWaT'\n",
    "                config['data_path'] = 'dataset/SWaT'\n",
    "                config['anormly_ratio'] = 0.1\n",
    "\n",
    "        np.random.seed(config['seed'])\n",
    "        torch.manual_seed(config['seed'])\n",
    "        torch.cuda.manual_seed(config['seed'])\n",
    "        cudnn.benchmark = True\n",
    "        if (not os.path.exists(config['model_save_path'])):\n",
    "                mkdir(config['model_save_path'])\n",
    "\n",
    "        solver = Solver(config)\n",
    "\n",
    "        solver.train()\n",
    "        solver.test()"
   ]
  },
  {
   "attachments": {},
   "cell_type": "markdown",
   "id": "b4ea1b33",
   "metadata": {},
   "source": [
    "# wo DS+PS"
   ]
  },
  {
   "cell_type": "code",
   "execution_count": 3,
   "id": "b0b61558",
   "metadata": {},
   "outputs": [
    {
     "name": "stdout",
     "output_type": "stream",
     "text": [
      "(50000, 38) (50000, 38) (50000,)\n",
      "(50000, 38) (50000, 38) (50000,)\n",
      "Generator(\n",
      "  (norm1): LayerNorm((38,), eps=1e-05, elementwise_affine=True)\n",
      "  (norm2): LayerNorm((38,), eps=1e-05, elementwise_affine=True)\n",
      "  (conv): Sequential(\n",
      "    (0): Dropout(p=0.2, inplace=False)\n",
      "    (1): ConvLayer(\n",
      "      (padding): ConstantPad1d(padding=(1, 1), value=0.0)\n",
      "      (conv): Conv1d(38, 38, kernel_size=(3,), stride=(1,))\n",
      "      (relu): LeakyReLU(negative_slope=True)\n",
      "    )\n",
      "  )\n",
      "  (discriminator): Sequential(\n",
      "    (0): Linear(in_features=38, out_features=20, bias=True)\n",
      "    (1): LeakyReLU(negative_slope=True)\n",
      "    (2): Linear(in_features=20, out_features=20, bias=True)\n",
      "    (3): LeakyReLU(negative_slope=True)\n",
      "    (4): Linear(in_features=20, out_features=38, bias=True)\n",
      "    (5): Sigmoid()\n",
      "  )\n",
      ")\n",
      "Discriminator(\n",
      "  (norm2): LayerNorm((38,), eps=1e-05, elementwise_affine=True)\n",
      "  (conv): Sequential(\n",
      "    (0): Dropout(p=0.2, inplace=False)\n",
      "    (1): ConvLayer(\n",
      "      (padding): ConstantPad1d(padding=(1, 1), value=0.0)\n",
      "      (conv): Conv1d(38, 38, kernel_size=(3,), stride=(1,))\n",
      "      (relu): LeakyReLU(negative_slope=True)\n",
      "    )\n",
      "  )\n",
      "  (discriminator): Sequential(\n",
      "    (0): Linear(in_features=38, out_features=20, bias=True)\n",
      "    (1): LeakyReLU(negative_slope=True)\n",
      "    (2): Linear(in_features=20, out_features=20, bias=True)\n",
      "    (3): LeakyReLU(negative_slope=True)\n",
      "    (4): Linear(in_features=20, out_features=38, bias=True)\n",
      "    (5): Sigmoid()\n",
      "  )\n",
      ")\n",
      "LSTM_AD(\n",
      "  (lstm): LSTM(228, 64)\n",
      "  (lstm2): LSTM(228, 38)\n",
      "  (fcn): Sequential(\n",
      "    (0): Linear(in_features=38, out_features=38, bias=True)\n",
      "    (1): Sigmoid()\n",
      "  )\n",
      ")\n",
      "======================TRAIN MODE======================\n"
     ]
    },
    {
     "name": "stderr",
     "output_type": "stream",
     "text": [
      "  7%|▋         | 1/15 [00:36<08:27, 36.26s/it]"
     ]
    },
    {
     "name": "stdout",
     "output_type": "stream",
     "text": [
      "Epoch: 1, Steps: 1562 | g_loss Loss: -0.7559786 d_loss Loss: -0.0023440 MSE: 0.0780864 SPD: -0.0780864 PMSE: 0.0345718\n"
     ]
    },
    {
     "name": "stderr",
     "output_type": "stream",
     "text": [
      " 13%|█▎        | 2/15 [01:12<07:54, 36.49s/it]"
     ]
    },
    {
     "name": "stdout",
     "output_type": "stream",
     "text": [
      "Epoch: 2, Steps: 1562 | g_loss Loss: -0.7558799 d_loss Loss: -0.0083881 MSE: 0.0614413 SPD: 0.0166451 PMSE: 0.0246023\n"
     ]
    },
    {
     "name": "stderr",
     "output_type": "stream",
     "text": [
      " 20%|██        | 3/15 [01:50<07:21, 36.80s/it]"
     ]
    },
    {
     "name": "stdout",
     "output_type": "stream",
     "text": [
      "Epoch: 3, Steps: 1562 | g_loss Loss: -0.6382402 d_loss Loss: 0.0344841 MSE: 0.0541277 SPD: 0.0073135 PMSE: 0.0206148\n"
     ]
    },
    {
     "name": "stderr",
     "output_type": "stream",
     "text": [
      " 27%|██▋       | 4/15 [02:26<06:44, 36.77s/it]"
     ]
    },
    {
     "name": "stdout",
     "output_type": "stream",
     "text": [
      "Epoch: 4, Steps: 1562 | g_loss Loss: -0.3063298 d_loss Loss: 0.0040806 MSE: 0.0496344 SPD: 0.0044933 PMSE: 0.0179805\n"
     ]
    },
    {
     "name": "stderr",
     "output_type": "stream",
     "text": [
      " 33%|███▎      | 5/15 [03:03<06:08, 36.84s/it]"
     ]
    },
    {
     "name": "stdout",
     "output_type": "stream",
     "text": [
      "Epoch: 5, Steps: 1562 | g_loss Loss: -0.4232388 d_loss Loss: -0.0253500 MSE: 0.0464522 SPD: 0.0031822 PMSE: 0.0158286\n"
     ]
    },
    {
     "name": "stderr",
     "output_type": "stream",
     "text": [
      " 40%|████      | 6/15 [03:40<05:31, 36.88s/it]"
     ]
    },
    {
     "name": "stdout",
     "output_type": "stream",
     "text": [
      "Epoch: 6, Steps: 1562 | g_loss Loss: -0.4095466 d_loss Loss: -0.0221797 MSE: 0.0438811 SPD: 0.0025711 PMSE: 0.0140874\n"
     ]
    },
    {
     "name": "stderr",
     "output_type": "stream",
     "text": [
      " 47%|████▋     | 7/15 [04:17<04:56, 37.00s/it]"
     ]
    },
    {
     "name": "stdout",
     "output_type": "stream",
     "text": [
      "Epoch: 7, Steps: 1562 | g_loss Loss: -0.4174944 d_loss Loss: -0.0207129 MSE: 0.0416744 SPD: 0.0022067 PMSE: 0.0126526\n"
     ]
    },
    {
     "name": "stderr",
     "output_type": "stream",
     "text": [
      " 53%|█████▎    | 8/15 [04:55<04:19, 37.02s/it]"
     ]
    },
    {
     "name": "stdout",
     "output_type": "stream",
     "text": [
      "Epoch: 8, Steps: 1562 | g_loss Loss: -0.5799662 d_loss Loss: -0.0576198 MSE: 0.0404048 SPD: 0.0012697 PMSE: 0.0114903\n"
     ]
    },
    {
     "name": "stderr",
     "output_type": "stream",
     "text": [
      " 60%|██████    | 9/15 [05:32<03:42, 37.16s/it]"
     ]
    },
    {
     "name": "stdout",
     "output_type": "stream",
     "text": [
      "Epoch: 9, Steps: 1562 | g_loss Loss: -0.5696471 d_loss Loss: -0.0484973 MSE: 0.0393261 SPD: 0.0010787 PMSE: 0.0105414\n"
     ]
    },
    {
     "name": "stderr",
     "output_type": "stream",
     "text": [
      " 67%|██████▋   | 10/15 [06:09<03:06, 37.25s/it]"
     ]
    },
    {
     "name": "stdout",
     "output_type": "stream",
     "text": [
      "Epoch: 10, Steps: 1562 | g_loss Loss: -0.6408039 d_loss Loss: 0.0121621 MSE: 0.0384555 SPD: 0.0008706 PMSE: 0.0097552\n"
     ]
    },
    {
     "name": "stderr",
     "output_type": "stream",
     "text": [
      " 73%|███████▎  | 11/15 [06:46<02:28, 37.08s/it]"
     ]
    },
    {
     "name": "stdout",
     "output_type": "stream",
     "text": [
      "Epoch: 11, Steps: 1562 | g_loss Loss: -0.6424496 d_loss Loss: -0.0048879 MSE: 0.0375776 SPD: 0.0008779 PMSE: 0.0090954\n"
     ]
    },
    {
     "name": "stderr",
     "output_type": "stream",
     "text": [
      " 80%|████████  | 12/15 [07:24<01:51, 37.17s/it]"
     ]
    },
    {
     "name": "stdout",
     "output_type": "stream",
     "text": [
      "Epoch: 12, Steps: 1562 | g_loss Loss: -0.6765340 d_loss Loss: -0.0081568 MSE: 0.0370332 SPD: 0.0005444 PMSE: 0.0085354\n"
     ]
    },
    {
     "name": "stderr",
     "output_type": "stream",
     "text": [
      " 87%|████████▋ | 13/15 [08:01<01:14, 37.16s/it]"
     ]
    },
    {
     "name": "stdout",
     "output_type": "stream",
     "text": [
      "Epoch: 13, Steps: 1562 | g_loss Loss: -0.6773877 d_loss Loss: -0.0473551 MSE: 0.0367528 SPD: 0.0002804 PMSE: 0.0080541\n"
     ]
    },
    {
     "name": "stderr",
     "output_type": "stream",
     "text": [
      " 93%|█████████▎| 14/15 [08:38<00:37, 37.20s/it]"
     ]
    },
    {
     "name": "stdout",
     "output_type": "stream",
     "text": [
      "Epoch: 14, Steps: 1562 | g_loss Loss: -0.8275210 d_loss Loss: 0.0055871 MSE: 0.0365318 SPD: 0.0002210 PMSE: 0.0076354\n"
     ]
    },
    {
     "name": "stderr",
     "output_type": "stream",
     "text": [
      "100%|██████████| 15/15 [09:15<00:00, 37.03s/it]"
     ]
    },
    {
     "name": "stdout",
     "output_type": "stream",
     "text": [
      "Epoch: 15, Steps: 1562 | g_loss Loss: -0.7898203 d_loss Loss: -0.0031695 MSE: 0.0361255 SPD: 0.0004063 PMSE: 0.0072659\n",
      "======================TEST MODE======================\n"
     ]
    },
    {
     "name": "stderr",
     "output_type": "stream",
     "text": [
      "\n"
     ]
    },
    {
     "name": "stdout",
     "output_type": "stream",
     "text": [
      "bb (49994,)\n",
      "test_labels:      (49994,)\n",
      "aa (49994,) (49994,)\n",
      "Finding best f1-score by searching for threshold..\n",
      "{'Accuracy': 0.9921390566868025,\n",
      " 'FN': 373,\n",
      " 'FP': 20,\n",
      " 'TN': 46132,\n",
      " 'TP': 3469,\n",
      " 'f1': 0.9463870428662721,\n",
      " 'latency': 264.89735102648973,\n",
      " 'precision': 0.994267695631219,\n",
      " 'recall': 0.9029151460101115,\n",
      " 'threshold': 0.29403999999999997}\n",
      "(20000, 25) (20000, 25) (20000,)\n",
      "(20000, 25) (20000, 25) (20000,)\n",
      "Generator(\n",
      "  (norm1): LayerNorm((25,), eps=1e-05, elementwise_affine=True)\n",
      "  (norm2): LayerNorm((25,), eps=1e-05, elementwise_affine=True)\n",
      "  (conv): Sequential(\n",
      "    (0): Dropout(p=0.2, inplace=False)\n",
      "    (1): ConvLayer(\n",
      "      (padding): ConstantPad1d(padding=(1, 1), value=0.0)\n",
      "      (conv): Conv1d(25, 25, kernel_size=(3,), stride=(1,))\n",
      "      (relu): LeakyReLU(negative_slope=True)\n",
      "    )\n",
      "  )\n",
      "  (discriminator): Sequential(\n",
      "    (0): Linear(in_features=25, out_features=13, bias=True)\n",
      "    (1): LeakyReLU(negative_slope=True)\n",
      "    (2): Linear(in_features=13, out_features=13, bias=True)\n",
      "    (3): LeakyReLU(negative_slope=True)\n",
      "    (4): Linear(in_features=13, out_features=25, bias=True)\n",
      "    (5): Sigmoid()\n",
      "  )\n",
      ")\n",
      "Discriminator(\n",
      "  (norm2): LayerNorm((25,), eps=1e-05, elementwise_affine=True)\n",
      "  (conv): Sequential(\n",
      "    (0): Dropout(p=0.2, inplace=False)\n",
      "    (1): ConvLayer(\n",
      "      (padding): ConstantPad1d(padding=(1, 1), value=0.0)\n",
      "      (conv): Conv1d(25, 25, kernel_size=(3,), stride=(1,))\n",
      "      (relu): LeakyReLU(negative_slope=True)\n",
      "    )\n",
      "  )\n",
      "  (discriminator): Sequential(\n",
      "    (0): Linear(in_features=25, out_features=13, bias=True)\n",
      "    (1): LeakyReLU(negative_slope=True)\n",
      "    (2): Linear(in_features=13, out_features=13, bias=True)\n",
      "    (3): LeakyReLU(negative_slope=True)\n",
      "    (4): Linear(in_features=13, out_features=25, bias=True)\n",
      "    (5): Sigmoid()\n",
      "  )\n",
      ")\n",
      "LSTM_AD(\n",
      "  (lstm): LSTM(150, 64)\n",
      "  (lstm2): LSTM(150, 25)\n",
      "  (fcn): Sequential(\n",
      "    (0): Linear(in_features=25, out_features=25, bias=True)\n",
      "    (1): Sigmoid()\n",
      "  )\n",
      ")\n",
      "======================TRAIN MODE======================\n"
     ]
    },
    {
     "name": "stderr",
     "output_type": "stream",
     "text": [
      "  7%|▋         | 1/15 [00:14<03:28, 14.91s/it]"
     ]
    },
    {
     "name": "stdout",
     "output_type": "stream",
     "text": [
      "Epoch: 1, Steps: 624 | g_loss Loss: -0.4816470 d_loss Loss: 0.0056113 MSE: 0.0493666 SPD: -0.0493666 PMSE: 0.0184653\n"
     ]
    },
    {
     "name": "stderr",
     "output_type": "stream",
     "text": [
      " 13%|█▎        | 2/15 [00:29<03:11, 14.76s/it]"
     ]
    },
    {
     "name": "stdout",
     "output_type": "stream",
     "text": [
      "Epoch: 2, Steps: 624 | g_loss Loss: -0.4076065 d_loss Loss: 0.0121950 MSE: 0.0483615 SPD: 0.0010051 PMSE: 0.0110090\n"
     ]
    },
    {
     "name": "stderr",
     "output_type": "stream",
     "text": [
      " 20%|██        | 3/15 [00:43<02:54, 14.52s/it]"
     ]
    },
    {
     "name": "stdout",
     "output_type": "stream",
     "text": [
      "Epoch: 3, Steps: 624 | g_loss Loss: -0.6619695 d_loss Loss: 0.0300377 MSE: 0.0475360 SPD: 0.0008255 PMSE: 0.0082545\n"
     ]
    },
    {
     "name": "stderr",
     "output_type": "stream",
     "text": [
      " 27%|██▋       | 4/15 [00:58<02:40, 14.60s/it]"
     ]
    },
    {
     "name": "stdout",
     "output_type": "stream",
     "text": [
      "Epoch: 4, Steps: 624 | g_loss Loss: -0.4768660 d_loss Loss: 0.0388975 MSE: 0.0490858 SPD: -0.0015498 PMSE: 0.0068197\n"
     ]
    },
    {
     "name": "stderr",
     "output_type": "stream",
     "text": [
      " 33%|███▎      | 5/15 [01:13<02:26, 14.66s/it]"
     ]
    },
    {
     "name": "stdout",
     "output_type": "stream",
     "text": [
      "Epoch: 5, Steps: 624 | g_loss Loss: -0.7510638 d_loss Loss: 0.0664126 MSE: 0.0501233 SPD: -0.0010375 PMSE: 0.0059215\n"
     ]
    },
    {
     "name": "stderr",
     "output_type": "stream",
     "text": [
      " 40%|████      | 6/15 [01:27<02:11, 14.66s/it]"
     ]
    },
    {
     "name": "stdout",
     "output_type": "stream",
     "text": [
      "Epoch: 6, Steps: 624 | g_loss Loss: -0.5834891 d_loss Loss: 0.0269584 MSE: 0.0512064 SPD: -0.0010831 PMSE: 0.0052715\n"
     ]
    },
    {
     "name": "stderr",
     "output_type": "stream",
     "text": [
      " 47%|████▋     | 7/15 [01:42<01:57, 14.71s/it]"
     ]
    },
    {
     "name": "stdout",
     "output_type": "stream",
     "text": [
      "Epoch: 7, Steps: 624 | g_loss Loss: -0.6938575 d_loss Loss: 0.0467369 MSE: 0.0528570 SPD: -0.0016506 PMSE: 0.0047552\n"
     ]
    },
    {
     "name": "stderr",
     "output_type": "stream",
     "text": [
      " 53%|█████▎    | 8/15 [01:57<01:42, 14.69s/it]"
     ]
    },
    {
     "name": "stdout",
     "output_type": "stream",
     "text": [
      "Epoch: 8, Steps: 624 | g_loss Loss: -0.7718744 d_loss Loss: 0.0528817 MSE: 0.0524207 SPD: 0.0004363 PMSE: 0.0043286\n"
     ]
    },
    {
     "name": "stderr",
     "output_type": "stream",
     "text": [
      " 60%|██████    | 9/15 [02:12<01:28, 14.74s/it]"
     ]
    },
    {
     "name": "stdout",
     "output_type": "stream",
     "text": [
      "Epoch: 9, Steps: 624 | g_loss Loss: -0.5724420 d_loss Loss: -0.1233643 MSE: 0.0541303 SPD: -0.0017095 PMSE: 0.0039784\n"
     ]
    },
    {
     "name": "stderr",
     "output_type": "stream",
     "text": [
      " 67%|██████▋   | 10/15 [02:27<01:14, 14.83s/it]"
     ]
    },
    {
     "name": "stdout",
     "output_type": "stream",
     "text": [
      "Epoch: 10, Steps: 624 | g_loss Loss: -0.7804278 d_loss Loss: 0.0441185 MSE: 0.0544295 SPD: -0.0002992 PMSE: 0.0036856\n"
     ]
    },
    {
     "name": "stderr",
     "output_type": "stream",
     "text": [
      " 73%|███████▎  | 11/15 [02:42<00:59, 14.91s/it]"
     ]
    },
    {
     "name": "stdout",
     "output_type": "stream",
     "text": [
      "Epoch: 11, Steps: 624 | g_loss Loss: -0.8000693 d_loss Loss: 0.0626171 MSE: 0.0539846 SPD: 0.0004448 PMSE: 0.0034377\n"
     ]
    },
    {
     "name": "stderr",
     "output_type": "stream",
     "text": [
      " 80%|████████  | 12/15 [02:57<00:44, 14.93s/it]"
     ]
    },
    {
     "name": "stdout",
     "output_type": "stream",
     "text": [
      "Epoch: 12, Steps: 624 | g_loss Loss: -0.7133775 d_loss Loss: -0.0049421 MSE: 0.0547251 SPD: -0.0007405 PMSE: 0.0032236\n"
     ]
    },
    {
     "name": "stderr",
     "output_type": "stream",
     "text": [
      " 87%|████████▋ | 13/15 [03:12<00:29, 14.89s/it]"
     ]
    },
    {
     "name": "stdout",
     "output_type": "stream",
     "text": [
      "Epoch: 13, Steps: 624 | g_loss Loss: -0.7879050 d_loss Loss: 0.0362697 MSE: 0.0521956 SPD: 0.0025294 PMSE: 0.0030365\n"
     ]
    },
    {
     "name": "stderr",
     "output_type": "stream",
     "text": [
      " 93%|█████████▎| 14/15 [03:27<00:14, 14.94s/it]"
     ]
    },
    {
     "name": "stdout",
     "output_type": "stream",
     "text": [
      "Epoch: 14, Steps: 624 | g_loss Loss: -0.7609338 d_loss Loss: 0.0192047 MSE: 0.0502691 SPD: 0.0019265 PMSE: 0.0028733\n"
     ]
    },
    {
     "name": "stderr",
     "output_type": "stream",
     "text": [
      "100%|██████████| 15/15 [03:42<00:00, 14.81s/it]"
     ]
    },
    {
     "name": "stdout",
     "output_type": "stream",
     "text": [
      "Epoch: 15, Steps: 624 | g_loss Loss: -0.7499116 d_loss Loss: 0.0269359 MSE: 0.0481794 SPD: 0.0020898 PMSE: 0.0027288\n",
      "======================TEST MODE======================\n"
     ]
    },
    {
     "name": "stderr",
     "output_type": "stream",
     "text": [
      "\n"
     ]
    },
    {
     "name": "stdout",
     "output_type": "stream",
     "text": [
      "bb (19994,)\n",
      "test_labels:      (19994,)\n",
      "aa (19994,) (19994,)\n",
      "Finding best f1-score by searching for threshold..\n",
      "{'Accuracy': 0.8503050915274583,\n",
      " 'FN': 399,\n",
      " 'FP': 2594,\n",
      " 'TN': 14301,\n",
      " 'TP': 2700,\n",
      " 'f1': 0.6433886444273877,\n",
      " 'latency': 95.14149797860031,\n",
      " 'precision': 0.5100113326218146,\n",
      " 'recall': 0.8712487871208493,\n",
      " 'threshold': 0.24741999999999997}\n",
      "(20000, 25) (20000, 25) (20000,)\n",
      "(20000, 25) (20000, 25) (20000,)\n",
      "Generator(\n",
      "  (norm1): LayerNorm((25,), eps=1e-05, elementwise_affine=True)\n",
      "  (norm2): LayerNorm((25,), eps=1e-05, elementwise_affine=True)\n",
      "  (conv): Sequential(\n",
      "    (0): Dropout(p=0.2, inplace=False)\n",
      "    (1): ConvLayer(\n",
      "      (padding): ConstantPad1d(padding=(1, 1), value=0.0)\n",
      "      (conv): Conv1d(25, 25, kernel_size=(3,), stride=(1,))\n",
      "      (relu): LeakyReLU(negative_slope=True)\n",
      "    )\n",
      "  )\n",
      "  (discriminator): Sequential(\n",
      "    (0): Linear(in_features=25, out_features=13, bias=True)\n",
      "    (1): LeakyReLU(negative_slope=True)\n",
      "    (2): Linear(in_features=13, out_features=13, bias=True)\n",
      "    (3): LeakyReLU(negative_slope=True)\n",
      "    (4): Linear(in_features=13, out_features=25, bias=True)\n",
      "    (5): Sigmoid()\n",
      "  )\n",
      ")\n",
      "Discriminator(\n",
      "  (norm2): LayerNorm((25,), eps=1e-05, elementwise_affine=True)\n",
      "  (conv): Sequential(\n",
      "    (0): Dropout(p=0.2, inplace=False)\n",
      "    (1): ConvLayer(\n",
      "      (padding): ConstantPad1d(padding=(1, 1), value=0.0)\n",
      "      (conv): Conv1d(25, 25, kernel_size=(3,), stride=(1,))\n",
      "      (relu): LeakyReLU(negative_slope=True)\n",
      "    )\n",
      "  )\n",
      "  (discriminator): Sequential(\n",
      "    (0): Linear(in_features=25, out_features=13, bias=True)\n",
      "    (1): LeakyReLU(negative_slope=True)\n",
      "    (2): Linear(in_features=13, out_features=13, bias=True)\n",
      "    (3): LeakyReLU(negative_slope=True)\n",
      "    (4): Linear(in_features=13, out_features=25, bias=True)\n",
      "    (5): Sigmoid()\n",
      "  )\n",
      ")\n",
      "LSTM_AD(\n",
      "  (lstm): LSTM(150, 64)\n",
      "  (lstm2): LSTM(150, 25)\n",
      "  (fcn): Sequential(\n",
      "    (0): Linear(in_features=25, out_features=25, bias=True)\n",
      "    (1): Sigmoid()\n",
      "  )\n",
      ")\n",
      "======================TRAIN MODE======================\n"
     ]
    },
    {
     "name": "stderr",
     "output_type": "stream",
     "text": [
      "  7%|▋         | 1/15 [00:14<03:24, 14.63s/it]"
     ]
    },
    {
     "name": "stdout",
     "output_type": "stream",
     "text": [
      "Epoch: 1, Steps: 624 | g_loss Loss: -0.2328018 d_loss Loss: -0.3300505 MSE: 0.2212230 SPD: -0.2212230 PMSE: 0.1964939\n"
     ]
    },
    {
     "name": "stderr",
     "output_type": "stream",
     "text": [
      " 13%|█▎        | 2/15 [00:29<03:09, 14.61s/it]"
     ]
    },
    {
     "name": "stdout",
     "output_type": "stream",
     "text": [
      "Epoch: 2, Steps: 624 | g_loss Loss: -0.5964498 d_loss Loss: -0.1527711 MSE: 0.1547585 SPD: 0.0664646 PMSE: 0.1318548\n"
     ]
    },
    {
     "name": "stderr",
     "output_type": "stream",
     "text": [
      " 20%|██        | 3/15 [00:43<02:55, 14.64s/it]"
     ]
    },
    {
     "name": "stdout",
     "output_type": "stream",
     "text": [
      "Epoch: 3, Steps: 624 | g_loss Loss: -0.6438482 d_loss Loss: -0.1177144 MSE: 0.1196116 SPD: 0.0351469 PMSE: 0.1039306\n"
     ]
    },
    {
     "name": "stderr",
     "output_type": "stream",
     "text": [
      " 27%|██▋       | 4/15 [00:58<02:41, 14.65s/it]"
     ]
    },
    {
     "name": "stdout",
     "output_type": "stream",
     "text": [
      "Epoch: 4, Steps: 624 | g_loss Loss: -0.5864630 d_loss Loss: -0.1607073 MSE: 0.0997405 SPD: 0.0198710 PMSE: 0.0887381\n"
     ]
    },
    {
     "name": "stderr",
     "output_type": "stream",
     "text": [
      " 33%|███▎      | 5/15 [01:13<02:26, 14.64s/it]"
     ]
    },
    {
     "name": "stdout",
     "output_type": "stream",
     "text": [
      "Epoch: 5, Steps: 624 | g_loss Loss: -0.5120038 d_loss Loss: -0.0739874 MSE: 0.0875053 SPD: 0.0122352 PMSE: 0.0791738\n"
     ]
    },
    {
     "name": "stderr",
     "output_type": "stream",
     "text": [
      " 40%|████      | 6/15 [01:27<02:12, 14.67s/it]"
     ]
    },
    {
     "name": "stdout",
     "output_type": "stream",
     "text": [
      "Epoch: 6, Steps: 624 | g_loss Loss: -0.4349064 d_loss Loss: -0.1447208 MSE: 0.0792788 SPD: 0.0082265 PMSE: 0.0725843\n"
     ]
    },
    {
     "name": "stderr",
     "output_type": "stream",
     "text": [
      " 47%|████▋     | 7/15 [01:42<01:57, 14.72s/it]"
     ]
    },
    {
     "name": "stdout",
     "output_type": "stream",
     "text": [
      "Epoch: 7, Steps: 624 | g_loss Loss: -0.3682073 d_loss Loss: -0.1981803 MSE: 0.0733871 SPD: 0.0058917 PMSE: 0.0677733\n"
     ]
    },
    {
     "name": "stderr",
     "output_type": "stream",
     "text": [
      " 53%|█████▎    | 8/15 [01:57<01:43, 14.78s/it]"
     ]
    },
    {
     "name": "stdout",
     "output_type": "stream",
     "text": [
      "Epoch: 8, Steps: 624 | g_loss Loss: -0.3067602 d_loss Loss: -0.1814934 MSE: 0.0689634 SPD: 0.0044237 PMSE: 0.0641073\n"
     ]
    },
    {
     "name": "stderr",
     "output_type": "stream",
     "text": [
      " 60%|██████    | 9/15 [02:12<01:28, 14.79s/it]"
     ]
    },
    {
     "name": "stdout",
     "output_type": "stream",
     "text": [
      "Epoch: 9, Steps: 624 | g_loss Loss: -0.2636494 d_loss Loss: -0.1543577 MSE: 0.0655209 SPD: 0.0034425 PMSE: 0.0612231\n"
     ]
    },
    {
     "name": "stderr",
     "output_type": "stream",
     "text": [
      " 67%|██████▋   | 10/15 [02:27<01:14, 14.83s/it]"
     ]
    },
    {
     "name": "stdout",
     "output_type": "stream",
     "text": [
      "Epoch: 10, Steps: 624 | g_loss Loss: -0.2352291 d_loss Loss: -0.0904071 MSE: 0.0627653 SPD: 0.0027556 PMSE: 0.0588940\n"
     ]
    },
    {
     "name": "stderr",
     "output_type": "stream",
     "text": [
      " 73%|███████▎  | 11/15 [02:42<00:59, 14.81s/it]"
     ]
    },
    {
     "name": "stdout",
     "output_type": "stream",
     "text": [
      "Epoch: 11, Steps: 624 | g_loss Loss: -0.2041296 d_loss Loss: -0.1920686 MSE: 0.0606496 SPD: 0.0021157 PMSE: 0.0569722\n"
     ]
    },
    {
     "name": "stderr",
     "output_type": "stream",
     "text": [
      " 80%|████████  | 12/15 [02:57<00:44, 14.85s/it]"
     ]
    },
    {
     "name": "stdout",
     "output_type": "stream",
     "text": [
      "Epoch: 12, Steps: 624 | g_loss Loss: -0.2118627 d_loss Loss: -0.0979024 MSE: 0.0587957 SPD: 0.0018539 PMSE: 0.0553572\n"
     ]
    },
    {
     "name": "stderr",
     "output_type": "stream",
     "text": [
      " 87%|████████▋ | 13/15 [03:12<00:29, 14.90s/it]"
     ]
    },
    {
     "name": "stdout",
     "output_type": "stream",
     "text": [
      "Epoch: 13, Steps: 624 | g_loss Loss: -0.2059692 d_loss Loss: -0.0650469 MSE: 0.0571829 SPD: 0.0016128 PMSE: 0.0539801\n"
     ]
    },
    {
     "name": "stderr",
     "output_type": "stream",
     "text": [
      " 93%|█████████▎| 14/15 [03:26<00:14, 14.86s/it]"
     ]
    },
    {
     "name": "stdout",
     "output_type": "stream",
     "text": [
      "Epoch: 14, Steps: 624 | g_loss Loss: -0.2083273 d_loss Loss: -0.1496201 MSE: 0.0558041 SPD: 0.0013788 PMSE: 0.0527758\n"
     ]
    },
    {
     "name": "stderr",
     "output_type": "stream",
     "text": [
      "100%|██████████| 15/15 [03:41<00:00, 14.80s/it]"
     ]
    },
    {
     "name": "stdout",
     "output_type": "stream",
     "text": [
      "Epoch: 15, Steps: 624 | g_loss Loss: -0.2077886 d_loss Loss: -0.1038084 MSE: 0.0546109 SPD: 0.0011931 PMSE: 0.0516665\n",
      "======================TEST MODE======================\n"
     ]
    },
    {
     "name": "stderr",
     "output_type": "stream",
     "text": [
      "\n"
     ]
    },
    {
     "name": "stdout",
     "output_type": "stream",
     "text": [
      "bb (19994,)\n",
      "test_labels:      (19994,)\n",
      "aa (19994,) (19994,)\n",
      "Finding best f1-score by searching for threshold..\n",
      "{'Accuracy': 0.9832449734920476,\n",
      " 'FN': 0,\n",
      " 'FP': 335,\n",
      " 'TN': 19251,\n",
      " 'TP': 408,\n",
      " 'f1': 0.7089441514907656,\n",
      " 'latency': 23.665877804073197,\n",
      " 'precision': 0.5491251608462293,\n",
      " 'recall': 0.9999999754901967,\n",
      " 'threshold': 0.9134199999999999}\n",
      "(20000, 55) (20000, 55) (20000,)\n",
      "(20000, 55) (20000, 55) (20000,)\n",
      "Generator(\n",
      "  (norm1): LayerNorm((55,), eps=1e-05, elementwise_affine=True)\n",
      "  (norm2): LayerNorm((55,), eps=1e-05, elementwise_affine=True)\n",
      "  (conv): Sequential(\n",
      "    (0): Dropout(p=0.2, inplace=False)\n",
      "    (1): ConvLayer(\n",
      "      (padding): ConstantPad1d(padding=(1, 1), value=0.0)\n",
      "      (conv): Conv1d(55, 55, kernel_size=(3,), stride=(1,))\n",
      "      (relu): LeakyReLU(negative_slope=True)\n",
      "    )\n",
      "  )\n",
      "  (discriminator): Sequential(\n",
      "    (0): Linear(in_features=55, out_features=28, bias=True)\n",
      "    (1): LeakyReLU(negative_slope=True)\n",
      "    (2): Linear(in_features=28, out_features=28, bias=True)\n",
      "    (3): LeakyReLU(negative_slope=True)\n",
      "    (4): Linear(in_features=28, out_features=55, bias=True)\n",
      "    (5): Sigmoid()\n",
      "  )\n",
      ")\n",
      "Discriminator(\n",
      "  (norm2): LayerNorm((55,), eps=1e-05, elementwise_affine=True)\n",
      "  (conv): Sequential(\n",
      "    (0): Dropout(p=0.2, inplace=False)\n",
      "    (1): ConvLayer(\n",
      "      (padding): ConstantPad1d(padding=(1, 1), value=0.0)\n",
      "      (conv): Conv1d(55, 55, kernel_size=(3,), stride=(1,))\n",
      "      (relu): LeakyReLU(negative_slope=True)\n",
      "    )\n",
      "  )\n",
      "  (discriminator): Sequential(\n",
      "    (0): Linear(in_features=55, out_features=28, bias=True)\n",
      "    (1): LeakyReLU(negative_slope=True)\n",
      "    (2): Linear(in_features=28, out_features=28, bias=True)\n",
      "    (3): LeakyReLU(negative_slope=True)\n",
      "    (4): Linear(in_features=28, out_features=55, bias=True)\n",
      "    (5): Sigmoid()\n",
      "  )\n",
      ")\n",
      "LSTM_AD(\n",
      "  (lstm): LSTM(330, 64)\n",
      "  (lstm2): LSTM(330, 55)\n",
      "  (fcn): Sequential(\n",
      "    (0): Linear(in_features=55, out_features=55, bias=True)\n",
      "    (1): Sigmoid()\n",
      "  )\n",
      ")\n",
      "======================TRAIN MODE======================\n"
     ]
    },
    {
     "name": "stderr",
     "output_type": "stream",
     "text": [
      "  7%|▋         | 1/15 [00:14<03:26, 14.76s/it]"
     ]
    },
    {
     "name": "stdout",
     "output_type": "stream",
     "text": [
      "Epoch: 1, Steps: 624 | g_loss Loss: -0.4908031 d_loss Loss: -0.1036815 MSE: 0.1298322 SPD: -0.1298322 PMSE: 0.0915997\n"
     ]
    },
    {
     "name": "stderr",
     "output_type": "stream",
     "text": [
      " 13%|█▎        | 2/15 [00:29<03:13, 14.90s/it]"
     ]
    },
    {
     "name": "stdout",
     "output_type": "stream",
     "text": [
      "Epoch: 2, Steps: 624 | g_loss Loss: -0.6551442 d_loss Loss: 0.0105607 MSE: 0.0735346 SPD: 0.0562977 PMSE: 0.0513048\n"
     ]
    },
    {
     "name": "stderr",
     "output_type": "stream",
     "text": [
      " 20%|██        | 3/15 [00:44<02:58, 14.88s/it]"
     ]
    },
    {
     "name": "stdout",
     "output_type": "stream",
     "text": [
      "Epoch: 3, Steps: 624 | g_loss Loss: -0.6295422 d_loss Loss: -0.0131527 MSE: 0.0515598 SPD: 0.0219747 PMSE: 0.0367531\n"
     ]
    },
    {
     "name": "stderr",
     "output_type": "stream",
     "text": [
      " 27%|██▋       | 4/15 [00:59<02:43, 14.88s/it]"
     ]
    },
    {
     "name": "stdout",
     "output_type": "stream",
     "text": [
      "Epoch: 4, Steps: 624 | g_loss Loss: -0.6569251 d_loss Loss: 0.0213139 MSE: 0.0408305 SPD: 0.0107294 PMSE: 0.0292458\n"
     ]
    },
    {
     "name": "stderr",
     "output_type": "stream",
     "text": [
      " 33%|███▎      | 5/15 [01:14<02:28, 14.86s/it]"
     ]
    },
    {
     "name": "stdout",
     "output_type": "stream",
     "text": [
      "Epoch: 5, Steps: 624 | g_loss Loss: -0.6664795 d_loss Loss: 0.0273482 MSE: 0.0337351 SPD: 0.0070954 PMSE: 0.0246512\n"
     ]
    },
    {
     "name": "stderr",
     "output_type": "stream",
     "text": [
      " 40%|████      | 6/15 [01:29<02:13, 14.84s/it]"
     ]
    },
    {
     "name": "stdout",
     "output_type": "stream",
     "text": [
      "Epoch: 6, Steps: 624 | g_loss Loss: -0.6440561 d_loss Loss: 0.0090095 MSE: 0.0291632 SPD: 0.0045719 PMSE: 0.0215080\n"
     ]
    },
    {
     "name": "stderr",
     "output_type": "stream",
     "text": [
      " 47%|████▋     | 7/15 [01:44<01:58, 14.87s/it]"
     ]
    },
    {
     "name": "stdout",
     "output_type": "stream",
     "text": [
      "Epoch: 7, Steps: 624 | g_loss Loss: -0.6759943 d_loss Loss: 0.0448373 MSE: 0.0262580 SPD: 0.0029052 PMSE: 0.0192206\n"
     ]
    },
    {
     "name": "stderr",
     "output_type": "stream",
     "text": [
      " 53%|█████▎    | 8/15 [01:58<01:44, 14.89s/it]"
     ]
    },
    {
     "name": "stdout",
     "output_type": "stream",
     "text": [
      "Epoch: 8, Steps: 624 | g_loss Loss: -0.6358069 d_loss Loss: 0.0091613 MSE: 0.0237527 SPD: 0.0025053 PMSE: 0.0174688\n"
     ]
    },
    {
     "name": "stderr",
     "output_type": "stream",
     "text": [
      " 60%|██████    | 9/15 [02:13<01:29, 14.93s/it]"
     ]
    },
    {
     "name": "stdout",
     "output_type": "stream",
     "text": [
      "Epoch: 9, Steps: 624 | g_loss Loss: -0.6647295 d_loss Loss: 0.0316922 MSE: 0.0221194 SPD: 0.0016334 PMSE: 0.0160645\n"
     ]
    },
    {
     "name": "stderr",
     "output_type": "stream",
     "text": [
      " 67%|██████▋   | 10/15 [02:29<01:15, 15.01s/it]"
     ]
    },
    {
     "name": "stdout",
     "output_type": "stream",
     "text": [
      "Epoch: 10, Steps: 624 | g_loss Loss: -0.6302878 d_loss Loss: 0.0143152 MSE: 0.0205634 SPD: 0.0015560 PMSE: 0.0148816\n"
     ]
    },
    {
     "name": "stderr",
     "output_type": "stream",
     "text": [
      " 73%|███████▎  | 11/15 [02:44<00:59, 14.99s/it]"
     ]
    },
    {
     "name": "stdout",
     "output_type": "stream",
     "text": [
      "Epoch: 11, Steps: 624 | g_loss Loss: -0.6491743 d_loss Loss: 0.0332041 MSE: 0.0194593 SPD: 0.0011041 PMSE: 0.0138851\n"
     ]
    },
    {
     "name": "stderr",
     "output_type": "stream",
     "text": [
      " 80%|████████  | 12/15 [02:59<00:45, 15.04s/it]"
     ]
    },
    {
     "name": "stdout",
     "output_type": "stream",
     "text": [
      "Epoch: 12, Steps: 624 | g_loss Loss: -0.6233230 d_loss Loss: 0.0079163 MSE: 0.0183636 SPD: 0.0010957 PMSE: 0.0130429\n"
     ]
    },
    {
     "name": "stderr",
     "output_type": "stream",
     "text": [
      " 87%|████████▋ | 13/15 [03:14<00:30, 15.03s/it]"
     ]
    },
    {
     "name": "stdout",
     "output_type": "stream",
     "text": [
      "Epoch: 13, Steps: 624 | g_loss Loss: -0.6415532 d_loss Loss: 0.0384425 MSE: 0.0176288 SPD: 0.0007348 PMSE: 0.0123236\n"
     ]
    },
    {
     "name": "stderr",
     "output_type": "stream",
     "text": [
      " 93%|█████████▎| 14/15 [03:29<00:14, 14.98s/it]"
     ]
    },
    {
     "name": "stdout",
     "output_type": "stream",
     "text": [
      "Epoch: 14, Steps: 624 | g_loss Loss: -0.6149287 d_loss Loss: 0.0174035 MSE: 0.0168252 SPD: 0.0008036 PMSE: 0.0117032\n"
     ]
    },
    {
     "name": "stderr",
     "output_type": "stream",
     "text": [
      "100%|██████████| 15/15 [03:44<00:00, 14.96s/it]"
     ]
    },
    {
     "name": "stdout",
     "output_type": "stream",
     "text": [
      "Epoch: 15, Steps: 624 | g_loss Loss: -0.6317189 d_loss Loss: 0.0270515 MSE: 0.0162406 SPD: 0.0005846 PMSE: 0.0111625\n",
      "======================TEST MODE======================\n"
     ]
    },
    {
     "name": "stderr",
     "output_type": "stream",
     "text": [
      "\n"
     ]
    },
    {
     "name": "stdout",
     "output_type": "stream",
     "text": [
      "bb (19994,)\n",
      "test_labels:      (19994,)\n",
      "aa (19994,) (19994,)\n",
      "Finding best f1-score by searching for threshold..\n",
      "{'Accuracy': 0.8851655496648995,\n",
      " 'FN': 1,\n",
      " 'FP': 2295,\n",
      " 'TN': 15559,\n",
      " 'TP': 2139,\n",
      " 'f1': 0.6507409673929225,\n",
      " 'latency': 8.777680247997244,\n",
      " 'precision': 0.48240865926385057,\n",
      " 'recall': 0.9995327056096601,\n",
      " 'threshold': 0.39393999999999996}\n"
     ]
    }
   ],
   "source": [
    "\n",
    "import os\n",
    "\n",
    "from torch.backends import cudnn\n",
    "from utils.utils import *\n",
    "\n",
    "from solver import Solver\n",
    "config={\n",
    "    'num_epochs': 15,\n",
    "    'win_size': 6, \n",
    "    'batch_size': 32, \n",
    "#     'batch_size': 4096, \n",
    "    'mode': 'train', \n",
    "    'dataset': 'PSM', \n",
    "    'data_path': 'dataset/PSM',\n",
    "    'input_c': 25,\n",
    "    'seed': 3,\n",
    "    'lr': 1e-4,\n",
    "    'model_save_path':'checkpoints',\n",
    "    'latent_dim':100,\n",
    "    'alpha':0,\n",
    "    'beta':0,\n",
    "    'b1':0.5,\n",
    "    'b2':0.999\n",
    "\n",
    "}\n",
    "# datasets = ['MSL','SMAP','SWaT','SMD','PSM']\n",
    "datasets = ['SMD','PSM','SMAP','MSL']\n",
    "# datasets = ['SMD']\n",
    "# methods = ['USAD','OmniAnomaly','MAD_GAN','MSCRED','DAGMM','OmniAnomaly']\n",
    "\n",
    "\n",
    "\n",
    "for dataset in datasets:\n",
    "        if dataset == 'SMD':\n",
    "                config['input_c'] = 38\n",
    "                config['dataset'] = 'SMD'\n",
    "                config['data_path'] = 'dataset/SMD'\n",
    "                config['anormly_ratio'] = 0.5\n",
    "        elif dataset == 'PSM':\n",
    "                config['input_c'] = 25\n",
    "                config['dataset'] = 'PSM'\n",
    "                config['data_path'] = 'dataset/PSM'\n",
    "        elif dataset == 'MSL':\n",
    "                config['input_c'] = 55\n",
    "                config['dataset'] = 'MSL'\n",
    "                config['data_path'] = 'dataset/MSL'\n",
    "        elif dataset == 'SMAP':\n",
    "                config['input_c'] = 25\n",
    "                config['dataset'] = 'SMAP'\n",
    "                config['data_path'] = 'dataset/SMAP'\n",
    "        elif dataset == 'SWaT':\n",
    "                config['input_c'] = 50\n",
    "                config['dataset'] = 'SWaT'\n",
    "                config['data_path'] = 'dataset/SWaT'\n",
    "                config['anormly_ratio'] = 0.1\n",
    "\n",
    "        np.random.seed(config['seed'])\n",
    "        torch.manual_seed(config['seed'])\n",
    "        torch.cuda.manual_seed(config['seed'])\n",
    "        cudnn.benchmark = True\n",
    "        if (not os.path.exists(config['model_save_path'])):\n",
    "                mkdir(config['model_save_path'])\n",
    "\n",
    "        solver = Solver(config)\n",
    "\n",
    "        solver.train()\n",
    "        solver.test()"
   ]
  },
  {
   "attachments": {},
   "cell_type": "markdown",
   "id": "707d6135",
   "metadata": {},
   "source": [
    "# wo GP"
   ]
  },
  {
   "cell_type": "code",
   "execution_count": 4,
   "id": "4a913a8e",
   "metadata": {},
   "outputs": [
    {
     "name": "stdout",
     "output_type": "stream",
     "text": [
      "(50000, 38) (50000, 38) (50000,)\n",
      "(50000, 38) (50000, 38) (50000,)\n",
      "Generator(\n",
      "  (norm1): LayerNorm((38,), eps=1e-05, elementwise_affine=True)\n",
      "  (norm2): LayerNorm((38,), eps=1e-05, elementwise_affine=True)\n",
      "  (conv): Sequential(\n",
      "    (0): Dropout(p=0.2, inplace=False)\n",
      "    (1): ConvLayer(\n",
      "      (padding): ConstantPad1d(padding=(1, 1), value=0.0)\n",
      "      (conv): Conv1d(38, 38, kernel_size=(3,), stride=(1,))\n",
      "      (relu): LeakyReLU(negative_slope=True)\n",
      "    )\n",
      "  )\n",
      "  (discriminator): Sequential(\n",
      "    (0): Linear(in_features=38, out_features=20, bias=True)\n",
      "    (1): LeakyReLU(negative_slope=True)\n",
      "    (2): Linear(in_features=20, out_features=20, bias=True)\n",
      "    (3): LeakyReLU(negative_slope=True)\n",
      "    (4): Linear(in_features=20, out_features=38, bias=True)\n",
      "    (5): Sigmoid()\n",
      "  )\n",
      ")\n",
      "Discriminator(\n",
      "  (norm2): LayerNorm((38,), eps=1e-05, elementwise_affine=True)\n",
      "  (conv): Sequential(\n",
      "    (0): Dropout(p=0.2, inplace=False)\n",
      "    (1): ConvLayer(\n",
      "      (padding): ConstantPad1d(padding=(1, 1), value=0.0)\n",
      "      (conv): Conv1d(38, 38, kernel_size=(3,), stride=(1,))\n",
      "      (relu): LeakyReLU(negative_slope=True)\n",
      "    )\n",
      "  )\n",
      "  (discriminator): Sequential(\n",
      "    (0): Linear(in_features=38, out_features=20, bias=True)\n",
      "    (1): LeakyReLU(negative_slope=True)\n",
      "    (2): Linear(in_features=20, out_features=20, bias=True)\n",
      "    (3): LeakyReLU(negative_slope=True)\n",
      "    (4): Linear(in_features=20, out_features=38, bias=True)\n",
      "    (5): Sigmoid()\n",
      "  )\n",
      ")\n",
      "LSTM_AD(\n",
      "  (lstm): LSTM(228, 64)\n",
      "  (lstm2): LSTM(228, 38)\n",
      "  (fcn): Sequential(\n",
      "    (0): Linear(in_features=38, out_features=38, bias=True)\n",
      "    (1): Sigmoid()\n",
      "  )\n",
      ")\n",
      "======================TRAIN MODE======================\n"
     ]
    },
    {
     "name": "stderr",
     "output_type": "stream",
     "text": [
      "  7%|▋         | 1/15 [00:33<07:53, 33.83s/it]"
     ]
    },
    {
     "name": "stdout",
     "output_type": "stream",
     "text": [
      "Epoch: 1, Steps: 1562 | g_loss Loss: 0.4468666 d_loss Loss: 1.9334707 MSE: 0.0855079 SPD: -0.0855079 PMSE: 0.0345936\n"
     ]
    },
    {
     "name": "stderr",
     "output_type": "stream",
     "text": [
      " 13%|█▎        | 2/15 [01:07<07:20, 33.88s/it]"
     ]
    },
    {
     "name": "stdout",
     "output_type": "stream",
     "text": [
      "Epoch: 2, Steps: 1562 | g_loss Loss: 0.4318823 d_loss Loss: 1.8087430 MSE: 0.0800341 SPD: 0.0054738 PMSE: 0.0246160\n"
     ]
    },
    {
     "name": "stderr",
     "output_type": "stream",
     "text": [
      " 20%|██        | 3/15 [01:41<06:48, 34.03s/it]"
     ]
    },
    {
     "name": "stdout",
     "output_type": "stream",
     "text": [
      "Epoch: 3, Steps: 1562 | g_loss Loss: 0.8308614 d_loss Loss: 1.2899466 MSE: 0.0767088 SPD: 0.0033253 PMSE: 0.0206244\n"
     ]
    },
    {
     "name": "stderr",
     "output_type": "stream",
     "text": [
      " 27%|██▋       | 4/15 [02:16<06:15, 34.11s/it]"
     ]
    },
    {
     "name": "stdout",
     "output_type": "stream",
     "text": [
      "Epoch: 4, Steps: 1562 | g_loss Loss: 0.8580164 d_loss Loss: 1.0659487 MSE: 0.0771809 SPD: -0.0004721 PMSE: 0.0179718\n"
     ]
    },
    {
     "name": "stderr",
     "output_type": "stream",
     "text": [
      " 33%|███▎      | 5/15 [02:49<05:39, 33.92s/it]"
     ]
    },
    {
     "name": "stdout",
     "output_type": "stream",
     "text": [
      "Epoch: 5, Steps: 1562 | g_loss Loss: 0.6446815 d_loss Loss: 1.4420002 MSE: 0.0752484 SPD: 0.0019325 PMSE: 0.0158157\n"
     ]
    },
    {
     "name": "stderr",
     "output_type": "stream",
     "text": [
      " 40%|████      | 6/15 [03:24<05:06, 34.03s/it]"
     ]
    },
    {
     "name": "stdout",
     "output_type": "stream",
     "text": [
      "Epoch: 6, Steps: 1562 | g_loss Loss: 0.8045900 d_loss Loss: 1.1921844 MSE: 0.0756030 SPD: -0.0003546 PMSE: 0.0140652\n"
     ]
    },
    {
     "name": "stderr",
     "output_type": "stream",
     "text": [
      " 47%|████▋     | 7/15 [03:58<04:32, 34.09s/it]"
     ]
    },
    {
     "name": "stdout",
     "output_type": "stream",
     "text": [
      "Epoch: 7, Steps: 1562 | g_loss Loss: 0.4318450 d_loss Loss: 1.4156218 MSE: 0.0761733 SPD: -0.0005703 PMSE: 0.0126321\n"
     ]
    },
    {
     "name": "stderr",
     "output_type": "stream",
     "text": [
      " 53%|█████▎    | 8/15 [04:32<03:59, 34.16s/it]"
     ]
    },
    {
     "name": "stdout",
     "output_type": "stream",
     "text": [
      "Epoch: 8, Steps: 1562 | g_loss Loss: 0.6317917 d_loss Loss: 1.2632127 MSE: 0.0750603 SPD: 0.0011131 PMSE: 0.0114749\n"
     ]
    },
    {
     "name": "stderr",
     "output_type": "stream",
     "text": [
      " 60%|██████    | 9/15 [05:07<03:25, 34.26s/it]"
     ]
    },
    {
     "name": "stdout",
     "output_type": "stream",
     "text": [
      "Epoch: 9, Steps: 1562 | g_loss Loss: 0.4964178 d_loss Loss: 1.7736657 MSE: 0.0760251 SPD: -0.0009649 PMSE: 0.0105314\n"
     ]
    },
    {
     "name": "stderr",
     "output_type": "stream",
     "text": [
      " 67%|██████▋   | 10/15 [05:41<02:51, 34.37s/it]"
     ]
    },
    {
     "name": "stdout",
     "output_type": "stream",
     "text": [
      "Epoch: 10, Steps: 1562 | g_loss Loss: 0.5591762 d_loss Loss: 1.2699704 MSE: 0.0752660 SPD: 0.0007591 PMSE: 0.0097504\n"
     ]
    },
    {
     "name": "stderr",
     "output_type": "stream",
     "text": [
      " 73%|███████▎  | 11/15 [06:16<02:17, 34.38s/it]"
     ]
    },
    {
     "name": "stdout",
     "output_type": "stream",
     "text": [
      "Epoch: 11, Steps: 1562 | g_loss Loss: 0.5171919 d_loss Loss: 1.5430176 MSE: 0.0751525 SPD: 0.0001135 PMSE: 0.0090940\n"
     ]
    },
    {
     "name": "stderr",
     "output_type": "stream",
     "text": [
      " 80%|████████  | 12/15 [06:50<01:43, 34.38s/it]"
     ]
    },
    {
     "name": "stdout",
     "output_type": "stream",
     "text": [
      "Epoch: 12, Steps: 1562 | g_loss Loss: 0.7548567 d_loss Loss: 1.0826471 MSE: 0.0748138 SPD: 0.0003387 PMSE: 0.0085356\n"
     ]
    },
    {
     "name": "stderr",
     "output_type": "stream",
     "text": [
      " 87%|████████▋ | 13/15 [07:24<01:08, 34.30s/it]"
     ]
    },
    {
     "name": "stdout",
     "output_type": "stream",
     "text": [
      "Epoch: 13, Steps: 1562 | g_loss Loss: 0.6152617 d_loss Loss: 1.4369304 MSE: 0.0740132 SPD: 0.0008006 PMSE: 0.0080551\n"
     ]
    },
    {
     "name": "stderr",
     "output_type": "stream",
     "text": [
      " 93%|█████████▎| 14/15 [07:59<00:34, 34.36s/it]"
     ]
    },
    {
     "name": "stdout",
     "output_type": "stream",
     "text": [
      "Epoch: 14, Steps: 1562 | g_loss Loss: 0.6691595 d_loss Loss: 1.2361064 MSE: 0.0738254 SPD: 0.0001878 PMSE: 0.0076365\n"
     ]
    },
    {
     "name": "stderr",
     "output_type": "stream",
     "text": [
      "100%|██████████| 15/15 [08:33<00:00, 34.23s/it]"
     ]
    },
    {
     "name": "stdout",
     "output_type": "stream",
     "text": [
      "Epoch: 15, Steps: 1562 | g_loss Loss: 0.6269477 d_loss Loss: 1.2385752 MSE: 0.0735631 SPD: 0.0002623 PMSE: 0.0072668\n",
      "Saving model ...\n",
      "======================TEST MODE======================\n"
     ]
    },
    {
     "name": "stderr",
     "output_type": "stream",
     "text": [
      "\n"
     ]
    },
    {
     "name": "stdout",
     "output_type": "stream",
     "text": [
      "bb (49994,)\n",
      "test_labels:      (49994,)\n",
      "aa (49994,) (49994,)\n",
      "Finding best f1-score by searching for threshold..\n"
     ]
    },
    {
     "name": "stderr",
     "output_type": "stream",
     "text": [
      "/home/yons/anaconda3/envs/qisibo_TS_to/lib/python3.7/site-packages/numpy/lib/npyio.py:528: VisibleDeprecationWarning: Creating an ndarray from ragged nested sequences (which is a list-or-tuple of lists-or-tuples-or ndarrays with different lengths or shapes) is deprecated. If you meant to do this, you must specify 'dtype=object' when creating the ndarray.\n",
      "  arr = np.asanyarray(arr)\n"
     ]
    },
    {
     "name": "stdout",
     "output_type": "stream",
     "text": [
      "{'Accuracy': 0.9829179501540185,\n",
      " 'FN': 328,\n",
      " 'FP': 526,\n",
      " 'TN': 45626,\n",
      " 'TP': 3514,\n",
      " 'f1': 0.8916468659295862,\n",
      " 'latency': 126.44303952178309,\n",
      " 'precision': 0.8698019780450446,\n",
      " 'recall': 0.9146277956412603,\n",
      " 'threshold': 0.32733999999999996}\n",
      "(20000, 25) (20000, 25) (20000,)\n",
      "(20000, 25) (20000, 25) (20000,)\n",
      "Generator(\n",
      "  (norm1): LayerNorm((25,), eps=1e-05, elementwise_affine=True)\n",
      "  (norm2): LayerNorm((25,), eps=1e-05, elementwise_affine=True)\n",
      "  (conv): Sequential(\n",
      "    (0): Dropout(p=0.2, inplace=False)\n",
      "    (1): ConvLayer(\n",
      "      (padding): ConstantPad1d(padding=(1, 1), value=0.0)\n",
      "      (conv): Conv1d(25, 25, kernel_size=(3,), stride=(1,))\n",
      "      (relu): LeakyReLU(negative_slope=True)\n",
      "    )\n",
      "  )\n",
      "  (discriminator): Sequential(\n",
      "    (0): Linear(in_features=25, out_features=13, bias=True)\n",
      "    (1): LeakyReLU(negative_slope=True)\n",
      "    (2): Linear(in_features=13, out_features=13, bias=True)\n",
      "    (3): LeakyReLU(negative_slope=True)\n",
      "    (4): Linear(in_features=13, out_features=25, bias=True)\n",
      "    (5): Sigmoid()\n",
      "  )\n",
      ")\n",
      "Discriminator(\n",
      "  (norm2): LayerNorm((25,), eps=1e-05, elementwise_affine=True)\n",
      "  (conv): Sequential(\n",
      "    (0): Dropout(p=0.2, inplace=False)\n",
      "    (1): ConvLayer(\n",
      "      (padding): ConstantPad1d(padding=(1, 1), value=0.0)\n",
      "      (conv): Conv1d(25, 25, kernel_size=(3,), stride=(1,))\n",
      "      (relu): LeakyReLU(negative_slope=True)\n",
      "    )\n",
      "  )\n",
      "  (discriminator): Sequential(\n",
      "    (0): Linear(in_features=25, out_features=13, bias=True)\n",
      "    (1): LeakyReLU(negative_slope=True)\n",
      "    (2): Linear(in_features=13, out_features=13, bias=True)\n",
      "    (3): LeakyReLU(negative_slope=True)\n",
      "    (4): Linear(in_features=13, out_features=25, bias=True)\n",
      "    (5): Sigmoid()\n",
      "  )\n",
      ")\n",
      "LSTM_AD(\n",
      "  (lstm): LSTM(150, 64)\n",
      "  (lstm2): LSTM(150, 25)\n",
      "  (fcn): Sequential(\n",
      "    (0): Linear(in_features=25, out_features=25, bias=True)\n",
      "    (1): Sigmoid()\n",
      "  )\n",
      ")\n",
      "======================TRAIN MODE======================\n"
     ]
    },
    {
     "name": "stderr",
     "output_type": "stream",
     "text": [
      "  7%|▋         | 1/15 [00:13<03:07, 13.43s/it]"
     ]
    },
    {
     "name": "stdout",
     "output_type": "stream",
     "text": [
      "Epoch: 1, Steps: 624 | g_loss Loss: 0.6751103 d_loss Loss: 1.4097176 MSE: 0.0367940 SPD: -0.0367940 PMSE: 0.0184680\n"
     ]
    },
    {
     "name": "stderr",
     "output_type": "stream",
     "text": [
      " 13%|█▎        | 2/15 [00:27<02:56, 13.54s/it]"
     ]
    },
    {
     "name": "stdout",
     "output_type": "stream",
     "text": [
      "Epoch: 2, Steps: 624 | g_loss Loss: 0.6707719 d_loss Loss: 1.3886988 MSE: 0.0295782 SPD: 0.0072158 PMSE: 0.0110097\n"
     ]
    },
    {
     "name": "stderr",
     "output_type": "stream",
     "text": [
      " 20%|██        | 3/15 [00:40<02:42, 13.57s/it]"
     ]
    },
    {
     "name": "stdout",
     "output_type": "stream",
     "text": [
      "Epoch: 3, Steps: 624 | g_loss Loss: 0.6849986 d_loss Loss: 1.3995150 MSE: 0.0298808 SPD: -0.0003026 PMSE: 0.0082574\n"
     ]
    },
    {
     "name": "stderr",
     "output_type": "stream",
     "text": [
      " 27%|██▋       | 4/15 [00:54<02:30, 13.65s/it]"
     ]
    },
    {
     "name": "stdout",
     "output_type": "stream",
     "text": [
      "Epoch: 4, Steps: 624 | g_loss Loss: 0.6748281 d_loss Loss: 1.3965235 MSE: 0.0288544 SPD: 0.0010265 PMSE: 0.0068221\n"
     ]
    },
    {
     "name": "stderr",
     "output_type": "stream",
     "text": [
      " 33%|███▎      | 5/15 [01:08<02:17, 13.71s/it]"
     ]
    },
    {
     "name": "stdout",
     "output_type": "stream",
     "text": [
      "Epoch: 5, Steps: 624 | g_loss Loss: 0.7004043 d_loss Loss: 1.4162188 MSE: 0.0284729 SPD: 0.0003815 PMSE: 0.0059247\n"
     ]
    },
    {
     "name": "stderr",
     "output_type": "stream",
     "text": [
      " 40%|████      | 6/15 [01:21<02:03, 13.71s/it]"
     ]
    },
    {
     "name": "stdout",
     "output_type": "stream",
     "text": [
      "Epoch: 6, Steps: 624 | g_loss Loss: 0.7245783 d_loss Loss: 1.3261235 MSE: 0.0296995 SPD: -0.0012266 PMSE: 0.0052763\n"
     ]
    },
    {
     "name": "stderr",
     "output_type": "stream",
     "text": [
      " 47%|████▋     | 7/15 [01:35<01:49, 13.68s/it]"
     ]
    },
    {
     "name": "stdout",
     "output_type": "stream",
     "text": [
      "Epoch: 7, Steps: 624 | g_loss Loss: 0.6796909 d_loss Loss: 1.3884605 MSE: 0.0290780 SPD: 0.0006214 PMSE: 0.0047595\n"
     ]
    },
    {
     "name": "stderr",
     "output_type": "stream",
     "text": [
      " 53%|█████▎    | 8/15 [01:49<01:36, 13.74s/it]"
     ]
    },
    {
     "name": "stdout",
     "output_type": "stream",
     "text": [
      "Epoch: 8, Steps: 624 | g_loss Loss: 0.6819637 d_loss Loss: 1.3953135 MSE: 0.0289468 SPD: 0.0001312 PMSE: 0.0043312\n"
     ]
    },
    {
     "name": "stderr",
     "output_type": "stream",
     "text": [
      " 60%|██████    | 9/15 [02:03<01:22, 13.68s/it]"
     ]
    },
    {
     "name": "stdout",
     "output_type": "stream",
     "text": [
      "Epoch: 9, Steps: 624 | g_loss Loss: 0.7088138 d_loss Loss: 1.3717685 MSE: 0.0292059 SPD: -0.0002592 PMSE: 0.0039781\n"
     ]
    },
    {
     "name": "stderr",
     "output_type": "stream",
     "text": [
      " 67%|██████▋   | 10/15 [02:17<01:08, 13.79s/it]"
     ]
    },
    {
     "name": "stdout",
     "output_type": "stream",
     "text": [
      "Epoch: 10, Steps: 624 | g_loss Loss: 0.6941560 d_loss Loss: 1.3643255 MSE: 0.0296024 SPD: -0.0003964 PMSE: 0.0036834\n"
     ]
    },
    {
     "name": "stderr",
     "output_type": "stream",
     "text": [
      " 73%|███████▎  | 11/15 [02:30<00:55, 13.82s/it]"
     ]
    },
    {
     "name": "stdout",
     "output_type": "stream",
     "text": [
      "Epoch: 11, Steps: 624 | g_loss Loss: 0.6955267 d_loss Loss: 1.3921156 MSE: 0.0292253 SPD: 0.0003770 PMSE: 0.0034347\n"
     ]
    },
    {
     "name": "stderr",
     "output_type": "stream",
     "text": [
      " 80%|████████  | 12/15 [02:44<00:41, 13.86s/it]"
     ]
    },
    {
     "name": "stdout",
     "output_type": "stream",
     "text": [
      "Epoch: 12, Steps: 624 | g_loss Loss: 0.6689368 d_loss Loss: 1.4025322 MSE: 0.0289655 SPD: 0.0002598 PMSE: 0.0032197\n"
     ]
    },
    {
     "name": "stderr",
     "output_type": "stream",
     "text": [
      " 87%|████████▋ | 13/15 [02:58<00:27, 13.85s/it]"
     ]
    },
    {
     "name": "stdout",
     "output_type": "stream",
     "text": [
      "Epoch: 13, Steps: 624 | g_loss Loss: 0.6794913 d_loss Loss: 1.3658946 MSE: 0.0287895 SPD: 0.0001760 PMSE: 0.0030332\n"
     ]
    },
    {
     "name": "stderr",
     "output_type": "stream",
     "text": [
      " 93%|█████████▎| 14/15 [03:12<00:13, 13.97s/it]"
     ]
    },
    {
     "name": "stdout",
     "output_type": "stream",
     "text": [
      "Epoch: 14, Steps: 624 | g_loss Loss: 0.7156968 d_loss Loss: 1.3840382 MSE: 0.0284772 SPD: 0.0003123 PMSE: 0.0028696\n"
     ]
    },
    {
     "name": "stderr",
     "output_type": "stream",
     "text": [
      "100%|██████████| 15/15 [03:27<00:00, 13.80s/it]"
     ]
    },
    {
     "name": "stdout",
     "output_type": "stream",
     "text": [
      "Epoch: 15, Steps: 624 | g_loss Loss: 0.6696901 d_loss Loss: 1.3880391 MSE: 0.0285076 SPD: -0.0000304 PMSE: 0.0027254\n",
      "Saving model ...\n",
      "======================TEST MODE======================\n"
     ]
    },
    {
     "name": "stderr",
     "output_type": "stream",
     "text": [
      "\n"
     ]
    },
    {
     "name": "stdout",
     "output_type": "stream",
     "text": [
      "bb (19994,)\n",
      "test_labels:      (19994,)\n",
      "aa (19994,) (19994,)\n",
      "Finding best f1-score by searching for threshold..\n",
      "{'Accuracy': 0.9896468940682205,\n",
      " 'FN': 72,\n",
      " 'FP': 135,\n",
      " 'TN': 16760,\n",
      " 'TP': 3027,\n",
      " 'f1': 0.9669331862310654,\n",
      " 'latency': 173.74565635859105,\n",
      " 'precision': 0.9573054998187681,\n",
      " 'recall': 0.9767666957832633,\n",
      " 'threshold': 0.20079999999999998}\n",
      "(20000, 25) (20000, 25) (20000,)\n",
      "(20000, 25) (20000, 25) (20000,)\n",
      "Generator(\n",
      "  (norm1): LayerNorm((25,), eps=1e-05, elementwise_affine=True)\n",
      "  (norm2): LayerNorm((25,), eps=1e-05, elementwise_affine=True)\n",
      "  (conv): Sequential(\n",
      "    (0): Dropout(p=0.2, inplace=False)\n",
      "    (1): ConvLayer(\n",
      "      (padding): ConstantPad1d(padding=(1, 1), value=0.0)\n",
      "      (conv): Conv1d(25, 25, kernel_size=(3,), stride=(1,))\n",
      "      (relu): LeakyReLU(negative_slope=True)\n",
      "    )\n",
      "  )\n",
      "  (discriminator): Sequential(\n",
      "    (0): Linear(in_features=25, out_features=13, bias=True)\n",
      "    (1): LeakyReLU(negative_slope=True)\n",
      "    (2): Linear(in_features=13, out_features=13, bias=True)\n",
      "    (3): LeakyReLU(negative_slope=True)\n",
      "    (4): Linear(in_features=13, out_features=25, bias=True)\n",
      "    (5): Sigmoid()\n",
      "  )\n",
      ")\n",
      "Discriminator(\n",
      "  (norm2): LayerNorm((25,), eps=1e-05, elementwise_affine=True)\n",
      "  (conv): Sequential(\n",
      "    (0): Dropout(p=0.2, inplace=False)\n",
      "    (1): ConvLayer(\n",
      "      (padding): ConstantPad1d(padding=(1, 1), value=0.0)\n",
      "      (conv): Conv1d(25, 25, kernel_size=(3,), stride=(1,))\n",
      "      (relu): LeakyReLU(negative_slope=True)\n",
      "    )\n",
      "  )\n",
      "  (discriminator): Sequential(\n",
      "    (0): Linear(in_features=25, out_features=13, bias=True)\n",
      "    (1): LeakyReLU(negative_slope=True)\n",
      "    (2): Linear(in_features=13, out_features=13, bias=True)\n",
      "    (3): LeakyReLU(negative_slope=True)\n",
      "    (4): Linear(in_features=13, out_features=25, bias=True)\n",
      "    (5): Sigmoid()\n",
      "  )\n",
      ")\n",
      "LSTM_AD(\n",
      "  (lstm): LSTM(150, 64)\n",
      "  (lstm2): LSTM(150, 25)\n",
      "  (fcn): Sequential(\n",
      "    (0): Linear(in_features=25, out_features=25, bias=True)\n",
      "    (1): Sigmoid()\n",
      "  )\n",
      ")\n",
      "======================TRAIN MODE======================\n"
     ]
    },
    {
     "name": "stderr",
     "output_type": "stream",
     "text": [
      "  7%|▋         | 1/15 [00:13<03:12, 13.74s/it]"
     ]
    },
    {
     "name": "stdout",
     "output_type": "stream",
     "text": [
      "Epoch: 1, Steps: 624 | g_loss Loss: 1.4071116 d_loss Loss: 0.7312926 MSE: 0.2128712 SPD: -0.2128712 PMSE: 0.1965382\n"
     ]
    },
    {
     "name": "stderr",
     "output_type": "stream",
     "text": [
      " 13%|█▎        | 2/15 [00:27<02:58, 13.74s/it]"
     ]
    },
    {
     "name": "stdout",
     "output_type": "stream",
     "text": [
      "Epoch: 2, Steps: 624 | g_loss Loss: 1.0438956 d_loss Loss: 0.8463476 MSE: 0.1517959 SPD: 0.0610753 PMSE: 0.1316664\n"
     ]
    },
    {
     "name": "stderr",
     "output_type": "stream",
     "text": [
      " 20%|██        | 3/15 [00:40<02:41, 13.49s/it]"
     ]
    },
    {
     "name": "stdout",
     "output_type": "stream",
     "text": [
      "Epoch: 3, Steps: 624 | g_loss Loss: 0.9917998 d_loss Loss: 0.8536536 MSE: 0.1250783 SPD: 0.0267176 PMSE: 0.1037977\n"
     ]
    },
    {
     "name": "stderr",
     "output_type": "stream",
     "text": [
      " 27%|██▋       | 4/15 [00:54<02:28, 13.46s/it]"
     ]
    },
    {
     "name": "stdout",
     "output_type": "stream",
     "text": [
      "Epoch: 4, Steps: 624 | g_loss Loss: 1.2545358 d_loss Loss: 0.7729094 MSE: 0.1080354 SPD: 0.0170428 PMSE: 0.0886440\n"
     ]
    },
    {
     "name": "stderr",
     "output_type": "stream",
     "text": [
      " 33%|███▎      | 5/15 [01:07<02:15, 13.52s/it]"
     ]
    },
    {
     "name": "stdout",
     "output_type": "stream",
     "text": [
      "Epoch: 5, Steps: 624 | g_loss Loss: 1.2977335 d_loss Loss: 0.7251055 MSE: 0.0955201 SPD: 0.0125154 PMSE: 0.0790927\n"
     ]
    },
    {
     "name": "stderr",
     "output_type": "stream",
     "text": [
      " 40%|████      | 6/15 [01:21<02:02, 13.61s/it]"
     ]
    },
    {
     "name": "stdout",
     "output_type": "stream",
     "text": [
      "Epoch: 6, Steps: 624 | g_loss Loss: 1.5367063 d_loss Loss: 0.7041396 MSE: 0.0866647 SPD: 0.0088553 PMSE: 0.0725160\n"
     ]
    },
    {
     "name": "stderr",
     "output_type": "stream",
     "text": [
      " 47%|████▋     | 7/15 [01:35<01:49, 13.65s/it]"
     ]
    },
    {
     "name": "stdout",
     "output_type": "stream",
     "text": [
      "Epoch: 7, Steps: 624 | g_loss Loss: 1.5189594 d_loss Loss: 0.6974493 MSE: 0.0797328 SPD: 0.0069320 PMSE: 0.0677125\n"
     ]
    },
    {
     "name": "stderr",
     "output_type": "stream",
     "text": [
      " 53%|█████▎    | 8/15 [01:49<01:36, 13.72s/it]"
     ]
    },
    {
     "name": "stdout",
     "output_type": "stream",
     "text": [
      "Epoch: 8, Steps: 624 | g_loss Loss: 1.5525134 d_loss Loss: 0.7111976 MSE: 0.0745039 SPD: 0.0052289 PMSE: 0.0640507\n"
     ]
    },
    {
     "name": "stderr",
     "output_type": "stream",
     "text": [
      " 60%|██████    | 9/15 [02:02<01:22, 13.70s/it]"
     ]
    },
    {
     "name": "stdout",
     "output_type": "stream",
     "text": [
      "Epoch: 9, Steps: 624 | g_loss Loss: 1.5612233 d_loss Loss: 0.7557365 MSE: 0.0704393 SPD: 0.0040646 PMSE: 0.0611713\n"
     ]
    },
    {
     "name": "stderr",
     "output_type": "stream",
     "text": [
      " 67%|██████▋   | 10/15 [02:16<01:08, 13.70s/it]"
     ]
    },
    {
     "name": "stdout",
     "output_type": "stream",
     "text": [
      "Epoch: 10, Steps: 624 | g_loss Loss: 1.5706753 d_loss Loss: 0.7093734 MSE: 0.0671895 SPD: 0.0032497 PMSE: 0.0588484\n"
     ]
    },
    {
     "name": "stderr",
     "output_type": "stream",
     "text": [
      " 73%|███████▎  | 11/15 [02:30<00:55, 13.77s/it]"
     ]
    },
    {
     "name": "stdout",
     "output_type": "stream",
     "text": [
      "Epoch: 11, Steps: 624 | g_loss Loss: 1.5934533 d_loss Loss: 0.6721771 MSE: 0.0645310 SPD: 0.0026585 PMSE: 0.0569309\n"
     ]
    },
    {
     "name": "stderr",
     "output_type": "stream",
     "text": [
      " 80%|████████  | 12/15 [02:44<00:41, 13.79s/it]"
     ]
    },
    {
     "name": "stdout",
     "output_type": "stream",
     "text": [
      "Epoch: 12, Steps: 624 | g_loss Loss: 1.5984428 d_loss Loss: 0.7835492 MSE: 0.0623145 SPD: 0.0022165 PMSE: 0.0553197\n"
     ]
    },
    {
     "name": "stderr",
     "output_type": "stream",
     "text": [
      " 87%|████████▋ | 13/15 [02:57<00:27, 13.77s/it]"
     ]
    },
    {
     "name": "stdout",
     "output_type": "stream",
     "text": [
      "Epoch: 13, Steps: 624 | g_loss Loss: 1.6953759 d_loss Loss: 0.7099897 MSE: 0.0608065 SPD: 0.0015079 PMSE: 0.0539456\n"
     ]
    },
    {
     "name": "stderr",
     "output_type": "stream",
     "text": [
      " 93%|█████████▎| 14/15 [03:11<00:13, 13.81s/it]"
     ]
    },
    {
     "name": "stdout",
     "output_type": "stream",
     "text": [
      "Epoch: 14, Steps: 624 | g_loss Loss: 1.5912774 d_loss Loss: 0.7396511 MSE: 0.0595347 SPD: 0.0012719 PMSE: 0.0527453\n"
     ]
    },
    {
     "name": "stderr",
     "output_type": "stream",
     "text": [
      "100%|██████████| 15/15 [03:25<00:00, 13.72s/it]"
     ]
    },
    {
     "name": "stdout",
     "output_type": "stream",
     "text": [
      "Epoch: 15, Steps: 624 | g_loss Loss: 1.6730659 d_loss Loss: 0.6915492 MSE: 0.0580956 SPD: 0.0014391 PMSE: 0.0516383\n",
      "Saving model ...\n",
      "======================TEST MODE======================\n"
     ]
    },
    {
     "name": "stderr",
     "output_type": "stream",
     "text": [
      "\n"
     ]
    },
    {
     "name": "stdout",
     "output_type": "stream",
     "text": [
      "bb (19994,)\n",
      "test_labels:      (19994,)\n",
      "aa (19994,) (19994,)\n",
      "Finding best f1-score by searching for threshold..\n",
      "{'Accuracy': 0.9750425127538261,\n",
      " 'FN': 0,\n",
      " 'FP': 499,\n",
      " 'TN': 19087,\n",
      " 'TP': 408,\n",
      " 'f1': 0.620528029961983,\n",
      " 'latency': 24.332522249258357,\n",
      " 'precision': 0.44983461466555,\n",
      " 'recall': 0.9999999754901967,\n",
      " 'threshold': 0.46053999999999995}\n",
      "(20000, 55) (20000, 55) (20000,)\n",
      "(20000, 55) (20000, 55) (20000,)\n",
      "Generator(\n",
      "  (norm1): LayerNorm((55,), eps=1e-05, elementwise_affine=True)\n",
      "  (norm2): LayerNorm((55,), eps=1e-05, elementwise_affine=True)\n",
      "  (conv): Sequential(\n",
      "    (0): Dropout(p=0.2, inplace=False)\n",
      "    (1): ConvLayer(\n",
      "      (padding): ConstantPad1d(padding=(1, 1), value=0.0)\n",
      "      (conv): Conv1d(55, 55, kernel_size=(3,), stride=(1,))\n",
      "      (relu): LeakyReLU(negative_slope=True)\n",
      "    )\n",
      "  )\n",
      "  (discriminator): Sequential(\n",
      "    (0): Linear(in_features=55, out_features=28, bias=True)\n",
      "    (1): LeakyReLU(negative_slope=True)\n",
      "    (2): Linear(in_features=28, out_features=28, bias=True)\n",
      "    (3): LeakyReLU(negative_slope=True)\n",
      "    (4): Linear(in_features=28, out_features=55, bias=True)\n",
      "    (5): Sigmoid()\n",
      "  )\n",
      ")\n",
      "Discriminator(\n",
      "  (norm2): LayerNorm((55,), eps=1e-05, elementwise_affine=True)\n",
      "  (conv): Sequential(\n",
      "    (0): Dropout(p=0.2, inplace=False)\n",
      "    (1): ConvLayer(\n",
      "      (padding): ConstantPad1d(padding=(1, 1), value=0.0)\n",
      "      (conv): Conv1d(55, 55, kernel_size=(3,), stride=(1,))\n",
      "      (relu): LeakyReLU(negative_slope=True)\n",
      "    )\n",
      "  )\n",
      "  (discriminator): Sequential(\n",
      "    (0): Linear(in_features=55, out_features=28, bias=True)\n",
      "    (1): LeakyReLU(negative_slope=True)\n",
      "    (2): Linear(in_features=28, out_features=28, bias=True)\n",
      "    (3): LeakyReLU(negative_slope=True)\n",
      "    (4): Linear(in_features=28, out_features=55, bias=True)\n",
      "    (5): Sigmoid()\n",
      "  )\n",
      ")\n",
      "LSTM_AD(\n",
      "  (lstm): LSTM(330, 64)\n",
      "  (lstm2): LSTM(330, 55)\n",
      "  (fcn): Sequential(\n",
      "    (0): Linear(in_features=55, out_features=55, bias=True)\n",
      "    (1): Sigmoid()\n",
      "  )\n",
      ")\n",
      "======================TRAIN MODE======================\n"
     ]
    },
    {
     "name": "stderr",
     "output_type": "stream",
     "text": [
      "  7%|▋         | 1/15 [00:13<03:11, 13.70s/it]"
     ]
    },
    {
     "name": "stdout",
     "output_type": "stream",
     "text": [
      "Epoch: 1, Steps: 624 | g_loss Loss: 1.1542300 d_loss Loss: 0.8618593 MSE: 0.1234990 SPD: -0.1234990 PMSE: 0.0917572\n"
     ]
    },
    {
     "name": "stderr",
     "output_type": "stream",
     "text": [
      " 13%|█▎        | 2/15 [00:27<02:59, 13.81s/it]"
     ]
    },
    {
     "name": "stdout",
     "output_type": "stream",
     "text": [
      "Epoch: 2, Steps: 624 | g_loss Loss: 0.7764238 d_loss Loss: 1.2800815 MSE: 0.0894702 SPD: 0.0340288 PMSE: 0.0513991\n"
     ]
    },
    {
     "name": "stderr",
     "output_type": "stream",
     "text": [
      " 20%|██        | 3/15 [00:41<02:45, 13.83s/it]"
     ]
    },
    {
     "name": "stdout",
     "output_type": "stream",
     "text": [
      "Epoch: 3, Steps: 624 | g_loss Loss: 0.9116167 d_loss Loss: 1.6151927 MSE: 0.0718720 SPD: 0.0175982 PMSE: 0.0368224\n"
     ]
    },
    {
     "name": "stderr",
     "output_type": "stream",
     "text": [
      " 27%|██▋       | 4/15 [00:55<02:32, 13.88s/it]"
     ]
    },
    {
     "name": "stdout",
     "output_type": "stream",
     "text": [
      "Epoch: 4, Steps: 624 | g_loss Loss: 0.8112911 d_loss Loss: 1.4060905 MSE: 0.0590889 SPD: 0.0127831 PMSE: 0.0292982\n"
     ]
    },
    {
     "name": "stderr",
     "output_type": "stream",
     "text": [
      " 33%|███▎      | 5/15 [01:09<02:18, 13.89s/it]"
     ]
    },
    {
     "name": "stdout",
     "output_type": "stream",
     "text": [
      "Epoch: 5, Steps: 624 | g_loss Loss: 0.4896971 d_loss Loss: 2.7614136 MSE: 0.0498617 SPD: 0.0092272 PMSE: 0.0246933\n"
     ]
    },
    {
     "name": "stderr",
     "output_type": "stream",
     "text": [
      " 40%|████      | 6/15 [01:23<02:05, 13.93s/it]"
     ]
    },
    {
     "name": "stdout",
     "output_type": "stream",
     "text": [
      "Epoch: 6, Steps: 624 | g_loss Loss: 0.7561356 d_loss Loss: 1.4212360 MSE: 0.0428053 SPD: 0.0070564 PMSE: 0.0215418\n"
     ]
    },
    {
     "name": "stderr",
     "output_type": "stream",
     "text": [
      " 47%|████▋     | 7/15 [01:36<01:50, 13.85s/it]"
     ]
    },
    {
     "name": "stdout",
     "output_type": "stream",
     "text": [
      "Epoch: 7, Steps: 624 | g_loss Loss: 0.7360300 d_loss Loss: 1.8518550 MSE: 0.0377480 SPD: 0.0050574 PMSE: 0.0192496\n"
     ]
    },
    {
     "name": "stderr",
     "output_type": "stream",
     "text": [
      " 53%|█████▎    | 8/15 [01:50<01:37, 13.88s/it]"
     ]
    },
    {
     "name": "stdout",
     "output_type": "stream",
     "text": [
      "Epoch: 8, Steps: 624 | g_loss Loss: 1.0090990 d_loss Loss: 1.2577503 MSE: 0.0338509 SPD: 0.0038971 PMSE: 0.0174939\n"
     ]
    },
    {
     "name": "stderr",
     "output_type": "stream",
     "text": [
      " 60%|██████    | 9/15 [02:05<01:24, 14.16s/it]"
     ]
    },
    {
     "name": "stdout",
     "output_type": "stream",
     "text": [
      "Epoch: 9, Steps: 624 | g_loss Loss: 1.3158386 d_loss Loss: 1.5284196 MSE: 0.0308925 SPD: 0.0029584 PMSE: 0.0160843\n"
     ]
    },
    {
     "name": "stderr",
     "output_type": "stream",
     "text": [
      " 67%|██████▋   | 10/15 [02:19<01:10, 14.02s/it]"
     ]
    },
    {
     "name": "stdout",
     "output_type": "stream",
     "text": [
      "Epoch: 10, Steps: 624 | g_loss Loss: 1.2323017 d_loss Loss: 1.0484171 MSE: 0.0284985 SPD: 0.0023941 PMSE: 0.0148954\n"
     ]
    },
    {
     "name": "stderr",
     "output_type": "stream",
     "text": [
      " 73%|███████▎  | 11/15 [02:33<00:56, 14.01s/it]"
     ]
    },
    {
     "name": "stdout",
     "output_type": "stream",
     "text": [
      "Epoch: 11, Steps: 624 | g_loss Loss: 1.0306165 d_loss Loss: 1.3816496 MSE: 0.0274974 SPD: 0.0010011 PMSE: 0.0138965\n"
     ]
    },
    {
     "name": "stderr",
     "output_type": "stream",
     "text": [
      " 80%|████████  | 12/15 [02:47<00:42, 14.01s/it]"
     ]
    },
    {
     "name": "stdout",
     "output_type": "stream",
     "text": [
      "Epoch: 12, Steps: 624 | g_loss Loss: 1.3896401 d_loss Loss: 1.0524384 MSE: 0.0265523 SPD: 0.0009450 PMSE: 0.0130532\n"
     ]
    },
    {
     "name": "stderr",
     "output_type": "stream",
     "text": [
      " 87%|████████▋ | 13/15 [03:01<00:28, 14.00s/it]"
     ]
    },
    {
     "name": "stdout",
     "output_type": "stream",
     "text": [
      "Epoch: 13, Steps: 624 | g_loss Loss: 1.4903404 d_loss Loss: 1.0237615 MSE: 0.0249532 SPD: 0.0015992 PMSE: 0.0123331\n"
     ]
    },
    {
     "name": "stderr",
     "output_type": "stream",
     "text": [
      " 93%|█████████▎| 14/15 [03:15<00:13, 13.98s/it]"
     ]
    },
    {
     "name": "stdout",
     "output_type": "stream",
     "text": [
      "Epoch: 14, Steps: 624 | g_loss Loss: 1.3546263 d_loss Loss: 1.1197917 MSE: 0.0236590 SPD: 0.0012942 PMSE: 0.0117118\n"
     ]
    },
    {
     "name": "stderr",
     "output_type": "stream",
     "text": [
      "100%|██████████| 15/15 [03:29<00:00, 13.95s/it]"
     ]
    },
    {
     "name": "stdout",
     "output_type": "stream",
     "text": [
      "Epoch: 15, Steps: 624 | g_loss Loss: 1.0966855 d_loss Loss: 0.9801450 MSE: 0.0225408 SPD: 0.0011182 PMSE: 0.0111706\n",
      "Saving model ...\n",
      "======================TEST MODE======================\n"
     ]
    },
    {
     "name": "stderr",
     "output_type": "stream",
     "text": [
      "\n"
     ]
    },
    {
     "name": "stdout",
     "output_type": "stream",
     "text": [
      "bb (19994,)\n",
      "test_labels:      (19994,)\n",
      "aa (19994,) (19994,)\n",
      "Finding best f1-score by searching for threshold..\n"
     ]
    },
    {
     "name": "stderr",
     "output_type": "stream",
     "text": [
      "/home/yons/anaconda3/envs/qisibo_TS_to/lib/python3.7/site-packages/numpy/lib/npyio.py:528: VisibleDeprecationWarning: Creating an ndarray from ragged nested sequences (which is a list-or-tuple of lists-or-tuples-or ndarrays with different lengths or shapes) is deprecated. If you meant to do this, you must specify 'dtype=object' when creating the ndarray.\n",
      "  arr = np.asanyarray(arr)\n"
     ]
    },
    {
     "name": "stdout",
     "output_type": "stream",
     "text": [
      "{'Accuracy': 0.8810643192957888,\n",
      " 'FN': 1,\n",
      " 'FP': 2377,\n",
      " 'TN': 15477,\n",
      " 'TP': 2139,\n",
      " 'f1': 0.6427240006249748,\n",
      " 'latency': 8.444350618326464,\n",
      " 'precision': 0.4736492460725216,\n",
      " 'recall': 0.9995327056096601,\n",
      " 'threshold': 0.25408}\n"
     ]
    }
   ],
   "source": [
    "\n",
    "import os\n",
    "\n",
    "from torch.backends import cudnn\n",
    "from utils.utils import *\n",
    "\n",
    "from solver_woGP import Solver\n",
    "config={\n",
    "    'num_epochs': 15,\n",
    "    'win_size': 6, \n",
    "    'batch_size': 32, \n",
    "#     'batch_size': 4096, \n",
    "    'mode': 'train', \n",
    "    'dataset': 'PSM', \n",
    "    'data_path': 'dataset/PSM',\n",
    "    'input_c': 25,\n",
    "    'seed': 3,\n",
    "    'lr': 1e-4,\n",
    "    'model_save_path':'checkpoints',\n",
    "    'latent_dim':100,\n",
    "    'alpha':0.7,\n",
    "    'beta':1,\n",
    "    'b1':0.5,\n",
    "    'b2':0.999\n",
    "\n",
    "}\n",
    "# datasets = ['MSL','SMAP','SWaT','SMD','PSM']\n",
    "datasets = ['SMD','PSM','SMAP','MSL']\n",
    "# datasets = ['SMD']\n",
    "# methods = ['USAD','OmniAnomaly','MAD_GAN','MSCRED','DAGMM','OmniAnomaly']\n",
    "\n",
    "\n",
    "\n",
    "for dataset in datasets:\n",
    "        if dataset == 'SMD':\n",
    "                config['input_c'] = 38\n",
    "                config['dataset'] = 'SMD'\n",
    "                config['data_path'] = 'dataset/SMD'\n",
    "                config['anormly_ratio'] = 0.5\n",
    "        elif dataset == 'PSM':\n",
    "                config['input_c'] = 25\n",
    "                config['dataset'] = 'PSM'\n",
    "                config['data_path'] = 'dataset/PSM'\n",
    "        elif dataset == 'MSL':\n",
    "                config['input_c'] = 55\n",
    "                config['dataset'] = 'MSL'\n",
    "                config['data_path'] = 'dataset/MSL'\n",
    "        elif dataset == 'SMAP':\n",
    "                config['input_c'] = 25\n",
    "                config['dataset'] = 'SMAP'\n",
    "                config['data_path'] = 'dataset/SMAP'\n",
    "        elif dataset == 'SWaT':\n",
    "                config['input_c'] = 50\n",
    "                config['dataset'] = 'SWaT'\n",
    "                config['data_path'] = 'dataset/SWaT'\n",
    "                config['anormly_ratio'] = 0.1\n",
    "\n",
    "        np.random.seed(config['seed'])\n",
    "        torch.manual_seed(config['seed'])\n",
    "        torch.cuda.manual_seed(config['seed'])\n",
    "        cudnn.benchmark = True\n",
    "        if (not os.path.exists(config['model_save_path'])):\n",
    "                mkdir(config['model_save_path'])\n",
    "\n",
    "        solver = Solver(config)\n",
    "\n",
    "        solver.train()\n",
    "        solver.test()"
   ]
  },
  {
   "attachments": {},
   "cell_type": "markdown",
   "id": "816b7fbf",
   "metadata": {},
   "source": [
    "#补充实验 wo DS-SMAP"
   ]
  },
  {
   "cell_type": "code",
   "execution_count": 2,
   "id": "120413ba",
   "metadata": {},
   "outputs": [
    {
     "name": "stdout",
     "output_type": "stream",
     "text": [
      "(20000, 25) (20000, 25) (20000,)\n",
      "(20000, 25) (20000, 25) (20000,)\n",
      "Generator(\n",
      "  (norm1): LayerNorm((25,), eps=1e-05, elementwise_affine=True)\n",
      "  (norm2): LayerNorm((25,), eps=1e-05, elementwise_affine=True)\n",
      "  (conv): Sequential(\n",
      "    (0): Dropout(p=0.2, inplace=False)\n",
      "    (1): ConvLayer(\n",
      "      (padding): ConstantPad1d(padding=(1, 1), value=0.0)\n",
      "      (conv): Conv1d(25, 25, kernel_size=(3,), stride=(1,))\n",
      "      (relu): LeakyReLU(negative_slope=True)\n",
      "    )\n",
      "  )\n",
      "  (discriminator): Sequential(\n",
      "    (0): Linear(in_features=25, out_features=13, bias=True)\n",
      "    (1): LeakyReLU(negative_slope=True)\n",
      "    (2): Linear(in_features=13, out_features=13, bias=True)\n",
      "    (3): LeakyReLU(negative_slope=True)\n",
      "    (4): Linear(in_features=13, out_features=25, bias=True)\n",
      "    (5): Sigmoid()\n",
      "  )\n",
      ")\n",
      "Discriminator(\n",
      "  (norm2): LayerNorm((25,), eps=1e-05, elementwise_affine=True)\n",
      "  (conv): Sequential(\n",
      "    (0): Dropout(p=0.2, inplace=False)\n",
      "    (1): ConvLayer(\n",
      "      (padding): ConstantPad1d(padding=(1, 1), value=0.0)\n",
      "      (conv): Conv1d(25, 25, kernel_size=(3,), stride=(1,))\n",
      "      (relu): LeakyReLU(negative_slope=True)\n",
      "    )\n",
      "  )\n",
      "  (discriminator): Sequential(\n",
      "    (0): Linear(in_features=25, out_features=13, bias=True)\n",
      "    (1): LeakyReLU(negative_slope=True)\n",
      "    (2): Linear(in_features=13, out_features=13, bias=True)\n",
      "    (3): LeakyReLU(negative_slope=True)\n",
      "    (4): Linear(in_features=13, out_features=25, bias=True)\n",
      "    (5): Sigmoid()\n",
      "  )\n",
      ")\n",
      "LSTM_AD(\n",
      "  (lstm): LSTM(150, 64)\n",
      "  (lstm2): LSTM(150, 25)\n",
      "  (fcn): Sequential(\n",
      "    (0): Linear(in_features=25, out_features=25, bias=True)\n",
      "    (1): Sigmoid()\n",
      "  )\n",
      ")\n",
      "======================TRAIN MODE======================\n"
     ]
    },
    {
     "name": "stderr",
     "output_type": "stream",
     "text": [
      "  0%|          | 0/15 [00:00<?, ?it/s]"
     ]
    },
    {
     "name": "stderr",
     "output_type": "stream",
     "text": [
      "  7%|▋         | 1/15 [00:25<05:50, 25.01s/it]"
     ]
    },
    {
     "name": "stdout",
     "output_type": "stream",
     "text": [
      "Epoch: 1, Steps: 624 | g_loss Loss: -0.2328018 d_loss Loss: -0.3300506 MSE: 0.2212230 SPD: -0.2212230 PMSE: 0.1964939\n"
     ]
    },
    {
     "name": "stderr",
     "output_type": "stream",
     "text": [
      " 13%|█▎        | 2/15 [00:38<03:59, 18.39s/it]"
     ]
    },
    {
     "name": "stdout",
     "output_type": "stream",
     "text": [
      "Epoch: 2, Steps: 624 | g_loss Loss: -0.5964498 d_loss Loss: -0.1527709 MSE: 0.1547585 SPD: 0.0664646 PMSE: 0.1318548\n"
     ]
    },
    {
     "name": "stderr",
     "output_type": "stream",
     "text": [
      " 20%|██        | 3/15 [00:53<03:19, 16.59s/it]"
     ]
    },
    {
     "name": "stdout",
     "output_type": "stream",
     "text": [
      "Epoch: 3, Steps: 624 | g_loss Loss: -0.6438482 d_loss Loss: -0.1177144 MSE: 0.1196116 SPD: 0.0351469 PMSE: 0.1039306\n"
     ]
    },
    {
     "name": "stderr",
     "output_type": "stream",
     "text": [
      " 27%|██▋       | 4/15 [01:07<02:52, 15.66s/it]"
     ]
    },
    {
     "name": "stdout",
     "output_type": "stream",
     "text": [
      "Epoch: 4, Steps: 624 | g_loss Loss: -0.5864630 d_loss Loss: -0.1607074 MSE: 0.0997405 SPD: 0.0198710 PMSE: 0.0887381\n"
     ]
    },
    {
     "name": "stderr",
     "output_type": "stream",
     "text": [
      " 33%|███▎      | 5/15 [01:21<02:31, 15.14s/it]"
     ]
    },
    {
     "name": "stdout",
     "output_type": "stream",
     "text": [
      "Epoch: 5, Steps: 624 | g_loss Loss: -0.5120038 d_loss Loss: -0.0739874 MSE: 0.0875053 SPD: 0.0122352 PMSE: 0.0791738\n"
     ]
    },
    {
     "name": "stderr",
     "output_type": "stream",
     "text": [
      " 40%|████      | 6/15 [01:36<02:13, 14.88s/it]"
     ]
    },
    {
     "name": "stdout",
     "output_type": "stream",
     "text": [
      "Epoch: 6, Steps: 624 | g_loss Loss: -0.4349064 d_loss Loss: -0.1447208 MSE: 0.0792788 SPD: 0.0082265 PMSE: 0.0725843\n"
     ]
    },
    {
     "name": "stderr",
     "output_type": "stream",
     "text": [
      " 47%|████▋     | 7/15 [01:50<01:57, 14.64s/it]"
     ]
    },
    {
     "name": "stdout",
     "output_type": "stream",
     "text": [
      "Epoch: 7, Steps: 624 | g_loss Loss: -0.3682073 d_loss Loss: -0.1981803 MSE: 0.0733871 SPD: 0.0058917 PMSE: 0.0677733\n"
     ]
    },
    {
     "name": "stderr",
     "output_type": "stream",
     "text": [
      " 53%|█████▎    | 8/15 [02:04<01:41, 14.54s/it]"
     ]
    },
    {
     "name": "stdout",
     "output_type": "stream",
     "text": [
      "Epoch: 8, Steps: 624 | g_loss Loss: -0.3067603 d_loss Loss: -0.1814934 MSE: 0.0689634 SPD: 0.0044237 PMSE: 0.0641073\n"
     ]
    },
    {
     "name": "stderr",
     "output_type": "stream",
     "text": [
      " 60%|██████    | 9/15 [02:18<01:26, 14.41s/it]"
     ]
    },
    {
     "name": "stdout",
     "output_type": "stream",
     "text": [
      "Epoch: 9, Steps: 624 | g_loss Loss: -0.2636494 d_loss Loss: -0.1543577 MSE: 0.0655209 SPD: 0.0034425 PMSE: 0.0612231\n"
     ]
    },
    {
     "name": "stderr",
     "output_type": "stream",
     "text": [
      " 67%|██████▋   | 10/15 [02:33<01:12, 14.42s/it]"
     ]
    },
    {
     "name": "stdout",
     "output_type": "stream",
     "text": [
      "Epoch: 10, Steps: 624 | g_loss Loss: -0.2352291 d_loss Loss: -0.0904072 MSE: 0.0627653 SPD: 0.0027556 PMSE: 0.0588940\n"
     ]
    },
    {
     "name": "stderr",
     "output_type": "stream",
     "text": [
      " 73%|███████▎  | 11/15 [02:47<00:57, 14.37s/it]"
     ]
    },
    {
     "name": "stdout",
     "output_type": "stream",
     "text": [
      "Epoch: 11, Steps: 624 | g_loss Loss: -0.2041296 d_loss Loss: -0.1920686 MSE: 0.0606496 SPD: 0.0021157 PMSE: 0.0569722\n"
     ]
    },
    {
     "name": "stderr",
     "output_type": "stream",
     "text": [
      " 80%|████████  | 12/15 [03:01<00:43, 14.37s/it]"
     ]
    },
    {
     "name": "stdout",
     "output_type": "stream",
     "text": [
      "Epoch: 12, Steps: 624 | g_loss Loss: -0.2118627 d_loss Loss: -0.0979025 MSE: 0.0587957 SPD: 0.0018539 PMSE: 0.0553572\n"
     ]
    },
    {
     "name": "stderr",
     "output_type": "stream",
     "text": [
      " 87%|████████▋ | 13/15 [03:16<00:28, 14.42s/it]"
     ]
    },
    {
     "name": "stdout",
     "output_type": "stream",
     "text": [
      "Epoch: 13, Steps: 624 | g_loss Loss: -0.2059692 d_loss Loss: -0.0650470 MSE: 0.0571829 SPD: 0.0016128 PMSE: 0.0539801\n"
     ]
    },
    {
     "name": "stderr",
     "output_type": "stream",
     "text": [
      " 93%|█████████▎| 14/15 [03:30<00:14, 14.37s/it]"
     ]
    },
    {
     "name": "stdout",
     "output_type": "stream",
     "text": [
      "Epoch: 14, Steps: 624 | g_loss Loss: -0.2083273 d_loss Loss: -0.1496201 MSE: 0.0558041 SPD: 0.0013788 PMSE: 0.0527758\n"
     ]
    },
    {
     "name": "stderr",
     "output_type": "stream",
     "text": [
      "100%|██████████| 15/15 [03:44<00:00, 14.99s/it]"
     ]
    },
    {
     "name": "stdout",
     "output_type": "stream",
     "text": [
      "Epoch: 15, Steps: 624 | g_loss Loss: -0.2077886 d_loss Loss: -0.1038084 MSE: 0.0546109 SPD: 0.0011931 PMSE: 0.0516665\n",
      "======================TEST MODE======================\n"
     ]
    },
    {
     "name": "stderr",
     "output_type": "stream",
     "text": [
      "\n"
     ]
    },
    {
     "name": "stdout",
     "output_type": "stream",
     "text": [
      "bb (19994,)\n",
      "test_labels:      (19994,)\n",
      "aa (19994,) (19994,)\n",
      "Finding best f1-score by searching for threshold..\n",
      "{'Accuracy': 0.9666399919975993,\n",
      " 'FN': 0,\n",
      " 'FP': 667,\n",
      " 'TN': 18919,\n",
      " 'TP': 408,\n",
      " 'f1': 0.550232012138253,\n",
      " 'latency': 23.665877804073197,\n",
      " 'precision': 0.37953488019037324,\n",
      " 'recall': 0.9999999754901967,\n",
      " 'threshold': 0.9999999999999999}\n"
     ]
    }
   ],
   "source": [
    "\n",
    "import os\n",
    "\n",
    "from torch.backends import cudnn\n",
    "from utils.utils import *\n",
    "\n",
    "from solver import Solver\n",
    "config={\n",
    "    'num_epochs': 15,\n",
    "    'win_size': 6, \n",
    "    'batch_size': 32, \n",
    "#     'batch_size': 4096, \n",
    "    'mode': 'train', \n",
    "    'dataset': 'PSM', \n",
    "    'data_path': 'dataset/PSM',\n",
    "    'input_c': 25,\n",
    "    'seed': 3,\n",
    "    'lr': 1e-4,\n",
    "    'model_save_path':'checkpoints',\n",
    "    'latent_dim':100,\n",
    "    'alpha':0,\n",
    "    'beta':1,\n",
    "    'b1':0.5,\n",
    "    'b2':0.999\n",
    "\n",
    "}\n",
    "# datasets = ['MSL','SMAP','SWaT','SMD','PSM']\n",
    "datasets = ['SMAP']\n",
    "# datasets = ['SMD']\n",
    "# methods = ['USAD','OmniAnomaly','MAD_GAN','MSCRED','DAGMM','OmniAnomaly']\n",
    "\n",
    "\n",
    "\n",
    "for dataset in datasets:\n",
    "        if dataset == 'SMD':\n",
    "                config['input_c'] = 38\n",
    "                config['dataset'] = 'SMD'\n",
    "                config['data_path'] = 'dataset/SMD'\n",
    "                config['anormly_ratio'] = 0.5\n",
    "        elif dataset == 'PSM':\n",
    "                config['input_c'] = 25\n",
    "                config['dataset'] = 'PSM'\n",
    "                config['data_path'] = 'dataset/PSM'\n",
    "        elif dataset == 'MSL':\n",
    "                config['input_c'] = 55\n",
    "                config['dataset'] = 'MSL'\n",
    "                config['data_path'] = 'dataset/MSL'\n",
    "        elif dataset == 'SMAP':\n",
    "                config['input_c'] = 25\n",
    "                config['dataset'] = 'SMAP'\n",
    "                config['data_path'] = 'dataset/SMAP'\n",
    "        elif dataset == 'SWaT':\n",
    "                config['input_c'] = 50\n",
    "                config['dataset'] = 'SWaT'\n",
    "                config['data_path'] = 'dataset/SWaT'\n",
    "                config['anormly_ratio'] = 0.1\n",
    "\n",
    "        np.random.seed(config['seed'])\n",
    "        torch.manual_seed(config['seed'])\n",
    "        torch.cuda.manual_seed(config['seed'])\n",
    "        cudnn.benchmark = True\n",
    "        if (not os.path.exists(config['model_save_path'])):\n",
    "                mkdir(config['model_save_path'])\n",
    "\n",
    "        solver = Solver(config)\n",
    "\n",
    "        solver.train()\n",
    "        solver.test()"
   ]
  },
  {
   "cell_type": "code",
   "execution_count": 3,
   "id": "2ac3931a",
   "metadata": {},
   "outputs": [
    {
     "name": "stdout",
     "output_type": "stream",
     "text": [
      "(20000, 25) (20000, 25) (20000,)\n",
      "(20000, 25) (20000, 25) (20000,)\n",
      "======================TEST MODE======================\n",
      "bb (19994,)\n",
      "test_labels:      (19994,)\n",
      "aa (19994,) (19994,)\n",
      "Finding best f1-score by searching for threshold..\n",
      "{'Accuracy': 0.9666399919975993,\n",
      " 'FN': 0,\n",
      " 'FP': 667,\n",
      " 'TN': 18919,\n",
      " 'TP': 408,\n",
      " 'f1': 0.550232012138253,\n",
      " 'latency': 23.665877804073197,\n",
      " 'precision': 0.37953488019037324,\n",
      " 'recall': 0.9999999754901967,\n",
      " 'threshold': 0.9999999999999999}\n"
     ]
    }
   ],
   "source": [
    "\n",
    "import os\n",
    "\n",
    "from torch.backends import cudnn\n",
    "from utils.utils import *\n",
    "\n",
    "from solver import Solver\n",
    "config={\n",
    "    'num_epochs': 15,\n",
    "    'win_size': 6, \n",
    "    'batch_size': 32, \n",
    "#     'batch_size': 4096, \n",
    "    'mode': 'train', \n",
    "    'dataset': 'PSM', \n",
    "    'data_path': 'dataset/PSM',\n",
    "    'input_c': 25,\n",
    "    'seed': 1,\n",
    "    'lr': 1e-4,\n",
    "    'model_save_path':'checkpoints',\n",
    "    'latent_dim':100,\n",
    "    'alpha':0,\n",
    "    'beta':1,\n",
    "    'b1':0.5,\n",
    "    'b2':0.999\n",
    "\n",
    "}\n",
    "# datasets = ['MSL','SMAP','SWaT','SMD','PSM']\n",
    "datasets = ['SMAP']\n",
    "# datasets = ['SMD']\n",
    "# methods = ['USAD','OmniAnomaly','MAD_GAN','MSCRED','DAGMM','OmniAnomaly']\n",
    "\n",
    "\n",
    "\n",
    "for dataset in datasets:\n",
    "        if dataset == 'SMD':\n",
    "                config['input_c'] = 38\n",
    "                config['dataset'] = 'SMD'\n",
    "                config['data_path'] = 'dataset/SMD'\n",
    "                config['anormly_ratio'] = 0.5\n",
    "        elif dataset == 'PSM':\n",
    "                config['input_c'] = 25\n",
    "                config['dataset'] = 'PSM'\n",
    "                config['data_path'] = 'dataset/PSM'\n",
    "        elif dataset == 'MSL':\n",
    "                config['input_c'] = 55\n",
    "                config['dataset'] = 'MSL'\n",
    "                config['data_path'] = 'dataset/MSL'\n",
    "        elif dataset == 'SMAP':\n",
    "                config['input_c'] = 25\n",
    "                config['dataset'] = 'SMAP'\n",
    "                config['data_path'] = 'dataset/SMAP'\n",
    "        elif dataset == 'SWaT':\n",
    "                config['input_c'] = 50\n",
    "                config['dataset'] = 'SWaT'\n",
    "                config['data_path'] = 'dataset/SWaT'\n",
    "                config['anormly_ratio'] = 0.1\n",
    "\n",
    "        np.random.seed(config['seed'])\n",
    "        torch.manual_seed(config['seed'])\n",
    "        torch.cuda.manual_seed(config['seed'])\n",
    "        cudnn.benchmark = True\n",
    "        if (not os.path.exists(config['model_save_path'])):\n",
    "                mkdir(config['model_save_path'])\n",
    "\n",
    "        solver = Solver(config)\n",
    "\n",
    "        # solver.train()\n",
    "        solver.test()"
   ]
  }
 ],
 "metadata": {
  "kernelspec": {
   "display_name": "qisibo_TS_to",
   "language": "python",
   "name": "qisibo_ts_to"
  },
  "language_info": {
   "codemirror_mode": {
    "name": "ipython",
    "version": 3
   },
   "file_extension": ".py",
   "mimetype": "text/x-python",
   "name": "python",
   "nbconvert_exporter": "python",
   "pygments_lexer": "ipython3",
   "version": "3.7.13"
  }
 },
 "nbformat": 4,
 "nbformat_minor": 5
}
