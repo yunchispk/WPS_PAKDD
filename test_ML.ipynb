{
 "cells": [
  {
   "cell_type": "code",
   "execution_count": 31,
   "id": "4a80da3e",
   "metadata": {},
   "outputs": [],
   "source": [
    "import numpy as np\n",
    "import pandas as pd\n",
    "\n",
    "import torch\n",
    "import torch.nn as nn\n",
    "import torch.optim as optim\n",
    "\n",
    "\n",
    "from torch.utils.data import Dataset\n",
    "from torch.utils.data import DataLoader"
   ]
  },
  {
   "attachments": {},
   "cell_type": "markdown",
   "id": "adbea15d",
   "metadata": {},
   "source": []
  },
  {
   "cell_type": "code",
   "execution_count": 32,
   "id": "b7cbbbce",
   "metadata": {},
   "outputs": [],
   "source": [
    "import pyod\n",
    "\n",
    "import pprint\n",
    "from src.eval_methods import pot_eval, bf_search\n",
    "from sklearn.preprocessing import MinMaxScaler\n"
   ]
  },
  {
   "attachments": {},
   "cell_type": "markdown",
   "id": "f1ea67b1",
   "metadata": {},
   "source": [
    "data_path = ''"
   ]
  },
  {
   "cell_type": "code",
   "execution_count": 33,
   "id": "06850a4b",
   "metadata": {},
   "outputs": [],
   "source": [
    "def get_data(data_set):\n",
    "    data_path = f'dataset/{data_set}'\n",
    "    if data_set == 'SMD':\n",
    "        index = 100000*2\n",
    "        length = 50000\n",
    "    elif data_set == 'PSM':\n",
    "        index = 40000\n",
    "        length = 20000\n",
    "    elif data_set == 'MSL':\n",
    "        index = 10000*3\n",
    "        length = 20000\n",
    "    else:\n",
    "        index = 10000\n",
    "        length = 20000\n",
    "    if data_set == 'PSM':\n",
    "        # scaler = StandardScaler()\n",
    "        data = pd.read_csv(data_path + '/PSM_train.csv')[index:index + length]\n",
    "        data = data.values[:, 1:]\n",
    "\n",
    "        data = np.nan_to_num(data)\n",
    "\n",
    "        # scaler.fit(data)\n",
    "        # data = scaler.transform(data)\n",
    "        test_data = pd.read_csv(data_path + '/PSM_test.csv')[index:index + length]\n",
    "\n",
    "        test_data = test_data.values[:, 1:]\n",
    "        test_data = np.nan_to_num(test_data)\n",
    "\n",
    "        # test = scaler.transform(test_data)\n",
    "        test = test_data\n",
    "\n",
    "        train = data\n",
    "\n",
    "        test_labels = pd.read_csv(data_path + '/PSM_test_label.csv')[index:index + length].values[:, 1:].astype(int)\n",
    "    elif data_set == 'MSL':\n",
    "        scaler = MinMaxScaler()\n",
    "        data = np.load(data_path + f\"/{data_set}_train.npy\")[index:index + length]\n",
    "        scaler.fit(data)\n",
    "        data = scaler.transform(data)\n",
    "        test_data = np.load(data_path + f\"/{data_set}_test.npy\")[index:index + length]\n",
    "        scaler.fit(test_data)\n",
    "        test = scaler.transform(test_data)\n",
    "        test = test_data\n",
    "\n",
    "        train = data\n",
    "        val = test\n",
    "        test_labels = np.load(data_path + f\"/{data_set}_test_label.npy\")[index:index + length].astype(int)\n",
    "    else:\n",
    "        # self.scaler = StandardScaler()\n",
    "        data = np.load(data_path + f\"/{data_set}_train.npy\")[index:index + length]\n",
    "        # self.scaler.fit(data)\n",
    "        # data = self.scaler.transform(data)\n",
    "        test_data = np.load(data_path + f\"/{data_set}_test.npy\")[index:index + length]\n",
    "        # self.test = self.scaler.transform(test_data)\n",
    "        test = test_data\n",
    "\n",
    "        train = data\n",
    "        val = test\n",
    "        test_labels = np.load(data_path + f\"/{data_set}_test_label.npy\")[index:index + length].astype(int)\n",
    "    print(\"test:\", test.shape)\n",
    "    print(\"train:\", train.shape)\n",
    "    return train,test,test_labels\n"
   ]
  },
  {
   "cell_type": "code",
   "execution_count": 34,
   "id": "fdf02ce7",
   "metadata": {},
   "outputs": [],
   "source": [
    "def use_knn(X_train,X_test,labels):\n",
    "    from pyod.models.knn import KNN   # kNN detector\n",
    "    # train kNN detector\n",
    "    clf_name = 'KNN'\n",
    "    clf = KNN()\n",
    "    clf.fit(X_train)\n",
    "\n",
    "    # get the prediction on the test data\n",
    "    # y_test_pred = clf.predict(X_test)  # outlier labels (0 or 1)\n",
    "    y_test_scores = clf.decision_function(X_test)  # outlier scores\n",
    "\n",
    "    bf_eval = bf_search(y_test_scores, labels, start=0.001, end=1, step_num=150, verbose=False)\n",
    "    return bf_eval\n",
    "    \n",
    "def use_iforest(X_train,X_test,labels):\n",
    "    from pyod.models.iforest import IForest   # kNN detector\n",
    "    # train kNN detector\n",
    "    clf_name = 'IForest'\n",
    "    clf = IForest()\n",
    "    clf.fit(X_train)\n",
    "\n",
    "    # get the prediction on the test data\n",
    "    # y_test_pred = clf.predict(X_test)  # outlier labels (0 or 1)\n",
    "    y_test_scores = clf.decision_function(X_test)  # outlier scores\n",
    "\n",
    "    bf_eval = bf_search(y_test_scores, labels, start=0.001, end=1, step_num=150, verbose=False)\n",
    "    return bf_eval\n",
    "\n",
    "def use_lof(X_train,X_test,labels):\n",
    "    from pyod.models.lof import LOF   #  detector LOF\n",
    "    # train LOF detector\n",
    "    clf_name = 'LOF'\n",
    "    clf = LOF()\n",
    "    clf.fit(X_train)\n",
    "\n",
    "    # get the prediction on the test data\n",
    "    # y_test_pred = clf.predict(X_test)  # outlier labels (0 or 1)\n",
    "    y_test_scores = clf.decision_function(X_test)  # outlier scores\n",
    "\n",
    "    bf_eval = bf_search(y_test_scores, labels, start=0.001, end=1, step_num=150, verbose=False)\n",
    "    return bf_eval\n",
    "\n"
   ]
  },
  {
   "cell_type": "code",
   "execution_count": 36,
   "id": "e7bf097f",
   "metadata": {},
   "outputs": [
    {
     "name": "stdout",
     "output_type": "stream",
     "text": [
      "test: (50000, 38)\n",
      "train: (50000, 38)\n"
     ]
    },
    {
     "name": "stderr",
     "output_type": "stream",
     "text": [
      "/home/yons/anaconda3/envs/qisibo_pyod/lib/python3.7/site-packages/sklearn/neighbors/base.py:442: DeprecationWarning: distutils Version classes are deprecated. Use packaging.version instead.\n",
      "  old_joblib = LooseVersion(joblib_version) < LooseVersion('0.12')\n",
      "/home/yons/anaconda3/envs/qisibo_pyod/lib/python3.7/site-packages/sklearn/neighbors/base.py:442: DeprecationWarning: distutils Version classes are deprecated. Use packaging.version instead.\n",
      "  old_joblib = LooseVersion(joblib_version) < LooseVersion('0.12')\n"
     ]
    },
    {
     "name": "stdout",
     "output_type": "stream",
     "text": [
      "Finding best f1-score by searching for threshold..\n"
     ]
    },
    {
     "name": "stderr",
     "output_type": "stream",
     "text": [
      "/home/yons/anaconda3/envs/qisibo_pyod/lib/python3.7/site-packages/sklearn/ensemble/iforest.py:223: FutureWarning: behaviour=\"old\" is deprecated and will be removed in version 0.22. Please use behaviour=\"new\", which makes the decision_function change to match other anomaly detection algorithm API.\n",
      "  FutureWarning)\n"
     ]
    },
    {
     "name": "stdout",
     "output_type": "stream",
     "text": [
      "Finding best f1-score by searching for threshold..\n"
     ]
    },
    {
     "name": "stderr",
     "output_type": "stream",
     "text": [
      "/home/yons/anaconda3/envs/qisibo_pyod/lib/python3.7/site-packages/sklearn/neighbors/base.py:442: DeprecationWarning: distutils Version classes are deprecated. Use packaging.version instead.\n",
      "  old_joblib = LooseVersion(joblib_version) < LooseVersion('0.12')\n",
      "/home/yons/anaconda3/envs/qisibo_pyod/lib/python3.7/site-packages/sklearn/neighbors/base.py:442: DeprecationWarning: distutils Version classes are deprecated. Use packaging.version instead.\n",
      "  old_joblib = LooseVersion(joblib_version) < LooseVersion('0.12')\n",
      "/home/yons/anaconda3/envs/qisibo_pyod/lib/python3.7/site-packages/sklearn/neighbors/base.py:442: DeprecationWarning: distutils Version classes are deprecated. Use packaging.version instead.\n",
      "  old_joblib = LooseVersion(joblib_version) < LooseVersion('0.12')\n",
      "/home/yons/anaconda3/envs/qisibo_pyod/lib/python3.7/site-packages/sklearn/neighbors/base.py:442: DeprecationWarning: distutils Version classes are deprecated. Use packaging.version instead.\n",
      "  old_joblib = LooseVersion(joblib_version) < LooseVersion('0.12')\n"
     ]
    },
    {
     "name": "stdout",
     "output_type": "stream",
     "text": [
      "Finding best f1-score by searching for threshold..\n",
      "test: (20000, 55)\n"
     ]
    },
    {
     "ename": "UnboundLocalError",
     "evalue": "local variable 'train' referenced before assignment",
     "output_type": "error",
     "traceback": [
      "\u001b[0;31m---------------------------------------------------------------------------\u001b[0m",
      "\u001b[0;31mUnboundLocalError\u001b[0m                         Traceback (most recent call last)",
      "\u001b[0;32m/tmp/ipykernel_18957/2157806354.py\u001b[0m in \u001b[0;36m<module>\u001b[0;34m\u001b[0m\n\u001b[1;32m      4\u001b[0m \u001b[0mlof_bf_evals\u001b[0m \u001b[0;34m=\u001b[0m \u001b[0;34m[\u001b[0m\u001b[0;34m]\u001b[0m\u001b[0;34m\u001b[0m\u001b[0;34m\u001b[0m\u001b[0m\n\u001b[1;32m      5\u001b[0m \u001b[0;32mfor\u001b[0m \u001b[0mi\u001b[0m \u001b[0;32min\u001b[0m \u001b[0mrange\u001b[0m\u001b[0;34m(\u001b[0m\u001b[0;36m4\u001b[0m\u001b[0;34m)\u001b[0m\u001b[0;34m:\u001b[0m\u001b[0;34m\u001b[0m\u001b[0;34m\u001b[0m\u001b[0m\n\u001b[0;32m----> 6\u001b[0;31m     \u001b[0mX_train\u001b[0m\u001b[0;34m,\u001b[0m\u001b[0mX_test\u001b[0m\u001b[0;34m,\u001b[0m\u001b[0mlabels\u001b[0m \u001b[0;34m=\u001b[0m \u001b[0mget_data\u001b[0m\u001b[0;34m(\u001b[0m\u001b[0mdata_sets\u001b[0m\u001b[0;34m[\u001b[0m\u001b[0mi\u001b[0m\u001b[0;34m]\u001b[0m\u001b[0;34m)\u001b[0m\u001b[0;34m\u001b[0m\u001b[0;34m\u001b[0m\u001b[0m\n\u001b[0m\u001b[1;32m      7\u001b[0m     \u001b[0mknn_bf_evals\u001b[0m\u001b[0;34m.\u001b[0m\u001b[0mappend\u001b[0m\u001b[0;34m(\u001b[0m\u001b[0muse_knn\u001b[0m\u001b[0;34m(\u001b[0m\u001b[0mX_train\u001b[0m\u001b[0;34m,\u001b[0m\u001b[0mX_test\u001b[0m\u001b[0;34m,\u001b[0m\u001b[0mlabels\u001b[0m\u001b[0;34m)\u001b[0m\u001b[0;34m)\u001b[0m\u001b[0;34m\u001b[0m\u001b[0;34m\u001b[0m\u001b[0m\n\u001b[1;32m      8\u001b[0m     \u001b[0mif_bf_evals\u001b[0m\u001b[0;34m.\u001b[0m\u001b[0mappend\u001b[0m\u001b[0;34m(\u001b[0m\u001b[0muse_iforest\u001b[0m\u001b[0;34m(\u001b[0m\u001b[0mX_train\u001b[0m\u001b[0;34m,\u001b[0m\u001b[0mX_test\u001b[0m\u001b[0;34m,\u001b[0m\u001b[0mlabels\u001b[0m\u001b[0;34m)\u001b[0m\u001b[0;34m)\u001b[0m\u001b[0;34m\u001b[0m\u001b[0;34m\u001b[0m\u001b[0m\n",
      "\u001b[0;32m/tmp/ipykernel_18957/2219345064.py\u001b[0m in \u001b[0;36mget_data\u001b[0;34m(data_set)\u001b[0m\n\u001b[1;32m     55\u001b[0m         \u001b[0mtest_labels\u001b[0m \u001b[0;34m=\u001b[0m \u001b[0mnp\u001b[0m\u001b[0;34m.\u001b[0m\u001b[0mload\u001b[0m\u001b[0;34m(\u001b[0m\u001b[0mdata_path\u001b[0m \u001b[0;34m+\u001b[0m \u001b[0;34mf\"/{data_set}_test_label.npy\"\u001b[0m\u001b[0;34m)\u001b[0m\u001b[0;34m[\u001b[0m\u001b[0mindex\u001b[0m\u001b[0;34m:\u001b[0m\u001b[0mindex\u001b[0m \u001b[0;34m+\u001b[0m \u001b[0mlength\u001b[0m\u001b[0;34m]\u001b[0m\u001b[0;34m\u001b[0m\u001b[0;34m\u001b[0m\u001b[0m\n\u001b[1;32m     56\u001b[0m     \u001b[0mprint\u001b[0m\u001b[0;34m(\u001b[0m\u001b[0;34m\"test:\"\u001b[0m\u001b[0;34m,\u001b[0m \u001b[0mtest\u001b[0m\u001b[0;34m.\u001b[0m\u001b[0mshape\u001b[0m\u001b[0;34m)\u001b[0m\u001b[0;34m\u001b[0m\u001b[0;34m\u001b[0m\u001b[0m\n\u001b[0;32m---> 57\u001b[0;31m     \u001b[0mprint\u001b[0m\u001b[0;34m(\u001b[0m\u001b[0;34m\"train:\"\u001b[0m\u001b[0;34m,\u001b[0m \u001b[0mtrain\u001b[0m\u001b[0;34m.\u001b[0m\u001b[0mshape\u001b[0m\u001b[0;34m)\u001b[0m\u001b[0;34m\u001b[0m\u001b[0;34m\u001b[0m\u001b[0m\n\u001b[0m\u001b[1;32m     58\u001b[0m     \u001b[0;32mreturn\u001b[0m \u001b[0mtrain\u001b[0m\u001b[0;34m,\u001b[0m\u001b[0mtest\u001b[0m\u001b[0;34m,\u001b[0m\u001b[0mtest_labels\u001b[0m\u001b[0;34m\u001b[0m\u001b[0;34m\u001b[0m\u001b[0m\n",
      "\u001b[0;31mUnboundLocalError\u001b[0m: local variable 'train' referenced before assignment"
     ]
    }
   ],
   "source": [
    "data_sets = ['SMD', 'MSL', 'PSM', 'SMAP']\n",
    "knn_bf_evals = []\n",
    "if_bf_evals = []\n",
    "lof_bf_evals = []\n",
    "for i in range(4):\n",
    "    X_train,X_test,labels = get_data(data_sets[i])\n",
    "    knn_bf_evals.append(use_knn(X_train,X_test,labels))\n",
    "    if_bf_evals.append(use_iforest(X_train,X_test,labels))\n",
    "    lof_bf_evals.append(use_lof(X_train,X_test,labels))"
   ]
  },
  {
   "cell_type": "code",
   "execution_count": null,
   "id": "58d6231a",
   "metadata": {},
   "outputs": [],
   "source": [
    "[knn_bf_evals[i] for i in range(4)]#10.19 "
   ]
  },
  {
   "cell_type": "code",
   "execution_count": null,
   "id": "cae66b3f",
   "metadata": {},
   "outputs": [],
   "source": [
    "[if_bf_evals[i] for i in range(4)]#10.19"
   ]
  },
  {
   "cell_type": "code",
   "execution_count": null,
   "id": "cae66b3f",
   "metadata": {},
   "outputs": [],
   "source": [
    "[lof_bf_evals[i] for i in range(4)]#10.19"
   ]
  },
  {
   "attachments": {},
   "cell_type": "markdown",
   "metadata": {},
   "source": []
  },
  {
   "cell_type": "code",
   "execution_count": 45,
   "id": "3b551c2f",
   "metadata": {},
   "outputs": [
    {
     "name": "stdout",
     "output_type": "stream",
     "text": [
      "test: (20000, 25)\n",
      "train: (20000, 25)\n"
     ]
    },
    {
     "name": "stderr",
     "output_type": "stream",
     "text": [
      "/home/yons/anaconda3/envs/qisibo_pyod/lib/python3.7/site-packages/sklearn/ensemble/iforest.py:223: FutureWarning: behaviour=\"old\" is deprecated and will be removed in version 0.22. Please use behaviour=\"new\", which makes the decision_function change to match other anomaly detection algorithm API.\n",
      "  FutureWarning)\n"
     ]
    },
    {
     "name": "stdout",
     "output_type": "stream",
     "text": [
      "Finding best f1-score by searching for threshold..\n",
      "test: (20000, 25)\n",
      "train: (20000, 25)\n"
     ]
    },
    {
     "name": "stderr",
     "output_type": "stream",
     "text": [
      "/home/yons/anaconda3/envs/qisibo_pyod/lib/python3.7/site-packages/sklearn/neighbors/base.py:442: DeprecationWarning: distutils Version classes are deprecated. Use packaging.version instead.\n",
      "  old_joblib = LooseVersion(joblib_version) < LooseVersion('0.12')\n",
      "/home/yons/anaconda3/envs/qisibo_pyod/lib/python3.7/site-packages/sklearn/neighbors/base.py:442: DeprecationWarning: distutils Version classes are deprecated. Use packaging.version instead.\n",
      "  old_joblib = LooseVersion(joblib_version) < LooseVersion('0.12')\n"
     ]
    },
    {
     "name": "stdout",
     "output_type": "stream",
     "text": [
      "Finding best f1-score by searching for threshold..\n"
     ]
    }
   ],
   "source": [
    "data_sets = ['PSM']\n",
    "knn_bf_evals = []\n",
    "if_bf_evals = []\n",
    "for d in data_sets:\n",
    "    X_train,X_test,labels = get_data(d)\n",
    "    if_bf_evals.append(use_iforest(X_train,X_test,labels))\n",
    "for d in data_sets:\n",
    "    X_train,X_test,labels = get_data(d)\n",
    "    knn_bf_evals.append(use_knn(X_train,X_test,labels))\n",
    "    "
   ]
  },
  {
   "cell_type": "code",
   "execution_count": 46,
   "id": "17e16843",
   "metadata": {},
   "outputs": [
    {
     "data": {
      "text/plain": [
       "{'f1': 0.32319997317145427,\n",
       " 'precision': 0.19274999999999518,\n",
       " 'recall': 0.9999999999998703,\n",
       " 'TP': 77100000.0,\n",
       " 'TN': 0.0,\n",
       " 'FP': 322900000.0,\n",
       " 'FN': 0.0,\n",
       " 'threshold': 0.00766,\n",
       " 'latency': 0.0}"
      ]
     },
     "execution_count": 46,
     "metadata": {},
     "output_type": "execute_result"
    }
   ],
   "source": [
    "knn_bf_evals[0]"
   ]
  },
  {
   "cell_type": "code",
   "execution_count": null,
   "id": "ce439f5e",
   "metadata": {},
   "outputs": [],
   "source": []
  },
  {
   "cell_type": "code",
   "execution_count": 48,
   "id": "17e16843",
   "metadata": {},
   "outputs": [
    {
     "data": {
      "text/plain": [
       "{'f1': 0.25844569640595544,\n",
       " 'precision': 0.19274999999998768,\n",
       " 'recall': 0.39209999999994916,\n",
       " 'TP': 30230910.0,\n",
       " 'TN': 196290910.0,\n",
       " 'FP': 126609090.0,\n",
       " 'FN': 46869090.0,\n",
       " 'threshold': 0.00766,\n",
       " 'latency': 5.066632889114072}"
      ]
     },
     "execution_count": 48,
     "metadata": {},
     "output_type": "execute_result"
    }
   ],
   "source": [
    "if_bf_evals[0]"
   ]
  },
  {
   "cell_type": "code",
   "execution_count": null,
   "id": "17e16843",
   "metadata": {},
   "outputs": [
    {
     "data": {
      "text/plain": [
       "[{'f1': 0.9055141652466985,\n",
       "  'precision': 0.9361701946582168,\n",
       "  'recall': 0.8768115783186309,\n",
       "  'TP': 484.0,\n",
       "  'TN': 49415.0,\n",
       "  'FP': 33.0,\n",
       "  'FN': 68.0,\n",
       "  'threshold': 0.6470199999999999,\n",
       "  'latency': 1.7999880000799995},\n",
       " {'f1': 0.2581374886553627,\n",
       "  'precision': 0.14899636245588527,\n",
       "  'recall': 0.9650959776169635,\n",
       "  'TP': 1106.0,\n",
       "  'TN': 42537.0,\n",
       "  'FP': 6317.0,\n",
       "  'FN': 40.0,\n",
       "  'threshold': 0.8001999999999999,\n",
       "  'latency': 5.666635185360081},\n",
       " {'f1': 0.9650786133926046,\n",
       "  'precision': 0.9928433773937699,\n",
       "  'recall': 0.938833938212301,\n",
       "  'TP': 3607.0,\n",
       "  'TN': 46132.0,\n",
       "  'FP': 26.0,\n",
       "  'FN': 235.0,\n",
       "  'threshold': 0.9933399999999999,\n",
       "  'latency': 156.29319827530426},\n",
       " {'f1': 0.8169562798290976,\n",
       "  'precision': 0.9890485934666372,\n",
       "  'recall': 0.6958824929066157,\n",
       "  'TP': 2890.0,\n",
       "  'TN': 45815.0,\n",
       "  'FP': 32.0,\n",
       "  'FN': 1263.0,\n",
       "  'threshold': 0.6403599999999999,\n",
       "  'latency': 17.166571296826127},\n",
       " {'f1': 0.9916642318071238,\n",
       "  'precision': 0.9932014771742801,\n",
       "  'recall': 0.9901417067766993,\n",
       "  'TP': 1607.0,\n",
       "  'TN': 48366.0,\n",
       "  'FP': 11.0,\n",
       "  'FN': 16.0,\n",
       "  'threshold': 0.8268399999999999,\n",
       "  'latency': 36.24969791918401},\n",
       " {'f1': 0.9859946829331551,\n",
       "  'precision': 0.9971364906231737,\n",
       "  'recall': 0.9751088955348198,\n",
       "  'TP': 3134.0,\n",
       "  'TN': 46777.0,\n",
       "  'FP': 9.0,\n",
       "  'FN': 80.0,\n",
       "  'threshold': 0.8667999999999999,\n",
       "  'latency': 9.07136377597303},\n",
       " {'f1': 0.45650068622984974,\n",
       "  'precision': 0.9315960760326373,\n",
       "  'recall': 0.3023255797974335,\n",
       "  'TP': 572.0,\n",
       "  'TN': 48066.0,\n",
       "  'FP': 42.0,\n",
       "  'FN': 1320.0,\n",
       "  'threshold': 0.9999999999999999,\n",
       "  'latency': 27.332422252591577}]"
      ]
     },
     "metadata": {},
     "output_type": "display_data"
    }
   ],
   "source": [
    "[knn_bf_evals[i] for i in range(6)]"
   ]
  },
  {
   "cell_type": "code",
   "execution_count": null,
   "id": "17e16843",
   "metadata": {},
   "outputs": [
    {
     "data": {
      "text/plain": [
       "[{'f1': 0.8025841617644053,\n",
       "  'precision': 0.9919999735466675,\n",
       "  'recall': 0.6739130312696915,\n",
       "  'TP': 372.0,\n",
       "  'TN': 49445.0,\n",
       "  'FP': 3.0,\n",
       "  'FN': 180.0,\n",
       "  'threshold': 0.18081999999999998,\n",
       "  'latency': 68.49828754281144},\n",
       " {'f1': 0.6128894655881907,\n",
       "  'precision': 0.45827928898279596,\n",
       "  'recall': 0.9249563619113755,\n",
       "  'TP': 1060.0,\n",
       "  'TN': 47601.0,\n",
       "  'FP': 1253.0,\n",
       "  'FN': 86.0,\n",
       "  'threshold': 0.08757999999999999,\n",
       "  'latency': 79.99885715918344},\n",
       " {'f1': 0.8250276210198544,\n",
       "  'precision': 0.706340376888505,\n",
       "  'recall': 0.9916710021039276,\n",
       "  'TP': 3810.0,\n",
       "  'TN': 44574.0,\n",
       "  'FP': 1584.0,\n",
       "  'FN': 32.0,\n",
       "  'threshold': 0.0676,\n",
       "  'latency': 20.615226036722795},\n",
       " {'f1': 0.8998584631802381,\n",
       "  'precision': 0.8530744318164522,\n",
       "  'recall': 0.9520828293954182,\n",
       "  'TP': 3954.0,\n",
       "  'TN': 45166.0,\n",
       "  'FP': 681.0,\n",
       "  'FN': 199.0,\n",
       "  'threshold': 0.08757999999999999,\n",
       "  'latency': 62.18711133055419},\n",
       " {'f1': 0.90528657841342,\n",
       "  'precision': 0.9992559449460123,\n",
       "  'recall': 0.8274799702558228,\n",
       "  'TP': 1343.0,\n",
       "  'TN': 48376.0,\n",
       "  'FP': 1.0,\n",
       "  'FN': 280.0,\n",
       "  'threshold': 0.21411999999999998,\n",
       "  'latency': 51.165813903101615},\n",
       " {'f1': 0.912393714522532,\n",
       "  'precision': 0.8969041151280308,\n",
       "  'recall': 0.9284380804964589,\n",
       "  'TP': 2984.0,\n",
       "  'TN': 46443.0,\n",
       "  'FP': 343.0,\n",
       "  'FN': 230.0,\n",
       "  'threshold': 0.17415999999999998,\n",
       "  'latency': 276.2465469181635},\n",
       " {'f1': 0.34975725058764673,\n",
       "  'precision': 0.9999999750623448,\n",
       "  'recall': 0.21194503059225672,\n",
       "  'TP': 401.0,\n",
       "  'TN': 48108.0,\n",
       "  'FP': 0.0,\n",
       "  'FN': 1491.0,\n",
       "  'threshold': 0.16749999999999998,\n",
       "  'latency': 62.99370062993701}]"
      ]
     },
     "metadata": {},
     "output_type": "display_data"
    }
   ],
   "source": [
    "[if_bf_evals[i] for i in range(6)]"
   ]
  },
  {
   "cell_type": "code",
   "execution_count": 131,
   "id": "3b551c2f",
   "metadata": {},
   "outputs": [
    {
     "name": "stdout",
     "output_type": "stream",
     "text": [
      "test: (50000, 38)\n",
      "train: (50000, 38)\n"
     ]
    },
    {
     "name": "stderr",
     "output_type": "stream",
     "text": [
      "/home/yons/anaconda3/envs/qisibo_pyod/lib/python3.7/site-packages/sklearn/neighbors/base.py:442: DeprecationWarning: distutils Version classes are deprecated. Use packaging.version instead.\n",
      "  old_joblib = LooseVersion(joblib_version) < LooseVersion('0.12')\n",
      "/home/yons/anaconda3/envs/qisibo_pyod/lib/python3.7/site-packages/sklearn/neighbors/base.py:442: DeprecationWarning: distutils Version classes are deprecated. Use packaging.version instead.\n",
      "  old_joblib = LooseVersion(joblib_version) < LooseVersion('0.12')\n"
     ]
    },
    {
     "name": "stdout",
     "output_type": "stream",
     "text": [
      "Finding best f1-score by searching for threshold..\n",
      "test: (50000, 38)\n",
      "train: (50000, 38)\n"
     ]
    },
    {
     "name": "stderr",
     "output_type": "stream",
     "text": [
      "/home/yons/anaconda3/envs/qisibo_pyod/lib/python3.7/site-packages/sklearn/ensemble/iforest.py:223: FutureWarning: behaviour=\"old\" is deprecated and will be removed in version 0.22. Please use behaviour=\"new\", which makes the decision_function change to match other anomaly detection algorithm API.\n",
      "  FutureWarning)\n"
     ]
    },
    {
     "name": "stdout",
     "output_type": "stream",
     "text": [
      "Finding best f1-score by searching for threshold..\n",
      "test: (50000, 38)\n",
      "train: (50000, 38)\n"
     ]
    },
    {
     "name": "stderr",
     "output_type": "stream",
     "text": [
      "/home/yons/anaconda3/envs/qisibo_pyod/lib/python3.7/site-packages/sklearn/neighbors/base.py:442: DeprecationWarning: distutils Version classes are deprecated. Use packaging.version instead.\n",
      "  old_joblib = LooseVersion(joblib_version) < LooseVersion('0.12')\n",
      "/home/yons/anaconda3/envs/qisibo_pyod/lib/python3.7/site-packages/sklearn/neighbors/base.py:442: DeprecationWarning: distutils Version classes are deprecated. Use packaging.version instead.\n",
      "  old_joblib = LooseVersion(joblib_version) < LooseVersion('0.12')\n"
     ]
    },
    {
     "name": "stdout",
     "output_type": "stream",
     "text": [
      "Finding best f1-score by searching for threshold..\n",
      "test: (50000, 38)\n",
      "train: (50000, 38)\n"
     ]
    },
    {
     "name": "stderr",
     "output_type": "stream",
     "text": [
      "/home/yons/anaconda3/envs/qisibo_pyod/lib/python3.7/site-packages/sklearn/ensemble/iforest.py:223: FutureWarning: behaviour=\"old\" is deprecated and will be removed in version 0.22. Please use behaviour=\"new\", which makes the decision_function change to match other anomaly detection algorithm API.\n",
      "  FutureWarning)\n"
     ]
    },
    {
     "name": "stdout",
     "output_type": "stream",
     "text": [
      "Finding best f1-score by searching for threshold..\n",
      "test: (50000, 38)\n",
      "train: (50000, 38)\n"
     ]
    },
    {
     "name": "stderr",
     "output_type": "stream",
     "text": [
      "/home/yons/anaconda3/envs/qisibo_pyod/lib/python3.7/site-packages/sklearn/neighbors/base.py:442: DeprecationWarning: distutils Version classes are deprecated. Use packaging.version instead.\n",
      "  old_joblib = LooseVersion(joblib_version) < LooseVersion('0.12')\n",
      "/home/yons/anaconda3/envs/qisibo_pyod/lib/python3.7/site-packages/sklearn/neighbors/base.py:442: DeprecationWarning: distutils Version classes are deprecated. Use packaging.version instead.\n",
      "  old_joblib = LooseVersion(joblib_version) < LooseVersion('0.12')\n"
     ]
    },
    {
     "name": "stdout",
     "output_type": "stream",
     "text": [
      "Finding best f1-score by searching for threshold..\n",
      "test: (50000, 38)\n",
      "train: (50000, 38)\n"
     ]
    },
    {
     "name": "stderr",
     "output_type": "stream",
     "text": [
      "/home/yons/anaconda3/envs/qisibo_pyod/lib/python3.7/site-packages/sklearn/ensemble/iforest.py:223: FutureWarning: behaviour=\"old\" is deprecated and will be removed in version 0.22. Please use behaviour=\"new\", which makes the decision_function change to match other anomaly detection algorithm API.\n",
      "  FutureWarning)\n"
     ]
    },
    {
     "name": "stdout",
     "output_type": "stream",
     "text": [
      "Finding best f1-score by searching for threshold..\n",
      "test: (50000, 38)\n",
      "train: (50000, 38)\n"
     ]
    },
    {
     "name": "stderr",
     "output_type": "stream",
     "text": [
      "/home/yons/anaconda3/envs/qisibo_pyod/lib/python3.7/site-packages/sklearn/neighbors/base.py:442: DeprecationWarning: distutils Version classes are deprecated. Use packaging.version instead.\n",
      "  old_joblib = LooseVersion(joblib_version) < LooseVersion('0.12')\n",
      "/home/yons/anaconda3/envs/qisibo_pyod/lib/python3.7/site-packages/sklearn/neighbors/base.py:442: DeprecationWarning: distutils Version classes are deprecated. Use packaging.version instead.\n",
      "  old_joblib = LooseVersion(joblib_version) < LooseVersion('0.12')\n"
     ]
    },
    {
     "name": "stdout",
     "output_type": "stream",
     "text": [
      "Finding best f1-score by searching for threshold..\n",
      "test: (50000, 38)\n",
      "train: (50000, 38)\n"
     ]
    },
    {
     "name": "stderr",
     "output_type": "stream",
     "text": [
      "/home/yons/anaconda3/envs/qisibo_pyod/lib/python3.7/site-packages/sklearn/ensemble/iforest.py:223: FutureWarning: behaviour=\"old\" is deprecated and will be removed in version 0.22. Please use behaviour=\"new\", which makes the decision_function change to match other anomaly detection algorithm API.\n",
      "  FutureWarning)\n"
     ]
    },
    {
     "name": "stdout",
     "output_type": "stream",
     "text": [
      "Finding best f1-score by searching for threshold..\n",
      "test: (50000, 38)\n",
      "train: (50000, 38)\n"
     ]
    },
    {
     "name": "stderr",
     "output_type": "stream",
     "text": [
      "/home/yons/anaconda3/envs/qisibo_pyod/lib/python3.7/site-packages/sklearn/neighbors/base.py:442: DeprecationWarning: distutils Version classes are deprecated. Use packaging.version instead.\n",
      "  old_joblib = LooseVersion(joblib_version) < LooseVersion('0.12')\n",
      "/home/yons/anaconda3/envs/qisibo_pyod/lib/python3.7/site-packages/sklearn/neighbors/base.py:442: DeprecationWarning: distutils Version classes are deprecated. Use packaging.version instead.\n",
      "  old_joblib = LooseVersion(joblib_version) < LooseVersion('0.12')\n"
     ]
    },
    {
     "name": "stdout",
     "output_type": "stream",
     "text": [
      "Finding best f1-score by searching for threshold..\n",
      "test: (50000, 38)\n",
      "train: (50000, 38)\n"
     ]
    },
    {
     "name": "stderr",
     "output_type": "stream",
     "text": [
      "/home/yons/anaconda3/envs/qisibo_pyod/lib/python3.7/site-packages/sklearn/ensemble/iforest.py:223: FutureWarning: behaviour=\"old\" is deprecated and will be removed in version 0.22. Please use behaviour=\"new\", which makes the decision_function change to match other anomaly detection algorithm API.\n",
      "  FutureWarning)\n"
     ]
    },
    {
     "name": "stdout",
     "output_type": "stream",
     "text": [
      "Finding best f1-score by searching for threshold..\n",
      "test: (50000, 38)\n",
      "train: (50000, 38)\n"
     ]
    },
    {
     "name": "stderr",
     "output_type": "stream",
     "text": [
      "/home/yons/anaconda3/envs/qisibo_pyod/lib/python3.7/site-packages/sklearn/neighbors/base.py:442: DeprecationWarning: distutils Version classes are deprecated. Use packaging.version instead.\n",
      "  old_joblib = LooseVersion(joblib_version) < LooseVersion('0.12')\n",
      "/home/yons/anaconda3/envs/qisibo_pyod/lib/python3.7/site-packages/sklearn/neighbors/base.py:442: DeprecationWarning: distutils Version classes are deprecated. Use packaging.version instead.\n",
      "  old_joblib = LooseVersion(joblib_version) < LooseVersion('0.12')\n"
     ]
    },
    {
     "name": "stdout",
     "output_type": "stream",
     "text": [
      "Finding best f1-score by searching for threshold..\n",
      "test: (50000, 38)\n",
      "train: (50000, 38)\n"
     ]
    },
    {
     "name": "stderr",
     "output_type": "stream",
     "text": [
      "/home/yons/anaconda3/envs/qisibo_pyod/lib/python3.7/site-packages/sklearn/ensemble/iforest.py:223: FutureWarning: behaviour=\"old\" is deprecated and will be removed in version 0.22. Please use behaviour=\"new\", which makes the decision_function change to match other anomaly detection algorithm API.\n",
      "  FutureWarning)\n"
     ]
    },
    {
     "name": "stdout",
     "output_type": "stream",
     "text": [
      "Finding best f1-score by searching for threshold..\n",
      "test: (50000, 38)\n",
      "train: (50000, 38)\n"
     ]
    },
    {
     "name": "stderr",
     "output_type": "stream",
     "text": [
      "/home/yons/anaconda3/envs/qisibo_pyod/lib/python3.7/site-packages/sklearn/neighbors/base.py:442: DeprecationWarning: distutils Version classes are deprecated. Use packaging.version instead.\n",
      "  old_joblib = LooseVersion(joblib_version) < LooseVersion('0.12')\n",
      "/home/yons/anaconda3/envs/qisibo_pyod/lib/python3.7/site-packages/sklearn/neighbors/base.py:442: DeprecationWarning: distutils Version classes are deprecated. Use packaging.version instead.\n",
      "  old_joblib = LooseVersion(joblib_version) < LooseVersion('0.12')\n"
     ]
    },
    {
     "name": "stdout",
     "output_type": "stream",
     "text": [
      "Finding best f1-score by searching for threshold..\n",
      "test: (50000, 38)\n",
      "train: (50000, 38)\n"
     ]
    },
    {
     "name": "stderr",
     "output_type": "stream",
     "text": [
      "/home/yons/anaconda3/envs/qisibo_pyod/lib/python3.7/site-packages/sklearn/ensemble/iforest.py:223: FutureWarning: behaviour=\"old\" is deprecated and will be removed in version 0.22. Please use behaviour=\"new\", which makes the decision_function change to match other anomaly detection algorithm API.\n",
      "  FutureWarning)\n"
     ]
    },
    {
     "name": "stdout",
     "output_type": "stream",
     "text": [
      "Finding best f1-score by searching for threshold..\n"
     ]
    }
   ],
   "source": [
    "data_sets = ['SMD']\n",
    "knn_bf_evals = []\n",
    "if_bf_evals = []\n",
    "for i in range(7):\n",
    "    for d in data_sets:\n",
    "        X_train,X_test,labels = get_data(d,i)\n",
    "        knn_bf_evals.append(use_knn(X_train,X_test,labels))\n",
    "    for d in data_sets:\n",
    "        X_train,X_test,labels = get_data(d,i)\n",
    "        if_bf_evals.append(use_iforest(X_train,X_test,labels))"
   ]
  },
  {
   "cell_type": "code",
   "execution_count": 132,
   "id": "17e16843",
   "metadata": {},
   "outputs": [
    {
     "data": {
      "text/plain": [
       "[{'f1': 0.9055141652466985,\n",
       "  'precision': 0.9361701946582168,\n",
       "  'recall': 0.8768115783186309,\n",
       "  'TP': 484.0,\n",
       "  'TN': 49415.0,\n",
       "  'FP': 33.0,\n",
       "  'FN': 68.0,\n",
       "  'threshold': 0.6470199999999999,\n",
       "  'latency': 1.7999880000799995},\n",
       " {'f1': 0.2581374886553627,\n",
       "  'precision': 0.14899636245588527,\n",
       "  'recall': 0.9650959776169635,\n",
       "  'TP': 1106.0,\n",
       "  'TN': 42537.0,\n",
       "  'FP': 6317.0,\n",
       "  'FN': 40.0,\n",
       "  'threshold': 0.8001999999999999,\n",
       "  'latency': 5.666635185360081},\n",
       " {'f1': 0.9650786133926046,\n",
       "  'precision': 0.9928433773937699,\n",
       "  'recall': 0.938833938212301,\n",
       "  'TP': 3607.0,\n",
       "  'TN': 46132.0,\n",
       "  'FP': 26.0,\n",
       "  'FN': 235.0,\n",
       "  'threshold': 0.9933399999999999,\n",
       "  'latency': 156.29319827530426},\n",
       " {'f1': 0.8169562798290976,\n",
       "  'precision': 0.9890485934666372,\n",
       "  'recall': 0.6958824929066157,\n",
       "  'TP': 2890.0,\n",
       "  'TN': 45815.0,\n",
       "  'FP': 32.0,\n",
       "  'FN': 1263.0,\n",
       "  'threshold': 0.6403599999999999,\n",
       "  'latency': 17.166571296826127},\n",
       " {'f1': 0.9916642318071238,\n",
       "  'precision': 0.9932014771742801,\n",
       "  'recall': 0.9901417067766993,\n",
       "  'TP': 1607.0,\n",
       "  'TN': 48366.0,\n",
       "  'FP': 11.0,\n",
       "  'FN': 16.0,\n",
       "  'threshold': 0.8268399999999999,\n",
       "  'latency': 36.24969791918401},\n",
       " {'f1': 0.9859946829331551,\n",
       "  'precision': 0.9971364906231737,\n",
       "  'recall': 0.9751088955348198,\n",
       "  'TP': 3134.0,\n",
       "  'TN': 46777.0,\n",
       "  'FP': 9.0,\n",
       "  'FN': 80.0,\n",
       "  'threshold': 0.8667999999999999,\n",
       "  'latency': 9.07136377597303},\n",
       " {'f1': 0.45650068622984974,\n",
       "  'precision': 0.9315960760326373,\n",
       "  'recall': 0.3023255797974335,\n",
       "  'TP': 572.0,\n",
       "  'TN': 48066.0,\n",
       "  'FP': 42.0,\n",
       "  'FN': 1320.0,\n",
       "  'threshold': 0.9999999999999999,\n",
       "  'latency': 27.332422252591577}]"
      ]
     },
     "execution_count": 132,
     "metadata": {},
     "output_type": "execute_result"
    }
   ],
   "source": [
    "[knn_bf_evals[i] for i in range(7)]"
   ]
  },
  {
   "cell_type": "code",
   "execution_count": 133,
   "id": "17e16843",
   "metadata": {},
   "outputs": [
    {
     "data": {
      "text/plain": [
       "[{'f1': 0.8025841617644053,\n",
       "  'precision': 0.9919999735466675,\n",
       "  'recall': 0.6739130312696915,\n",
       "  'TP': 372.0,\n",
       "  'TN': 49445.0,\n",
       "  'FP': 3.0,\n",
       "  'FN': 180.0,\n",
       "  'threshold': 0.18081999999999998,\n",
       "  'latency': 68.49828754281144},\n",
       " {'f1': 0.6128894655881907,\n",
       "  'precision': 0.45827928898279596,\n",
       "  'recall': 0.9249563619113755,\n",
       "  'TP': 1060.0,\n",
       "  'TN': 47601.0,\n",
       "  'FP': 1253.0,\n",
       "  'FN': 86.0,\n",
       "  'threshold': 0.08757999999999999,\n",
       "  'latency': 79.99885715918344},\n",
       " {'f1': 0.8250276210198544,\n",
       "  'precision': 0.706340376888505,\n",
       "  'recall': 0.9916710021039276,\n",
       "  'TP': 3810.0,\n",
       "  'TN': 44574.0,\n",
       "  'FP': 1584.0,\n",
       "  'FN': 32.0,\n",
       "  'threshold': 0.0676,\n",
       "  'latency': 20.615226036722795},\n",
       " {'f1': 0.8998584631802381,\n",
       "  'precision': 0.8530744318164522,\n",
       "  'recall': 0.9520828293954182,\n",
       "  'TP': 3954.0,\n",
       "  'TN': 45166.0,\n",
       "  'FP': 681.0,\n",
       "  'FN': 199.0,\n",
       "  'threshold': 0.08757999999999999,\n",
       "  'latency': 62.18711133055419},\n",
       " {'f1': 0.90528657841342,\n",
       "  'precision': 0.9992559449460123,\n",
       "  'recall': 0.8274799702558228,\n",
       "  'TP': 1343.0,\n",
       "  'TN': 48376.0,\n",
       "  'FP': 1.0,\n",
       "  'FN': 280.0,\n",
       "  'threshold': 0.21411999999999998,\n",
       "  'latency': 51.165813903101615},\n",
       " {'f1': 0.912393714522532,\n",
       "  'precision': 0.8969041151280308,\n",
       "  'recall': 0.9284380804964589,\n",
       "  'TP': 2984.0,\n",
       "  'TN': 46443.0,\n",
       "  'FP': 343.0,\n",
       "  'FN': 230.0,\n",
       "  'threshold': 0.17415999999999998,\n",
       "  'latency': 276.2465469181635},\n",
       " {'f1': 0.34975725058764673,\n",
       "  'precision': 0.9999999750623448,\n",
       "  'recall': 0.21194503059225672,\n",
       "  'TP': 401.0,\n",
       "  'TN': 48108.0,\n",
       "  'FP': 0.0,\n",
       "  'FN': 1491.0,\n",
       "  'threshold': 0.16749999999999998,\n",
       "  'latency': 62.99370062993701}]"
      ]
     },
     "execution_count": 133,
     "metadata": {},
     "output_type": "execute_result"
    }
   ],
   "source": [
    "[if_bf_evals[i] for i in range(7)]"
   ]
  },
  {
   "cell_type": "code",
   "execution_count": 85,
   "id": "3b551c2f",
   "metadata": {},
   "outputs": [
    {
     "name": "stdout",
     "output_type": "stream",
     "text": [
      "test: (50000, 38)\n",
      "train: (50000, 38)\n"
     ]
    },
    {
     "name": "stderr",
     "output_type": "stream",
     "text": [
      "/home/yons/anaconda3/envs/qisibo_pyod/lib/python3.7/site-packages/sklearn/neighbors/base.py:442: DeprecationWarning: distutils Version classes are deprecated. Use packaging.version instead.\n",
      "  old_joblib = LooseVersion(joblib_version) < LooseVersion('0.12')\n",
      "/home/yons/anaconda3/envs/qisibo_pyod/lib/python3.7/site-packages/sklearn/neighbors/base.py:442: DeprecationWarning: distutils Version classes are deprecated. Use packaging.version instead.\n",
      "  old_joblib = LooseVersion(joblib_version) < LooseVersion('0.12')\n"
     ]
    },
    {
     "name": "stdout",
     "output_type": "stream",
     "text": [
      "Finding best f1-score by searching for threshold..\n",
      "test: (20000, 55)\n",
      "train: (20000, 55)\n"
     ]
    },
    {
     "name": "stderr",
     "output_type": "stream",
     "text": [
      "/home/yons/anaconda3/envs/qisibo_pyod/lib/python3.7/site-packages/sklearn/neighbors/base.py:442: DeprecationWarning: distutils Version classes are deprecated. Use packaging.version instead.\n",
      "  old_joblib = LooseVersion(joblib_version) < LooseVersion('0.12')\n",
      "/home/yons/anaconda3/envs/qisibo_pyod/lib/python3.7/site-packages/sklearn/neighbors/base.py:442: DeprecationWarning: distutils Version classes are deprecated. Use packaging.version instead.\n",
      "  old_joblib = LooseVersion(joblib_version) < LooseVersion('0.12')\n"
     ]
    },
    {
     "name": "stdout",
     "output_type": "stream",
     "text": [
      "Finding best f1-score by searching for threshold..\n",
      "test: (20000, 25)\n",
      "train: (20000, 25)\n"
     ]
    },
    {
     "name": "stderr",
     "output_type": "stream",
     "text": [
      "/home/yons/anaconda3/envs/qisibo_pyod/lib/python3.7/site-packages/sklearn/neighbors/base.py:442: DeprecationWarning: distutils Version classes are deprecated. Use packaging.version instead.\n",
      "  old_joblib = LooseVersion(joblib_version) < LooseVersion('0.12')\n",
      "/home/yons/anaconda3/envs/qisibo_pyod/lib/python3.7/site-packages/sklearn/neighbors/base.py:442: DeprecationWarning: distutils Version classes are deprecated. Use packaging.version instead.\n",
      "  old_joblib = LooseVersion(joblib_version) < LooseVersion('0.12')\n"
     ]
    },
    {
     "name": "stdout",
     "output_type": "stream",
     "text": [
      "Finding best f1-score by searching for threshold..\n",
      "test: (20000, 25)\n",
      "train: (20000, 25)\n"
     ]
    },
    {
     "name": "stderr",
     "output_type": "stream",
     "text": [
      "/home/yons/anaconda3/envs/qisibo_pyod/lib/python3.7/site-packages/sklearn/neighbors/base.py:442: DeprecationWarning: distutils Version classes are deprecated. Use packaging.version instead.\n",
      "  old_joblib = LooseVersion(joblib_version) < LooseVersion('0.12')\n",
      "/home/yons/anaconda3/envs/qisibo_pyod/lib/python3.7/site-packages/sklearn/neighbors/base.py:442: DeprecationWarning: distutils Version classes are deprecated. Use packaging.version instead.\n",
      "  old_joblib = LooseVersion(joblib_version) < LooseVersion('0.12')\n"
     ]
    },
    {
     "name": "stdout",
     "output_type": "stream",
     "text": [
      "Finding best f1-score by searching for threshold..\n",
      "test: (50000, 38)\n",
      "train: (50000, 38)\n"
     ]
    },
    {
     "name": "stderr",
     "output_type": "stream",
     "text": [
      "/home/yons/anaconda3/envs/qisibo_pyod/lib/python3.7/site-packages/sklearn/ensemble/iforest.py:223: FutureWarning: behaviour=\"old\" is deprecated and will be removed in version 0.22. Please use behaviour=\"new\", which makes the decision_function change to match other anomaly detection algorithm API.\n",
      "  FutureWarning)\n"
     ]
    },
    {
     "name": "stdout",
     "output_type": "stream",
     "text": [
      "Finding best f1-score by searching for threshold..\n",
      "test: (20000, 55)\n",
      "train: (20000, 55)\n"
     ]
    },
    {
     "name": "stderr",
     "output_type": "stream",
     "text": [
      "/home/yons/anaconda3/envs/qisibo_pyod/lib/python3.7/site-packages/sklearn/ensemble/iforest.py:223: FutureWarning: behaviour=\"old\" is deprecated and will be removed in version 0.22. Please use behaviour=\"new\", which makes the decision_function change to match other anomaly detection algorithm API.\n",
      "  FutureWarning)\n"
     ]
    },
    {
     "name": "stdout",
     "output_type": "stream",
     "text": [
      "Finding best f1-score by searching for threshold..\n",
      "test: (20000, 25)\n",
      "train: (20000, 25)\n"
     ]
    },
    {
     "name": "stderr",
     "output_type": "stream",
     "text": [
      "/home/yons/anaconda3/envs/qisibo_pyod/lib/python3.7/site-packages/sklearn/ensemble/iforest.py:223: FutureWarning: behaviour=\"old\" is deprecated and will be removed in version 0.22. Please use behaviour=\"new\", which makes the decision_function change to match other anomaly detection algorithm API.\n",
      "  FutureWarning)\n"
     ]
    },
    {
     "name": "stdout",
     "output_type": "stream",
     "text": [
      "Finding best f1-score by searching for threshold..\n",
      "test: (20000, 25)\n",
      "train: (20000, 25)\n"
     ]
    },
    {
     "name": "stderr",
     "output_type": "stream",
     "text": [
      "/home/yons/anaconda3/envs/qisibo_pyod/lib/python3.7/site-packages/sklearn/ensemble/iforest.py:223: FutureWarning: behaviour=\"old\" is deprecated and will be removed in version 0.22. Please use behaviour=\"new\", which makes the decision_function change to match other anomaly detection algorithm API.\n",
      "  FutureWarning)\n"
     ]
    },
    {
     "name": "stdout",
     "output_type": "stream",
     "text": [
      "Finding best f1-score by searching for threshold..\n"
     ]
    }
   ],
   "source": [
    "data_sets = ['SMD','MSL','PSM','SMAP']\n",
    "knn_bf_evals = []\n",
    "if_bf_evals = []\n",
    "for d in data_sets:\n",
    "    X_train,X_test,labels = get_data(d)\n",
    "    knn_bf_evals.append(use_knn(X_train,X_test,labels))\n",
    "for d in data_sets:\n",
    "    X_train,X_test,labels = get_data(d)\n",
    "    if_bf_evals.append(use_iforest(X_train,X_test,labels))"
   ]
  },
  {
   "cell_type": "code",
   "execution_count": 88,
   "id": "4d3b1499",
   "metadata": {},
   "outputs": [
    {
     "data": {
      "text/plain": [
       "[{'f1': 0.8947517365891016,\n",
       "  'precision': 0.9916387876953279,\n",
       "  'recall': 0.8151202693118882,\n",
       "  'TP': 1186.0,\n",
       "  'TN': 48535.0,\n",
       "  'FP': 10.0,\n",
       "  'FN': 269.0,\n",
       "  'threshold': 0.9600399999999999,\n",
       "  'latency': 87.4273224668219},\n",
       " {'f1': 0.8838765787954581,\n",
       "  'precision': 0.9050185217075832,\n",
       "  'recall': 0.8637094154171988,\n",
       "  'TP': 2687,\n",
       "  'TN': 16607,\n",
       "  'FP': 282,\n",
       "  'FN': 424,\n",
       "  'threshold': 0.24741999999999997,\n",
       "  'latency': 111.16481391976801},\n",
       " {'f1': 0.646540931576539,\n",
       "  'precision': 0.477699999999988,\n",
       "  'recall': 0.9999999999999476,\n",
       "  'TP': 191080000.0,\n",
       "  'TN': 0.0,\n",
       "  'FP': 208920000.0,\n",
       "  'FN': 0.0,\n",
       "  'threshold': 0.00766,\n",
       "  'latency': 0.0},\n",
       " {'f1': 0.5546171218692231,\n",
       "  'precision': 0.4479637941483591,\n",
       "  'recall': 0.7279411586288932,\n",
       "  'TP': 297,\n",
       "  'TN': 19226,\n",
       "  'FP': 366,\n",
       "  'FN': 111,\n",
       "  'threshold': 0.5870799999999999,\n",
       "  'latency': 84.99575021248937}]"
      ]
     },
     "execution_count": 88,
     "metadata": {},
     "output_type": "execute_result"
    }
   ],
   "source": [
    "[knn_bf_evals[i] for i in range(4)]"
   ]
  },
  {
   "cell_type": "code",
   "execution_count": 89,
   "id": "0385ad49",
   "metadata": {},
   "outputs": [
    {
     "data": {
      "text/plain": [
       "[{'f1': 0.9114680860278866,\n",
       "  'precision': 0.940102257559516,\n",
       "  'recall': 0.884536076394941,\n",
       "  'TP': 1287.0,\n",
       "  'TN': 48463.0,\n",
       "  'FP': 82.0,\n",
       "  'FN': 168.0,\n",
       "  'threshold': 0.11421999999999999,\n",
       "  'latency': 29.66633704069955},\n",
       " {'f1': 0.9156576486558818,\n",
       "  'precision': 0.9033468848816174,\n",
       "  'recall': 0.9283188655470302,\n",
       "  'TP': 2888,\n",
       "  'TN': 16580,\n",
       "  'FP': 309,\n",
       "  'FN': 223,\n",
       "  'threshold': 0.0343,\n",
       "  'latency': 51.28498164311939},\n",
       " {'f1': 0.4860464001809686,\n",
       "  'precision': 0.4776999999999758,\n",
       "  'recall': 0.49469999999997405,\n",
       "  'TP': 94527276.0,\n",
       "  'TN': 105567276.0,\n",
       "  'FP': 103352724.0,\n",
       "  'FN': 96552724.0,\n",
       "  'threshold': 0.00766,\n",
       "  'latency': 26.713904087084472},\n",
       " {'f1': 0.7424884936801991,\n",
       "  'precision': 0.5904486166360547,\n",
       "  'recall': 0.9999999754901967,\n",
       "  'TP': 408,\n",
       "  'TN': 19309,\n",
       "  'FP': 283,\n",
       "  'FN': 0,\n",
       "  'threshold': 0.24741999999999997,\n",
       "  'latency': 24.332522249258357}]"
      ]
     },
     "execution_count": 89,
     "metadata": {},
     "output_type": "execute_result"
    }
   ],
   "source": [
    "[if_bf_evals[i] for i in range(4)]"
   ]
  },
  {
   "cell_type": "code",
   "execution_count": 21,
   "id": "965de2e4",
   "metadata": {},
   "outputs": [
    {
     "name": "stdout",
     "output_type": "stream",
     "text": [
      "test: (20000, 55)\n",
      "train: (20000, 55)\n",
      "test_labels: (20000,)\n"
     ]
    },
    {
     "name": "stderr",
     "output_type": "stream",
     "text": [
      "/home/yons/anaconda3/envs/qisibo_pyod/lib/python3.7/site-packages/sklearn/neighbors/base.py:442: DeprecationWarning: distutils Version classes are deprecated. Use packaging.version instead.\n",
      "  old_joblib = LooseVersion(joblib_version) < LooseVersion('0.12')\n",
      "/home/yons/anaconda3/envs/qisibo_pyod/lib/python3.7/site-packages/sklearn/neighbors/base.py:442: DeprecationWarning: distutils Version classes are deprecated. Use packaging.version instead.\n",
      "  old_joblib = LooseVersion(joblib_version) < LooseVersion('0.12')\n",
      "/home/yons/anaconda3/envs/qisibo_pyod/lib/python3.7/site-packages/sklearn/neighbors/base.py:442: DeprecationWarning: distutils Version classes are deprecated. Use packaging.version instead.\n",
      "  old_joblib = LooseVersion(joblib_version) < LooseVersion('0.12')\n",
      "/home/yons/anaconda3/envs/qisibo_pyod/lib/python3.7/site-packages/sklearn/neighbors/base.py:442: DeprecationWarning: distutils Version classes are deprecated. Use packaging.version instead.\n",
      "  old_joblib = LooseVersion(joblib_version) < LooseVersion('0.12')\n"
     ]
    },
    {
     "name": "stdout",
     "output_type": "stream",
     "text": [
      "Finding best f1-score by searching for threshold..\n",
      "test: (20000, 55)\n",
      "train: (20000, 55)\n",
      "test_labels: (20000,)\n"
     ]
    },
    {
     "name": "stderr",
     "output_type": "stream",
     "text": [
      "/home/yons/anaconda3/envs/qisibo_pyod/lib/python3.7/site-packages/sklearn/neighbors/base.py:442: DeprecationWarning: distutils Version classes are deprecated. Use packaging.version instead.\n",
      "  old_joblib = LooseVersion(joblib_version) < LooseVersion('0.12')\n",
      "/home/yons/anaconda3/envs/qisibo_pyod/lib/python3.7/site-packages/sklearn/neighbors/base.py:442: DeprecationWarning: distutils Version classes are deprecated. Use packaging.version instead.\n",
      "  old_joblib = LooseVersion(joblib_version) < LooseVersion('0.12')\n"
     ]
    },
    {
     "name": "stdout",
     "output_type": "stream",
     "text": [
      "Finding best f1-score by searching for threshold..\n",
      "test: (20000, 55)\n",
      "train: (20000, 55)\n",
      "test_labels: (20000,)\n"
     ]
    },
    {
     "name": "stderr",
     "output_type": "stream",
     "text": [
      "/home/yons/anaconda3/envs/qisibo_pyod/lib/python3.7/site-packages/sklearn/ensemble/iforest.py:223: FutureWarning: behaviour=\"old\" is deprecated and will be removed in version 0.22. Please use behaviour=\"new\", which makes the decision_function change to match other anomaly detection algorithm API.\n",
      "  FutureWarning)\n"
     ]
    },
    {
     "name": "stdout",
     "output_type": "stream",
     "text": [
      "Finding best f1-score by searching for threshold..\n",
      "test: (20000, 55)\n",
      "train: (20000, 55)\n",
      "test_labels: (20000,)\n"
     ]
    },
    {
     "name": "stderr",
     "output_type": "stream",
     "text": [
      "/home/yons/anaconda3/envs/qisibo_pyod/lib/python3.7/site-packages/sklearn/neighbors/base.py:442: DeprecationWarning: distutils Version classes are deprecated. Use packaging.version instead.\n",
      "  old_joblib = LooseVersion(joblib_version) < LooseVersion('0.12')\n",
      "/home/yons/anaconda3/envs/qisibo_pyod/lib/python3.7/site-packages/sklearn/neighbors/base.py:442: DeprecationWarning: distutils Version classes are deprecated. Use packaging.version instead.\n",
      "  old_joblib = LooseVersion(joblib_version) < LooseVersion('0.12')\n",
      "/home/yons/anaconda3/envs/qisibo_pyod/lib/python3.7/site-packages/sklearn/neighbors/base.py:442: DeprecationWarning: distutils Version classes are deprecated. Use packaging.version instead.\n",
      "  old_joblib = LooseVersion(joblib_version) < LooseVersion('0.12')\n",
      "/home/yons/anaconda3/envs/qisibo_pyod/lib/python3.7/site-packages/sklearn/neighbors/base.py:442: DeprecationWarning: distutils Version classes are deprecated. Use packaging.version instead.\n",
      "  old_joblib = LooseVersion(joblib_version) < LooseVersion('0.12')\n"
     ]
    },
    {
     "name": "stdout",
     "output_type": "stream",
     "text": [
      "Finding best f1-score by searching for threshold..\n",
      "test: (20000, 55)\n",
      "train: (20000, 55)\n",
      "test_labels: (20000,)\n"
     ]
    },
    {
     "name": "stderr",
     "output_type": "stream",
     "text": [
      "/home/yons/anaconda3/envs/qisibo_pyod/lib/python3.7/site-packages/sklearn/neighbors/base.py:442: DeprecationWarning: distutils Version classes are deprecated. Use packaging.version instead.\n",
      "  old_joblib = LooseVersion(joblib_version) < LooseVersion('0.12')\n",
      "/home/yons/anaconda3/envs/qisibo_pyod/lib/python3.7/site-packages/sklearn/neighbors/base.py:442: DeprecationWarning: distutils Version classes are deprecated. Use packaging.version instead.\n",
      "  old_joblib = LooseVersion(joblib_version) < LooseVersion('0.12')\n"
     ]
    },
    {
     "name": "stdout",
     "output_type": "stream",
     "text": [
      "Finding best f1-score by searching for threshold..\n",
      "test: (20000, 55)\n",
      "train: (20000, 55)\n",
      "test_labels: (20000,)\n"
     ]
    },
    {
     "name": "stderr",
     "output_type": "stream",
     "text": [
      "/home/yons/anaconda3/envs/qisibo_pyod/lib/python3.7/site-packages/sklearn/ensemble/iforest.py:223: FutureWarning: behaviour=\"old\" is deprecated and will be removed in version 0.22. Please use behaviour=\"new\", which makes the decision_function change to match other anomaly detection algorithm API.\n",
      "  FutureWarning)\n"
     ]
    },
    {
     "name": "stdout",
     "output_type": "stream",
     "text": [
      "Finding best f1-score by searching for threshold..\n",
      "test: (20000, 55)\n",
      "train: (20000, 55)\n",
      "test_labels: (20000,)\n"
     ]
    },
    {
     "name": "stderr",
     "output_type": "stream",
     "text": [
      "/home/yons/anaconda3/envs/qisibo_pyod/lib/python3.7/site-packages/sklearn/neighbors/base.py:442: DeprecationWarning: distutils Version classes are deprecated. Use packaging.version instead.\n",
      "  old_joblib = LooseVersion(joblib_version) < LooseVersion('0.12')\n",
      "/home/yons/anaconda3/envs/qisibo_pyod/lib/python3.7/site-packages/sklearn/neighbors/base.py:442: DeprecationWarning: distutils Version classes are deprecated. Use packaging.version instead.\n",
      "  old_joblib = LooseVersion(joblib_version) < LooseVersion('0.12')\n",
      "/home/yons/anaconda3/envs/qisibo_pyod/lib/python3.7/site-packages/sklearn/neighbors/base.py:442: DeprecationWarning: distutils Version classes are deprecated. Use packaging.version instead.\n",
      "  old_joblib = LooseVersion(joblib_version) < LooseVersion('0.12')\n",
      "/home/yons/anaconda3/envs/qisibo_pyod/lib/python3.7/site-packages/sklearn/neighbors/base.py:442: DeprecationWarning: distutils Version classes are deprecated. Use packaging.version instead.\n",
      "  old_joblib = LooseVersion(joblib_version) < LooseVersion('0.12')\n"
     ]
    },
    {
     "name": "stdout",
     "output_type": "stream",
     "text": [
      "Finding best f1-score by searching for threshold..\n",
      "test: (20000, 55)\n",
      "train: (20000, 55)\n",
      "test_labels: (20000,)\n"
     ]
    },
    {
     "name": "stderr",
     "output_type": "stream",
     "text": [
      "/home/yons/anaconda3/envs/qisibo_pyod/lib/python3.7/site-packages/sklearn/neighbors/base.py:442: DeprecationWarning: distutils Version classes are deprecated. Use packaging.version instead.\n",
      "  old_joblib = LooseVersion(joblib_version) < LooseVersion('0.12')\n",
      "/home/yons/anaconda3/envs/qisibo_pyod/lib/python3.7/site-packages/sklearn/neighbors/base.py:442: DeprecationWarning: distutils Version classes are deprecated. Use packaging.version instead.\n",
      "  old_joblib = LooseVersion(joblib_version) < LooseVersion('0.12')\n"
     ]
    },
    {
     "name": "stdout",
     "output_type": "stream",
     "text": [
      "Finding best f1-score by searching for threshold..\n",
      "test: (20000, 55)\n",
      "train: (20000, 55)\n",
      "test_labels: (20000,)\n"
     ]
    },
    {
     "name": "stderr",
     "output_type": "stream",
     "text": [
      "/home/yons/anaconda3/envs/qisibo_pyod/lib/python3.7/site-packages/sklearn/ensemble/iforest.py:223: FutureWarning: behaviour=\"old\" is deprecated and will be removed in version 0.22. Please use behaviour=\"new\", which makes the decision_function change to match other anomaly detection algorithm API.\n",
      "  FutureWarning)\n"
     ]
    },
    {
     "name": "stdout",
     "output_type": "stream",
     "text": [
      "Finding best f1-score by searching for threshold..\n",
      "test: (20000, 55)\n",
      "train: (20000, 55)\n",
      "test_labels: (20000,)\n"
     ]
    },
    {
     "name": "stderr",
     "output_type": "stream",
     "text": [
      "/home/yons/anaconda3/envs/qisibo_pyod/lib/python3.7/site-packages/sklearn/neighbors/base.py:442: DeprecationWarning: distutils Version classes are deprecated. Use packaging.version instead.\n",
      "  old_joblib = LooseVersion(joblib_version) < LooseVersion('0.12')\n",
      "/home/yons/anaconda3/envs/qisibo_pyod/lib/python3.7/site-packages/sklearn/neighbors/base.py:442: DeprecationWarning: distutils Version classes are deprecated. Use packaging.version instead.\n",
      "  old_joblib = LooseVersion(joblib_version) < LooseVersion('0.12')\n",
      "/home/yons/anaconda3/envs/qisibo_pyod/lib/python3.7/site-packages/sklearn/neighbors/base.py:442: DeprecationWarning: distutils Version classes are deprecated. Use packaging.version instead.\n",
      "  old_joblib = LooseVersion(joblib_version) < LooseVersion('0.12')\n",
      "/home/yons/anaconda3/envs/qisibo_pyod/lib/python3.7/site-packages/sklearn/neighbors/base.py:442: DeprecationWarning: distutils Version classes are deprecated. Use packaging.version instead.\n",
      "  old_joblib = LooseVersion(joblib_version) < LooseVersion('0.12')\n"
     ]
    },
    {
     "name": "stdout",
     "output_type": "stream",
     "text": [
      "Finding best f1-score by searching for threshold..\n",
      "test: (20000, 55)\n",
      "train: (20000, 55)\n",
      "test_labels: (20000,)\n"
     ]
    },
    {
     "name": "stderr",
     "output_type": "stream",
     "text": [
      "/home/yons/anaconda3/envs/qisibo_pyod/lib/python3.7/site-packages/sklearn/neighbors/base.py:442: DeprecationWarning: distutils Version classes are deprecated. Use packaging.version instead.\n",
      "  old_joblib = LooseVersion(joblib_version) < LooseVersion('0.12')\n",
      "/home/yons/anaconda3/envs/qisibo_pyod/lib/python3.7/site-packages/sklearn/neighbors/base.py:442: DeprecationWarning: distutils Version classes are deprecated. Use packaging.version instead.\n",
      "  old_joblib = LooseVersion(joblib_version) < LooseVersion('0.12')\n"
     ]
    },
    {
     "name": "stdout",
     "output_type": "stream",
     "text": [
      "Finding best f1-score by searching for threshold..\n",
      "test: (20000, 55)\n",
      "train: (20000, 55)\n",
      "test_labels: (20000,)\n"
     ]
    },
    {
     "name": "stderr",
     "output_type": "stream",
     "text": [
      "/home/yons/anaconda3/envs/qisibo_pyod/lib/python3.7/site-packages/sklearn/ensemble/iforest.py:223: FutureWarning: behaviour=\"old\" is deprecated and will be removed in version 0.22. Please use behaviour=\"new\", which makes the decision_function change to match other anomaly detection algorithm API.\n",
      "  FutureWarning)\n"
     ]
    },
    {
     "name": "stdout",
     "output_type": "stream",
     "text": [
      "Finding best f1-score by searching for threshold..\n",
      "test: (20000, 55)\n",
      "train: (18317, 55)\n",
      "test_labels: (20000,)\n"
     ]
    },
    {
     "name": "stderr",
     "output_type": "stream",
     "text": [
      "/home/yons/anaconda3/envs/qisibo_pyod/lib/python3.7/site-packages/sklearn/neighbors/base.py:442: DeprecationWarning: distutils Version classes are deprecated. Use packaging.version instead.\n",
      "  old_joblib = LooseVersion(joblib_version) < LooseVersion('0.12')\n",
      "/home/yons/anaconda3/envs/qisibo_pyod/lib/python3.7/site-packages/sklearn/neighbors/base.py:442: DeprecationWarning: distutils Version classes are deprecated. Use packaging.version instead.\n",
      "  old_joblib = LooseVersion(joblib_version) < LooseVersion('0.12')\n",
      "/home/yons/anaconda3/envs/qisibo_pyod/lib/python3.7/site-packages/sklearn/neighbors/base.py:442: DeprecationWarning: distutils Version classes are deprecated. Use packaging.version instead.\n",
      "  old_joblib = LooseVersion(joblib_version) < LooseVersion('0.12')\n",
      "/home/yons/anaconda3/envs/qisibo_pyod/lib/python3.7/site-packages/sklearn/neighbors/base.py:442: DeprecationWarning: distutils Version classes are deprecated. Use packaging.version instead.\n",
      "  old_joblib = LooseVersion(joblib_version) < LooseVersion('0.12')\n"
     ]
    },
    {
     "name": "stdout",
     "output_type": "stream",
     "text": [
      "Finding best f1-score by searching for threshold..\n",
      "test: (20000, 55)\n",
      "train: (18317, 55)\n",
      "test_labels: (20000,)\n"
     ]
    },
    {
     "name": "stderr",
     "output_type": "stream",
     "text": [
      "/home/yons/anaconda3/envs/qisibo_pyod/lib/python3.7/site-packages/sklearn/neighbors/base.py:442: DeprecationWarning: distutils Version classes are deprecated. Use packaging.version instead.\n",
      "  old_joblib = LooseVersion(joblib_version) < LooseVersion('0.12')\n",
      "/home/yons/anaconda3/envs/qisibo_pyod/lib/python3.7/site-packages/sklearn/neighbors/base.py:442: DeprecationWarning: distutils Version classes are deprecated. Use packaging.version instead.\n",
      "  old_joblib = LooseVersion(joblib_version) < LooseVersion('0.12')\n"
     ]
    },
    {
     "name": "stdout",
     "output_type": "stream",
     "text": [
      "Finding best f1-score by searching for threshold..\n",
      "test: (20000, 55)\n",
      "train: (18317, 55)\n",
      "test_labels: (20000,)\n"
     ]
    },
    {
     "name": "stderr",
     "output_type": "stream",
     "text": [
      "/home/yons/anaconda3/envs/qisibo_pyod/lib/python3.7/site-packages/sklearn/ensemble/iforest.py:223: FutureWarning: behaviour=\"old\" is deprecated and will be removed in version 0.22. Please use behaviour=\"new\", which makes the decision_function change to match other anomaly detection algorithm API.\n",
      "  FutureWarning)\n"
     ]
    },
    {
     "name": "stdout",
     "output_type": "stream",
     "text": [
      "Finding best f1-score by searching for threshold..\n"
     ]
    }
   ],
   "source": [
    "def get_datai(data_set,i):\n",
    "    data_path = f'dataset/{data_set}'\n",
    "    if data_set == 'SMD':\n",
    "        index = 100000*3\n",
    "        length = 50000\n",
    "    elif data_set == 'PSM':\n",
    "        index = 0\n",
    "        length = 20000\n",
    "    else:\n",
    "        index = 10000*i\n",
    "        length = 20000\n",
    "    if data_set == 'PSM':\n",
    "        # scaler = StandardScaler()\n",
    "        data = pd.read_csv(data_path + '/PSM_train.csv')[index:index + length]\n",
    "        data = data.values[:, 1:]\n",
    "\n",
    "        data = np.nan_to_num(data)\n",
    "\n",
    "        # scaler.fit(data)\n",
    "        # data = scaler.transform(data)\n",
    "        test_data = pd.read_csv(data_path + '/PSM_test.csv')[index:index + length]\n",
    "\n",
    "        test_data = test_data.values[:, 1:]\n",
    "        test_data = np.nan_to_num(test_data)\n",
    "\n",
    "        # test = scaler.transform(test_data)\n",
    "        test = test_data\n",
    "\n",
    "        train = data\n",
    "\n",
    "        test_labels = pd.read_csv(data_path + '/PSM_test_label.csv')[index:index + length].values[:, 1:].astype(int)\n",
    "    if data_set == 'MSL':\n",
    "        scaler = MinMaxScaler()\n",
    "        data = np.load(data_path + f\"/{data_set}_train.npy\")[index:index + length]\n",
    "        scaler.fit(data)\n",
    "        data = scaler.transform(data)\n",
    "        test_data = np.load(data_path + f\"/{data_set}_test.npy\")[index:index + length]\n",
    "        test_data = scaler.transform(test_data)\n",
    "        test = test_data\n",
    "\n",
    "        train = data\n",
    "        test_labels = np.load(data_path + f\"/{data_set}_test_label.npy\")[index:index + length].astype(int)\n",
    "    else:\n",
    "        # self.scaler = StandardScaler()\n",
    "        data = np.load(data_path + f\"/{data_set}_train.npy\")[index:index + length]\n",
    "        # self.scaler.fit(data)\n",
    "        # data = self.scaler.transform(data)\n",
    "        test_data = np.load(data_path + f\"/{data_set}_test.npy\")[index:index + length]\n",
    "        # self.test = self.scaler.transform(test_data)\n",
    "        test = test_data\n",
    "\n",
    "        train = data\n",
    "        test_labels = np.load(data_path + f\"/{data_set}_test_label.npy\")[index:index + length].astype(int)\n",
    "    print(\"test:\", test.shape)\n",
    "    print(\"train:\", train.shape)\n",
    "    print(\"test_labels:\", test_labels.shape)\n",
    "    return train,test,test_labels\n",
    "\n",
    "data_sets = ['MSL']\n",
    "lof_bf_evals = []\n",
    "if_bf_evals = []\n",
    "for i in range(5):\n",
    "    for d in data_sets:\n",
    "        X_train,X_test,labels = get_datai(d,i)\n",
    "        lof_bf_evals.append(use_lof(X_train,X_test,labels))\n",
    "    for d in data_sets:\n",
    "        X_train,X_test,labels = get_datai(d,i)\n",
    "        knn_bf_evals.append(use_knn(X_train,X_test,labels))\n",
    "    for d in data_sets:\n",
    "        X_train,X_test,labels = get_datai(d,i)\n",
    "        if_bf_evals.append(use_iforest(X_train,X_test,labels))"
   ]
  },
  {
   "cell_type": "code",
   "execution_count": 24,
   "id": "57339034",
   "metadata": {},
   "outputs": [
    {
     "data": {
      "text/plain": [
       "[{'f1': 0.9230022512855854,\n",
       "  'precision': 0.9640491912769669,\n",
       "  'recall': 0.8853171117058335,\n",
       "  'TP': 2038,\n",
       "  'TN': 17622,\n",
       "  'FP': 76,\n",
       "  'FN': 264,\n",
       "  'threshold': 0.9134199999999999,\n",
       "  'latency': 114.873564080449},\n",
       " {'f1': 0.8838765787954581,\n",
       "  'precision': 0.9050185217075832,\n",
       "  'recall': 0.8637094154171988,\n",
       "  'TP': 2687,\n",
       "  'TN': 16607,\n",
       "  'FP': 282,\n",
       "  'FN': 424,\n",
       "  'threshold': 0.24741999999999997,\n",
       "  'latency': 111.16481391976801},\n",
       " {'f1': 0.8723427608372939,\n",
       "  'precision': 0.8249457682756057,\n",
       "  'recall': 0.9255293236175972,\n",
       "  'TP': 3803,\n",
       "  'TN': 15084,\n",
       "  'FP': 807,\n",
       "  'FN': 306,\n",
       "  'threshold': 0.22077999999999998,\n",
       "  'latency': 160.56913472664678},\n",
       " {'f1': 0.8856498819566361,\n",
       "  'precision': 0.8781493317537822,\n",
       "  'recall': 0.8932898374031227,\n",
       "  'TP': 1917,\n",
       "  'TN': 17588,\n",
       "  'FP': 266,\n",
       "  'FN': 229,\n",
       "  'threshold': 0.6336999999999999,\n",
       "  'latency': 64.57050613562663},\n",
       " {'f1': 0.8387046868661625,\n",
       "  'precision': 0.8996539636738069,\n",
       "  'recall': 0.785498477560446,\n",
       "  'TP': 520,\n",
       "  'TN': 19280,\n",
       "  'FP': 58,\n",
       "  'FN': 142,\n",
       "  'threshold': 0.39393999999999996,\n",
       "  'latency': 12.999675008124798}]"
      ]
     },
     "execution_count": 24,
     "metadata": {},
     "output_type": "execute_result"
    }
   ],
   "source": [
    "[knn_bf_evals[i] for i in range(5)]"
   ]
  },
  {
   "cell_type": "code",
   "execution_count": 23,
   "id": "0490b503",
   "metadata": {},
   "outputs": [
    {
     "data": {
      "text/plain": [
       "[{'f1': 0.510799138104054,\n",
       "  'precision': 0.9912390364050183,\n",
       "  'recall': 0.3440486518503533,\n",
       "  'TP': 792,\n",
       "  'TN': 17691,\n",
       "  'FP': 7,\n",
       "  'FN': 1510,\n",
       "  'threshold': 0.00766,\n",
       "  'latency': 117.4941252937353},\n",
       " {'f1': 0.8930067546538943,\n",
       "  'precision': 0.8602919247533752,\n",
       "  'recall': 0.9283188655470302,\n",
       "  'TP': 2888,\n",
       "  'TN': 16420,\n",
       "  'FP': 469,\n",
       "  'FN': 223,\n",
       "  'threshold': 0.02098,\n",
       "  'latency': 44.71364694790075},\n",
       " {'f1': 0.9157185717040606,\n",
       "  'precision': 0.9061234193325628,\n",
       "  'recall': 0.9255293236175972,\n",
       "  'TP': 3803,\n",
       "  'TN': 15497,\n",
       "  'FP': 394,\n",
       "  'FN': 306,\n",
       "  'threshold': 0.00766,\n",
       "  'latency': 47.57074898930016},\n",
       " {'f1': 0.8246819454084952,\n",
       "  'precision': 0.7927772966776556,\n",
       "  'recall': 0.8592730621655494,\n",
       "  'TP': 1844,\n",
       "  'TN': 17372,\n",
       "  'FP': 482,\n",
       "  'FN': 302,\n",
       "  'threshold': 0.00766,\n",
       "  'latency': 36.57090612991243},\n",
       " {'f1': 0.5595192898448267,\n",
       "  'precision': 0.8150288781783562,\n",
       "  'recall': 0.4259818666770111,\n",
       "  'TP': 282,\n",
       "  'TN': 19274,\n",
       "  'FP': 64,\n",
       "  'FN': 380,\n",
       "  'threshold': 0.00766,\n",
       "  'latency': 132.49337533123344}]"
      ]
     },
     "execution_count": 23,
     "metadata": {},
     "output_type": "execute_result"
    }
   ],
   "source": [
    "[if_bf_evals[i] for i in range(5)]"
   ]
  },
  {
   "cell_type": "code",
   "execution_count": 15,
   "id": "201d60c1",
   "metadata": {},
   "outputs": [
    {
     "data": {
      "text/plain": [
       "[{'f1': 0.23922886270039054,\n",
       "  'precision': 0.13586731975691005,\n",
       "  'recall': 0.9999999956559513,\n",
       "  'TP': 2302,\n",
       "  'TN': 3057,\n",
       "  'FP': 14641,\n",
       "  'FN': 0,\n",
       "  'threshold': 0.9999999999999999,\n",
       "  'latency': 0.0},\n",
       " {'f1': 0.30274749067782636,\n",
       "  'precision': 0.17838705966594753,\n",
       "  'recall': 0.9996785567352022,\n",
       "  'TP': 3110,\n",
       "  'TN': 2565,\n",
       "  'FP': 14324,\n",
       "  'FN': 1,\n",
       "  'threshold': 0.9999999999999999,\n",
       "  'latency': 0.4444395062277086},\n",
       " {'f1': 0.36325565749822114,\n",
       "  'precision': 0.22194015327755204,\n",
       "  'recall': 0.9999999975663179,\n",
       "  'TP': 4109,\n",
       "  'TN': 1486,\n",
       "  'FP': 14405,\n",
       "  'FN': 0,\n",
       "  'threshold': 0.9999999999999999,\n",
       "  'latency': 0.2999970000299997},\n",
       " {'f1': 0.20859066643507787,\n",
       "  'precision': 0.11644058593790527,\n",
       "  'recall': 0.9999999953401677,\n",
       "  'TP': 2146,\n",
       "  'TN': 1570,\n",
       "  'FP': 16284,\n",
       "  'FN': 0,\n",
       "  'threshold': 0.9999999999999999,\n",
       "  'latency': 0.2222197531138543},\n",
       " {'f1': 0.08951909066614529,\n",
       "  'precision': 0.04685730461009534,\n",
       "  'recall': 0.9999999848942601,\n",
       "  'TP': 662,\n",
       "  'TN': 5872,\n",
       "  'FP': 13466,\n",
       "  'FN': 0,\n",
       "  'threshold': 0.9999999999999999,\n",
       "  'latency': 0.1666638889351844}]"
      ]
     },
     "execution_count": 15,
     "metadata": {},
     "output_type": "execute_result"
    }
   ],
   "source": [
    "[lof_bf_evals[i] for i in range(5)]"
   ]
  },
  {
   "cell_type": "code",
   "execution_count": 29,
   "id": "0186e87b",
   "metadata": {},
   "outputs": [],
   "source": [
    "def get_dataPSM(data_set):\n",
    "    data_path = f'dataset/{data_set}'\n",
    "    if data_set == 'SMD':\n",
    "        index = 100000*3\n",
    "        length = 50000\n",
    "    elif data_set == 'PSM':\n",
    "        index = 40000\n",
    "        length = 20000\n",
    "    else:\n",
    "        index = 10000\n",
    "        length = 20000\n",
    "    if data_set == 'PSM':\n",
    "        # scaler = StandardScaler()\n",
    "        data = pd.read_csv(data_path + '/PSM_train.csv')[index:index + length]\n",
    "        data = data.values[:, 1:]\n",
    "\n",
    "        data = np.nan_to_num(data)\n",
    "\n",
    "        # scaler.fit(data)\n",
    "        # data = scaler.transform(data)\n",
    "        test_data = pd.read_csv(data_path + '/PSM_test.csv')[index:index + length]\n",
    "\n",
    "        test_data = test_data.values[:, 1:]\n",
    "        test_data = np.nan_to_num(test_data)\n",
    "\n",
    "        # test = scaler.transform(test_data)\n",
    "        test = test_data\n",
    "\n",
    "        train = data\n",
    "\n",
    "        test_labels = pd.read_csv(data_path + '/PSM_test_label.csv')[index:index + length].values[:, 1:]\n",
    "    else:\n",
    "        # self.scaler = StandardScaler()\n",
    "        data = np.load(data_path + f\"/{data_set}_train.npy\")[index:index + length]\n",
    "        # self.scaler.fit(data)\n",
    "        # data = self.scaler.transform(data)\n",
    "        test_data = np.load(data_path + f\"/{data_set}_test.npy\")[index:index + length]\n",
    "        # self.test = self.scaler.transform(test_data)\n",
    "        test = test_data\n",
    "\n",
    "        train = data\n",
    "        val = test\n",
    "        test_labels = np.load(data_path + f\"/{data_set}_test_label.npy\")[index:index + length]\n",
    "    print(\"test:\", test.shape)\n",
    "    print(\"train:\", train.shape)\n",
    "    return train,test,test_labels\n"
   ]
  },
  {
   "cell_type": "code",
   "execution_count": 27,
   "id": "94791cc2",
   "metadata": {},
   "outputs": [
    {
     "name": "stdout",
     "output_type": "stream",
     "text": [
      "test: (87841, 25)\n",
      "train: (120000, 25)\n"
     ]
    }
   ],
   "source": [
    "train,test,test_labels = get_dataPSM('PSM')"
   ]
  },
  {
   "cell_type": "code",
   "execution_count": 28,
   "id": "e920b48f",
   "metadata": {},
   "outputs": [
    {
     "data": {
      "text/plain": [
       "<AxesSubplot:>"
      ]
     },
     "execution_count": 28,
     "metadata": {},
     "output_type": "execute_result"
    },
    {
     "data": {
      "image/png": "[encoded data removed]",
      "text/plain": [
       "<Figure size 1080x216 with 1 Axes>"
      ]
     },
     "metadata": {
      "needs_background": "light"
     },
     "output_type": "display_data"
    }
   ],
   "source": [
    "pd.DataFrame(test_labels).plot(figsize=(15,3))"
   ]
  },
  {
   "cell_type": "code",
   "execution_count": 30,
   "id": "11549ad3",
   "metadata": {},
   "outputs": [
    {
     "name": "stdout",
     "output_type": "stream",
     "text": [
      "test: (20000, 25)\n",
      "train: (20000, 25)\n"
     ]
    },
    {
     "name": "stderr",
     "output_type": "stream",
     "text": [
      "/home/yons/anaconda3/envs/qisibo_pyod/lib/python3.7/site-packages/sklearn/neighbors/base.py:442: DeprecationWarning: distutils Version classes are deprecated. Use packaging.version instead.\n",
      "  old_joblib = LooseVersion(joblib_version) < LooseVersion('0.12')\n",
      "/home/yons/anaconda3/envs/qisibo_pyod/lib/python3.7/site-packages/sklearn/neighbors/base.py:442: DeprecationWarning: distutils Version classes are deprecated. Use packaging.version instead.\n",
      "  old_joblib = LooseVersion(joblib_version) < LooseVersion('0.12')\n",
      "/home/yons/anaconda3/envs/qisibo_pyod/lib/python3.7/site-packages/sklearn/neighbors/base.py:442: DeprecationWarning: distutils Version classes are deprecated. Use packaging.version instead.\n",
      "  old_joblib = LooseVersion(joblib_version) < LooseVersion('0.12')\n",
      "/home/yons/anaconda3/envs/qisibo_pyod/lib/python3.7/site-packages/sklearn/neighbors/base.py:442: DeprecationWarning: distutils Version classes are deprecated. Use packaging.version instead.\n",
      "  old_joblib = LooseVersion(joblib_version) < LooseVersion('0.12')\n"
     ]
    },
    {
     "name": "stdout",
     "output_type": "stream",
     "text": [
      "Finding best f1-score by searching for threshold..\n"
     ]
    },
    {
     "name": "stderr",
     "output_type": "stream",
     "text": [
      "/home/yons/anaconda3/envs/qisibo_pyod/lib/python3.7/site-packages/sklearn/neighbors/base.py:442: DeprecationWarning: distutils Version classes are deprecated. Use packaging.version instead.\n",
      "  old_joblib = LooseVersion(joblib_version) < LooseVersion('0.12')\n",
      "/home/yons/anaconda3/envs/qisibo_pyod/lib/python3.7/site-packages/sklearn/neighbors/base.py:442: DeprecationWarning: distutils Version classes are deprecated. Use packaging.version instead.\n",
      "  old_joblib = LooseVersion(joblib_version) < LooseVersion('0.12')\n"
     ]
    },
    {
     "name": "stdout",
     "output_type": "stream",
     "text": [
      "Finding best f1-score by searching for threshold..\n"
     ]
    },
    {
     "name": "stderr",
     "output_type": "stream",
     "text": [
      "/home/yons/anaconda3/envs/qisibo_pyod/lib/python3.7/site-packages/sklearn/ensemble/iforest.py:223: FutureWarning: behaviour=\"old\" is deprecated and will be removed in version 0.22. Please use behaviour=\"new\", which makes the decision_function change to match other anomaly detection algorithm API.\n",
      "  FutureWarning)\n"
     ]
    },
    {
     "name": "stdout",
     "output_type": "stream",
     "text": [
      "Finding best f1-score by searching for threshold..\n"
     ]
    }
   ],
   "source": [
    "for i in range(1):\n",
    "    X_train,X_test,labels = get_dataPSM('PSM')\n",
    "    for d in data_sets:\n",
    "        lof_bf_evals.append(use_lof(X_train,X_test,labels))\n",
    "    for d in data_sets:\n",
    "        knn_bf_evals.append(use_knn(X_train,X_test,labels))\n",
    "    for d in data_sets:\n",
    "        if_bf_evals.append(use_iforest(X_train,X_test,labels))"
   ]
  },
  {
   "cell_type": "code",
   "execution_count": null,
   "id": "56a88230",
   "metadata": {},
   "outputs": [],
   "source": []
  }
 ],
 "metadata": {
  "interpreter": {
   "hash": "99f4c275df4da83a3acf26f63bfc323d741cabf616ec82926380fd7ae6c57ced"
  },
  "kernelspec": {
   "display_name": "Python 3.7.13 ('qisibo_pyod')",
   "language": "python",
   "name": "python3"
  },
  "language_info": {
   "codemirror_mode": {
    "name": "ipython",
    "version": 3
   },
   "file_extension": ".py",
   "mimetype": "text/x-python",
   "name": "python",
   "nbconvert_exporter": "python",
   "pygments_lexer": "ipython3",
   "version": "3.7.13"
  }
 },
 "nbformat": 4,
 "nbformat_minor": 5
}
